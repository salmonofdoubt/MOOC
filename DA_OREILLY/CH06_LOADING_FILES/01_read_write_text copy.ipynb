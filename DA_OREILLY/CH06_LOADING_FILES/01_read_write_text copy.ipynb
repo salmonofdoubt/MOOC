{
 "nbformat": 4,
 "nbformat_minor": 2,
 "metadata": {
  "language_info": {
   "name": "python",
   "codemirror_mode": {
    "name": "ipython",
    "version": 3
   },
   "version": "3.7.5-final"
  },
  "orig_nbformat": 2,
  "file_extension": ".py",
  "mimetype": "text/x-python",
  "name": "python",
  "npconvert_exporter": "python",
  "pygments_lexer": "ipython3",
  "version": 3,
  "kernelspec": {
   "name": "python3",
   "display_name": "Python 3"
  }
 },
 "cells": [
  {
   "cell_type": "markdown",
   "metadata": {},
   "source": [
    "# READ AND WRITE TEXTFILES"
   ]
  },
  {
   "cell_type": "code",
   "execution_count": 21,
   "metadata": {},
   "outputs": [],
   "source": [
    "import pandas as pd\n",
    "import numpy as np\n",
    "from pandas import Series, DataFrame"
   ]
  },
  {
   "cell_type": "markdown",
   "metadata": {},
   "source": [
    "## FILE WITH USEFUL HEADER"
   ]
  },
  {
   "cell_type": "code",
   "execution_count": 22,
   "metadata": {},
   "outputs": [
    {
     "output_type": "stream",
     "name": "stdout",
     "text": "a,b,c,d,message\n1,2,3,4,hello\n5,6,7,8,world\n9,10,11,12,foo"
    }
   ],
   "source": [
    "!cat ../examples/ex1.csv"
   ]
  },
  {
   "cell_type": "code",
   "execution_count": 23,
   "metadata": {},
   "outputs": [
    {
     "output_type": "execute_result",
     "data": {
      "text/plain": "   a   b   c   d message\n0  1   2   3   4   hello\n1  5   6   7   8   world\n2  9  10  11  12     foo",
      "text/html": "<div>\n<style scoped>\n    .dataframe tbody tr th:only-of-type {\n        vertical-align: middle;\n    }\n\n    .dataframe tbody tr th {\n        vertical-align: top;\n    }\n\n    .dataframe thead th {\n        text-align: right;\n    }\n</style>\n<table border=\"1\" class=\"dataframe\">\n  <thead>\n    <tr style=\"text-align: right;\">\n      <th></th>\n      <th>a</th>\n      <th>b</th>\n      <th>c</th>\n      <th>d</th>\n      <th>message</th>\n    </tr>\n  </thead>\n  <tbody>\n    <tr>\n      <th>0</th>\n      <td>1</td>\n      <td>2</td>\n      <td>3</td>\n      <td>4</td>\n      <td>hello</td>\n    </tr>\n    <tr>\n      <th>1</th>\n      <td>5</td>\n      <td>6</td>\n      <td>7</td>\n      <td>8</td>\n      <td>world</td>\n    </tr>\n    <tr>\n      <th>2</th>\n      <td>9</td>\n      <td>10</td>\n      <td>11</td>\n      <td>12</td>\n      <td>foo</td>\n    </tr>\n  </tbody>\n</table>\n</div>"
     },
     "metadata": {},
     "execution_count": 23
    }
   ],
   "source": [
    "path1 = '../examples/ex1.csv'\n",
    "df1 = pd.read_csv(path1, sep=',')\n",
    "df1"
   ]
  },
  {
   "cell_type": "markdown",
   "metadata": {},
   "source": [
    "## FILE WITHOUT USEFUL HEADER"
   ]
  },
  {
   "cell_type": "code",
   "execution_count": 24,
   "metadata": {},
   "outputs": [
    {
     "output_type": "stream",
     "name": "stdout",
     "text": "1,2,3,4,hello\n5,6,7,8,world\n9,10,11,12,foo"
    },
    {
     "output_type": "execute_result",
     "data": {
      "text/plain": "   0   1   2   3      4\n0  1   2   3   4  hello\n1  5   6   7   8  world\n2  9  10  11  12    foo",
      "text/html": "<div>\n<style scoped>\n    .dataframe tbody tr th:only-of-type {\n        vertical-align: middle;\n    }\n\n    .dataframe tbody tr th {\n        vertical-align: top;\n    }\n\n    .dataframe thead th {\n        text-align: right;\n    }\n</style>\n<table border=\"1\" class=\"dataframe\">\n  <thead>\n    <tr style=\"text-align: right;\">\n      <th></th>\n      <th>0</th>\n      <th>1</th>\n      <th>2</th>\n      <th>3</th>\n      <th>4</th>\n    </tr>\n  </thead>\n  <tbody>\n    <tr>\n      <th>0</th>\n      <td>1</td>\n      <td>2</td>\n      <td>3</td>\n      <td>4</td>\n      <td>hello</td>\n    </tr>\n    <tr>\n      <th>1</th>\n      <td>5</td>\n      <td>6</td>\n      <td>7</td>\n      <td>8</td>\n      <td>world</td>\n    </tr>\n    <tr>\n      <th>2</th>\n      <td>9</td>\n      <td>10</td>\n      <td>11</td>\n      <td>12</td>\n      <td>foo</td>\n    </tr>\n  </tbody>\n</table>\n</div>"
     },
     "metadata": {},
     "execution_count": 24
    }
   ],
   "source": [
    "!cat ../examples/ex2.csv\n",
    "\n",
    "path2 = '../examples/ex2.csv'\n",
    "df2 = pd.read_csv(path2, sep=',', header=None) # header just numbers\n",
    "df2"
   ]
  },
  {
   "cell_type": "code",
   "execution_count": 25,
   "metadata": {},
   "outputs": [
    {
     "output_type": "execute_result",
     "data": {
      "text/plain": "         a   b   c   d\nmessage               \nhello    1   2   3   4\nworld    5   6   7   8\nfoo      9  10  11  12",
      "text/html": "<div>\n<style scoped>\n    .dataframe tbody tr th:only-of-type {\n        vertical-align: middle;\n    }\n\n    .dataframe tbody tr th {\n        vertical-align: top;\n    }\n\n    .dataframe thead th {\n        text-align: right;\n    }\n</style>\n<table border=\"1\" class=\"dataframe\">\n  <thead>\n    <tr style=\"text-align: right;\">\n      <th></th>\n      <th>a</th>\n      <th>b</th>\n      <th>c</th>\n      <th>d</th>\n    </tr>\n    <tr>\n      <th>message</th>\n      <th></th>\n      <th></th>\n      <th></th>\n      <th></th>\n    </tr>\n  </thead>\n  <tbody>\n    <tr>\n      <th>hello</th>\n      <td>1</td>\n      <td>2</td>\n      <td>3</td>\n      <td>4</td>\n    </tr>\n    <tr>\n      <th>world</th>\n      <td>5</td>\n      <td>6</td>\n      <td>7</td>\n      <td>8</td>\n    </tr>\n    <tr>\n      <th>foo</th>\n      <td>9</td>\n      <td>10</td>\n      <td>11</td>\n      <td>12</td>\n    </tr>\n  </tbody>\n</table>\n</div>"
     },
     "metadata": {},
     "execution_count": 25
    }
   ],
   "source": [
    "cols_ex2 = ['a', 'b', 'c', 'd', 'message']\n",
    "df2 = pd.read_csv(path2, sep=',', names=cols_ex2, index_col='message') \n",
    "df2"
   ]
  },
  {
   "cell_type": "markdown",
   "metadata": {},
   "source": [
    "## FILE WITHOUT DELIMITER (TXT)"
   ]
  },
  {
   "cell_type": "code",
   "execution_count": 26,
   "metadata": {},
   "outputs": [
    {
     "output_type": "execute_result",
     "data": {
      "text/plain": "               A         B         C\n0  aaa -0.264438 -1.026059 -0.619500\n1  bbb  0.927272  0.302904 -0.032399\n2  ccc -0.264273 -0.386314 -0.217601\n3  ddd -0.871858 -0.348382  1.100491",
      "text/html": "<div>\n<style scoped>\n    .dataframe tbody tr th:only-of-type {\n        vertical-align: middle;\n    }\n\n    .dataframe tbody tr th {\n        vertical-align: top;\n    }\n\n    .dataframe thead th {\n        text-align: right;\n    }\n</style>\n<table border=\"1\" class=\"dataframe\">\n  <thead>\n    <tr style=\"text-align: right;\">\n      <th></th>\n      <th>A         B         C</th>\n    </tr>\n  </thead>\n  <tbody>\n    <tr>\n      <th>0</th>\n      <td>aaa -0.264438 -1.026059 -0.619500</td>\n    </tr>\n    <tr>\n      <th>1</th>\n      <td>bbb  0.927272  0.302904 -0.032399</td>\n    </tr>\n    <tr>\n      <th>2</th>\n      <td>ccc -0.264273 -0.386314 -0.217601</td>\n    </tr>\n    <tr>\n      <th>3</th>\n      <td>ddd -0.871858 -0.348382  1.100491</td>\n    </tr>\n  </tbody>\n</table>\n</div>"
     },
     "metadata": {},
     "execution_count": 26
    }
   ],
   "source": [
    "path = '../examples/ex3.txt'\n",
    "list(open(path))\n",
    "df3 = pd.read_table(path)\n",
    "df3"
   ]
  },
  {
   "cell_type": "code",
   "execution_count": 27,
   "metadata": {},
   "outputs": [
    {
     "output_type": "execute_result",
     "data": {
      "text/plain": "            A         B         C\naaa -0.264438 -1.026059 -0.619500\nbbb  0.927272  0.302904 -0.032399\nccc -0.264273 -0.386314 -0.217601\nddd -0.871858 -0.348382  1.100491",
      "text/html": "<div>\n<style scoped>\n    .dataframe tbody tr th:only-of-type {\n        vertical-align: middle;\n    }\n\n    .dataframe tbody tr th {\n        vertical-align: top;\n    }\n\n    .dataframe thead th {\n        text-align: right;\n    }\n</style>\n<table border=\"1\" class=\"dataframe\">\n  <thead>\n    <tr style=\"text-align: right;\">\n      <th></th>\n      <th>A</th>\n      <th>B</th>\n      <th>C</th>\n    </tr>\n  </thead>\n  <tbody>\n    <tr>\n      <th>aaa</th>\n      <td>-0.264438</td>\n      <td>-1.026059</td>\n      <td>-0.619500</td>\n    </tr>\n    <tr>\n      <th>bbb</th>\n      <td>0.927272</td>\n      <td>0.302904</td>\n      <td>-0.032399</td>\n    </tr>\n    <tr>\n      <th>ccc</th>\n      <td>-0.264273</td>\n      <td>-0.386314</td>\n      <td>-0.217601</td>\n    </tr>\n    <tr>\n      <th>ddd</th>\n      <td>-0.871858</td>\n      <td>-0.348382</td>\n      <td>1.100491</td>\n    </tr>\n  </tbody>\n</table>\n</div>"
     },
     "metadata": {},
     "execution_count": 27
    }
   ],
   "source": [
    "df3 = pd.read_table(path, sep='\\s+')\n",
    "df3"
   ]
  },
  {
   "cell_type": "markdown",
   "metadata": {},
   "source": [
    "## SKIP ROWS"
   ]
  },
  {
   "cell_type": "code",
   "execution_count": 28,
   "metadata": {},
   "outputs": [
    {
     "output_type": "stream",
     "name": "stdout",
     "text": "# hey!\na,b,c,d,message\n# just wanted to make things more difficult for you\n# who reads CSV files with computers, anyway?\n1,2,3,4,hello\n5,6,7,8,world\n9,10,11,12,foo"
    }
   ],
   "source": [
    "!cat ../examples/ex4.csv\n",
    "path = '../examples/ex4.csv'"
   ]
  },
  {
   "cell_type": "code",
   "execution_count": 29,
   "metadata": {},
   "outputs": [
    {
     "output_type": "execute_result",
     "data": {
      "text/plain": "   a   b   c   d message\n0  1   2   3   4   hello\n1  5   6   7   8   world\n2  9  10  11  12     foo",
      "text/html": "<div>\n<style scoped>\n    .dataframe tbody tr th:only-of-type {\n        vertical-align: middle;\n    }\n\n    .dataframe tbody tr th {\n        vertical-align: top;\n    }\n\n    .dataframe thead th {\n        text-align: right;\n    }\n</style>\n<table border=\"1\" class=\"dataframe\">\n  <thead>\n    <tr style=\"text-align: right;\">\n      <th></th>\n      <th>a</th>\n      <th>b</th>\n      <th>c</th>\n      <th>d</th>\n      <th>message</th>\n    </tr>\n  </thead>\n  <tbody>\n    <tr>\n      <th>0</th>\n      <td>1</td>\n      <td>2</td>\n      <td>3</td>\n      <td>4</td>\n      <td>hello</td>\n    </tr>\n    <tr>\n      <th>1</th>\n      <td>5</td>\n      <td>6</td>\n      <td>7</td>\n      <td>8</td>\n      <td>world</td>\n    </tr>\n    <tr>\n      <th>2</th>\n      <td>9</td>\n      <td>10</td>\n      <td>11</td>\n      <td>12</td>\n      <td>foo</td>\n    </tr>\n  </tbody>\n</table>\n</div>"
     },
     "metadata": {},
     "execution_count": 29
    }
   ],
   "source": [
    "df4 = pd.read_csv(path, skiprows=[0,2,3])\n",
    "df4"
   ]
  },
  {
   "cell_type": "markdown",
   "metadata": {},
   "source": [
    "## MISSING DATA"
   ]
  },
  {
   "cell_type": "code",
   "execution_count": 30,
   "metadata": {},
   "outputs": [
    {
     "output_type": "stream",
     "name": "stdout",
     "text": "something,a,b,c,d,message\none,1,2,3,4,NA\ntwo,5,6,,8,world\nthree,9,10,11,12,foo"
    }
   ],
   "source": [
    "!cat ../examples/ex5.csv\n",
    "path5 = '../examples/ex5.csv'"
   ]
  },
  {
   "cell_type": "code",
   "execution_count": 31,
   "metadata": {},
   "outputs": [
    {
     "output_type": "execute_result",
     "data": {
      "text/plain": "  something  a   b     c   d message\n0       one  1   2   3.0   4     NaN\n1       two  5   6   NaN   8   world\n2     three  9  10  11.0  12     foo",
      "text/html": "<div>\n<style scoped>\n    .dataframe tbody tr th:only-of-type {\n        vertical-align: middle;\n    }\n\n    .dataframe tbody tr th {\n        vertical-align: top;\n    }\n\n    .dataframe thead th {\n        text-align: right;\n    }\n</style>\n<table border=\"1\" class=\"dataframe\">\n  <thead>\n    <tr style=\"text-align: right;\">\n      <th></th>\n      <th>something</th>\n      <th>a</th>\n      <th>b</th>\n      <th>c</th>\n      <th>d</th>\n      <th>message</th>\n    </tr>\n  </thead>\n  <tbody>\n    <tr>\n      <th>0</th>\n      <td>one</td>\n      <td>1</td>\n      <td>2</td>\n      <td>3.0</td>\n      <td>4</td>\n      <td>NaN</td>\n    </tr>\n    <tr>\n      <th>1</th>\n      <td>two</td>\n      <td>5</td>\n      <td>6</td>\n      <td>NaN</td>\n      <td>8</td>\n      <td>world</td>\n    </tr>\n    <tr>\n      <th>2</th>\n      <td>three</td>\n      <td>9</td>\n      <td>10</td>\n      <td>11.0</td>\n      <td>12</td>\n      <td>foo</td>\n    </tr>\n  </tbody>\n</table>\n</div>"
     },
     "metadata": {},
     "execution_count": 31
    }
   ],
   "source": [
    "df5 = pd.read_csv(path5)\n",
    "df5"
   ]
  },
  {
   "cell_type": "markdown",
   "metadata": {},
   "source": [
    "## PIECEMEAL"
   ]
  },
  {
   "cell_type": "code",
   "execution_count": 32,
   "metadata": {},
   "outputs": [
    {
     "output_type": "execute_result",
     "data": {
      "text/plain": "                                                                      # hey!\na                                                  b        c   d    message\n# just wanted to make things more difficult for... NaN      NaN NaN      NaN\n# who reads CSV files with computers                anyway? NaN NaN      NaN\n1                                                  2        3   4      hello\n5                                                  6        7   8      world",
      "text/html": "<div>\n<style scoped>\n    .dataframe tbody tr th:only-of-type {\n        vertical-align: middle;\n    }\n\n    .dataframe tbody tr th {\n        vertical-align: top;\n    }\n\n    .dataframe thead th {\n        text-align: right;\n    }\n</style>\n<table border=\"1\" class=\"dataframe\">\n  <thead>\n    <tr style=\"text-align: right;\">\n      <th></th>\n      <th></th>\n      <th></th>\n      <th></th>\n      <th># hey!</th>\n    </tr>\n  </thead>\n  <tbody>\n    <tr>\n      <th>a</th>\n      <th>b</th>\n      <th>c</th>\n      <th>d</th>\n      <td>message</td>\n    </tr>\n    <tr>\n      <th># just wanted to make things more difficult for you</th>\n      <th>NaN</th>\n      <th>NaN</th>\n      <th>NaN</th>\n      <td>NaN</td>\n    </tr>\n    <tr>\n      <th># who reads CSV files with computers</th>\n      <th>anyway?</th>\n      <th>NaN</th>\n      <th>NaN</th>\n      <td>NaN</td>\n    </tr>\n    <tr>\n      <th>1</th>\n      <th>2</th>\n      <th>3</th>\n      <th>4</th>\n      <td>hello</td>\n    </tr>\n    <tr>\n      <th>5</th>\n      <th>6</th>\n      <th>7</th>\n      <th>8</th>\n      <td>world</td>\n    </tr>\n  </tbody>\n</table>\n</div>"
     },
     "metadata": {},
     "execution_count": 32
    }
   ],
   "source": [
    "path6 = '../examples/ex6.csv'\n",
    "subset = pd.read_csv(path, nrows=5)\n",
    "subset"
   ]
  },
  {
   "cell_type": "code",
   "execution_count": 51,
   "metadata": {},
   "outputs": [
    {
     "output_type": "execute_result",
     "data": {
      "text/plain": "<pandas.io.parsers.TextFileReader at 0x11bf04850>"
     },
     "metadata": {},
     "execution_count": 51
    }
   ],
   "source": [
    "chunk = pd.read_csv(path6, chunksize=10)\n",
    "chunk"
   ]
  },
  {
   "cell_type": "code",
   "execution_count": 52,
   "metadata": {},
   "outputs": [
    {
     "output_type": "execute_result",
     "data": {
      "text/plain": "Z    288.0\nY    314.0\nX    364.0\nW    305.0\nV    328.0\nU    326.0\nT    304.0\nS    308.0\nR    318.0\nQ    340.0\ndtype: float64"
     },
     "metadata": {},
     "execution_count": 52
    }
   ],
   "source": [
    "tot_keys = Series([])\n",
    "for piece in chunk:\n",
    "    tot_keys = tot_keys.add(piece['key'].value_counts(), fill_value=0)\n",
    "\n",
    "#dir(tot_keys)\n",
    "\n",
    "tot_keys = tot_keys.sort_index(ascending=False)\n",
    "tot_keys[:10]"
   ]
  },
  {
   "cell_type": "markdown",
   "metadata": {},
   "source": [
    "## WRITE DATA"
   ]
  },
  {
   "cell_type": "code",
   "execution_count": 35,
   "metadata": {},
   "outputs": [
    {
     "output_type": "execute_result",
     "data": {
      "text/plain": "  |something|a|b|c|d|message\n0           0|one|1|2|3.0|4|\n1         1|two|5|6||8|world\n2   2|three|9|10|11.0|12|foo",
      "text/html": "<div>\n<style scoped>\n    .dataframe tbody tr th:only-of-type {\n        vertical-align: middle;\n    }\n\n    .dataframe tbody tr th {\n        vertical-align: top;\n    }\n\n    .dataframe thead th {\n        text-align: right;\n    }\n</style>\n<table border=\"1\" class=\"dataframe\">\n  <thead>\n    <tr style=\"text-align: right;\">\n      <th></th>\n      <th>|something|a|b|c|d|message</th>\n    </tr>\n  </thead>\n  <tbody>\n    <tr>\n      <th>0</th>\n      <td>0|one|1|2|3.0|4|</td>\n    </tr>\n    <tr>\n      <th>1</th>\n      <td>1|two|5|6||8|world</td>\n    </tr>\n    <tr>\n      <th>2</th>\n      <td>2|three|9|10|11.0|12|foo</td>\n    </tr>\n  </tbody>\n</table>\n</div>"
     },
     "metadata": {},
     "execution_count": 35
    }
   ],
   "source": [
    "path_in = '../examples/ex5.csv'\n",
    "path_out = '../examples/out5.csv'\n",
    "data = pd.read_csv(path_in)\n",
    "data.to_csv(path_out, sep='|')\n",
    "\n",
    "data = pd.read_csv(path_out)\n",
    "data\n",
    ""
   ]
  },
  {
   "cell_type": "markdown",
   "metadata": {},
   "source": [
    "## MANUALLY WORKING WITH DELIMITED FORMATS"
   ]
  },
  {
   "cell_type": "code",
   "execution_count": 36,
   "metadata": {},
   "outputs": [
    {
     "output_type": "stream",
     "name": "stdout",
     "text": "\"a\",\"b\",\"c\"\n\"1\",\"2\",\"3\"\n\"1\",\"2\",\"3\",\"4\"\n"
    }
   ],
   "source": [
    "!cat ../examples/ex7.csv"
   ]
  },
  {
   "cell_type": "code",
   "execution_count": 37,
   "metadata": {},
   "outputs": [
    {
     "output_type": "stream",
     "name": "stdout",
     "text": "['a', 'b', 'c']\n['1', '2', '3']\n['1', '2', '3', '4']\n"
    }
   ],
   "source": [
    "import csv\n",
    "path = '../examples/ex7.csv'\n",
    "f = open(path)\n",
    "reader = csv.reader(f)\n",
    "\n",
    "for line in reader:\n",
    "    print(line)"
   ]
  },
  {
   "cell_type": "code",
   "execution_count": 38,
   "metadata": {},
   "outputs": [
    {
     "output_type": "execute_result",
     "data": {
      "text/plain": "   0  1  2     3\n0  a  b  c  None\n1  1  2  3  None\n2  1  2  3     4",
      "text/html": "<div>\n<style scoped>\n    .dataframe tbody tr th:only-of-type {\n        vertical-align: middle;\n    }\n\n    .dataframe tbody tr th {\n        vertical-align: top;\n    }\n\n    .dataframe thead th {\n        text-align: right;\n    }\n</style>\n<table border=\"1\" class=\"dataframe\">\n  <thead>\n    <tr style=\"text-align: right;\">\n      <th></th>\n      <th>0</th>\n      <th>1</th>\n      <th>2</th>\n      <th>3</th>\n    </tr>\n  </thead>\n  <tbody>\n    <tr>\n      <th>0</th>\n      <td>a</td>\n      <td>b</td>\n      <td>c</td>\n      <td>None</td>\n    </tr>\n    <tr>\n      <th>1</th>\n      <td>1</td>\n      <td>2</td>\n      <td>3</td>\n      <td>None</td>\n    </tr>\n    <tr>\n      <th>2</th>\n      <td>1</td>\n      <td>2</td>\n      <td>3</td>\n      <td>4</td>\n    </tr>\n  </tbody>\n</table>\n</div>"
     },
     "metadata": {},
     "execution_count": 38
    }
   ],
   "source": [
    "lines = pd.DataFrame(list(csv.reader(open(path))))\n",
    "lines"
   ]
  },
  {
   "cell_type": "markdown",
   "metadata": {},
   "source": [
    "## JSON DATA\n",
    "####  JAVA SCRIPT OBJECT NOTATION"
   ]
  },
  {
   "cell_type": "code",
   "execution_count": 45,
   "metadata": {},
   "outputs": [
    {
     "output_type": "execute_result",
     "data": {
      "text/plain": "'\\n{\"name\"        : \"Andre\", \\n \"places_lived\": [\"GERMANY\", \"USA\", \"IRELAND\"],\\n \"pet\"         : \"Erwin\",\\n \"siblings\"    : [{\"name\": \"Uta\", \"age\": 25, \"pet\": \"Zimba\"}]\\n }\\n '"
     },
     "metadata": {},
     "execution_count": 45
    }
   ],
   "source": [
    "import json\n",
    "\n",
    "# JSON is nearly perfect Python code\n",
    "\n",
    "obj = \"\"\"\n",
    "{\"name\"        : \"Andre\", \n",
    " \"places_lived\": [\"GERMANY\", \"USA\", \"IRELAND\"],\n",
    " \"pet\"         : \"Erwin\",\n",
    " \"siblings\"    : [{\"name\": \"Uta\", \"age\": 25, \"pet\": \"Zimba\"}]\n",
    " }\n",
    " \"\"\"\n",
    "\n",
    "obj"
   ]
  },
  {
   "cell_type": "code",
   "execution_count": 53,
   "metadata": {},
   "outputs": [
    {
     "output_type": "execute_result",
     "data": {
      "text/plain": "{'name': 'Andre',\n 'places_lived': ['GERMANY', 'USA', 'IRELAND'],\n 'pet': 'Erwin',\n 'siblings': [{'name': 'Uta', 'age': 25, 'pet': 'Zimba'}]}"
     },
     "metadata": {},
     "execution_count": 53
    }
   ],
   "source": [
    "data = json.loads(obj)\n",
    "data"
   ]
  },
  {
   "cell_type": "code",
   "execution_count": 57,
   "metadata": {},
   "outputs": [
    {
     "output_type": "execute_result",
     "data": {
      "text/plain": "  name  age\n0  Uta   25",
      "text/html": "<div>\n<style scoped>\n    .dataframe tbody tr th:only-of-type {\n        vertical-align: middle;\n    }\n\n    .dataframe tbody tr th {\n        vertical-align: top;\n    }\n\n    .dataframe thead th {\n        text-align: right;\n    }\n</style>\n<table border=\"1\" class=\"dataframe\">\n  <thead>\n    <tr style=\"text-align: right;\">\n      <th></th>\n      <th>name</th>\n      <th>age</th>\n    </tr>\n  </thead>\n  <tbody>\n    <tr>\n      <th>0</th>\n      <td>Uta</td>\n      <td>25</td>\n    </tr>\n  </tbody>\n</table>\n</div>"
     },
     "metadata": {},
     "execution_count": 57
    }
   ],
   "source": [
    "siblings = DataFrame(data['siblings'], columns=['name', 'age'])\n",
    "siblings"
   ]
  },
  {
   "cell_type": "code",
   "execution_count": 60,
   "metadata": {},
   "outputs": [
    {
     "output_type": "execute_result",
     "data": {
      "text/plain": "'{\"name\": \"Andre\", \"places_lived\": [\"GERMANY\", \"USA\", \"IRELAND\"], \"pet\": \"Erwin\", \"siblings\": [{\"name\": \"Uta\", \"age\": 25, \"pet\": \"Zimba\"}]}'"
     },
     "metadata": {},
     "execution_count": 60
    }
   ],
   "source": [
    "data_to_json = json.dumps(data)\n",
    "data_to_json"
   ]
  },
  {
   "cell_type": "markdown",
   "metadata": {},
   "source": [
    "## HTML"
   ]
  },
  {
   "cell_type": "code",
   "execution_count": 65,
   "metadata": {},
   "outputs": [],
   "source": [
    "# lxml.de parses very large files\n",
    "from lxml.html import parse\n",
    "from urllib.request import urlopen\n",
    ""
   ]
  },
  {
   "cell_type": "code",
   "execution_count": 75,
   "metadata": {},
   "outputs": [
    {
     "output_type": "execute_result",
     "data": {
      "text/plain": "<Element html at 0x11d4f3350>"
     },
     "metadata": {},
     "execution_count": 75
    }
   ],
   "source": [
    "parsed = parse(urlopen('http://finance.yahoo.com/q/op?s=AAPL+Options'))\n",
    "doc = parsed.getroot()\n",
    "doc"
   ]
  },
  {
   "cell_type": "code",
   "execution_count": 76,
   "metadata": {},
   "outputs": [
    {
     "output_type": "execute_result",
     "data": {
      "text/plain": "'/quote/AAPL200327C00170000?p=AAPL200327C00170000'"
     },
     "metadata": {},
     "execution_count": 76
    }
   ],
   "source": [
    " links = doc.findall('.//a')\n",
    " links[:5]\n",
    " lnk = links[28]\n",
    " lnk.get('href')"
   ]
  },
  {
   "cell_type": "code",
   "execution_count": 77,
   "metadata": {},
   "outputs": [
    {
     "output_type": "execute_result",
     "data": {
      "text/plain": "'AAPL200327C00170000'"
     },
     "metadata": {},
     "execution_count": 77
    }
   ],
   "source": [
    "lnk.text_content()"
   ]
  },
  {
   "cell_type": "code",
   "execution_count": 85,
   "metadata": {},
   "outputs": [
    {
     "output_type": "execute_result",
     "data": {
      "text/plain": "['/watchlists',\n '/portfolios',\n '/screener',\n '/premium?ncid=navbarprem_fqbo1nu0ks0',\n '/calendar',\n '/news/',\n 'https://money.yahoo.com',\n '/videos/',\n '/industries',\n '/tech']"
     },
     "metadata": {},
     "execution_count": 85
    }
   ],
   "source": [
    "urls = [lnk.get('href') for lnk in doc.findall('.//a')]\n",
    "urls[-10:]"
   ]
  },
  {
   "cell_type": "markdown",
   "metadata": {},
   "source": [
    "## XML"
   ]
  },
  {
   "cell_type": "code",
   "execution_count": 86,
   "metadata": {},
   "outputs": [],
   "source": [
    "from lxml import objectify"
   ]
  },
  {
   "cell_type": "code",
   "execution_count": 99,
   "metadata": {},
   "outputs": [],
   "source": [
    "path = '../datasets/mta_perf/Performance_MNR.xml'\n",
    "parsed = objectify.parse(path)\n",
    "root = parsed.getroot()"
   ]
  },
  {
   "cell_type": "code",
   "execution_count": 100,
   "metadata": {},
   "outputs": [],
   "source": [
    "data = []\n",
    "skip_fields = ['PARENT_SEQ', 'INDICATOR_SEQ', 'DESIRED_CHANGE', 'DECIMAL_PLACES']"
   ]
  },
  {
   "cell_type": "code",
   "execution_count": 107,
   "metadata": {},
   "outputs": [
    {
     "output_type": "execute_result",
     "data": {
      "text/plain": "            AGENCY_NAME                        INDICATOR_NAME  \\\n0  Metro-North Railroad  On-Time Performance (West of Hudson)   \n1  Metro-North Railroad  On-Time Performance (West of Hudson)   \n2  Metro-North Railroad  On-Time Performance (West of Hudson)   \n3  Metro-North Railroad  On-Time Performance (West of Hudson)   \n4  Metro-North Railroad  On-Time Performance (West of Hudson)   \n\n                                         DESCRIPTION  PERIOD_YEAR  \\\n0  Percent of commuter trains that arrive at thei...         2008   \n1  Percent of commuter trains that arrive at thei...         2008   \n2  Percent of commuter trains that arrive at thei...         2008   \n3  Percent of commuter trains that arrive at thei...         2008   \n4  Percent of commuter trains that arrive at thei...         2008   \n\n   PERIOD_MONTH            CATEGORY FREQUENCY INDICATOR_UNIT YTD_TARGET  \\\n0             1  Service Indicators         M              %         95   \n1             2  Service Indicators         M              %         95   \n2             3  Service Indicators         M              %         95   \n3             4  Service Indicators         M              %         95   \n4             5  Service Indicators         M              %         95   \n\n  YTD_ACTUAL MONTHLY_TARGET MONTHLY_ACTUAL  \n0       96.9             95           96.9  \n1         96             95             95  \n2       96.3             95           96.9  \n3       96.8             95           98.3  \n4       96.6             95           95.8  ",
      "text/html": "<div>\n<style scoped>\n    .dataframe tbody tr th:only-of-type {\n        vertical-align: middle;\n    }\n\n    .dataframe tbody tr th {\n        vertical-align: top;\n    }\n\n    .dataframe thead th {\n        text-align: right;\n    }\n</style>\n<table border=\"1\" class=\"dataframe\">\n  <thead>\n    <tr style=\"text-align: right;\">\n      <th></th>\n      <th>AGENCY_NAME</th>\n      <th>INDICATOR_NAME</th>\n      <th>DESCRIPTION</th>\n      <th>PERIOD_YEAR</th>\n      <th>PERIOD_MONTH</th>\n      <th>CATEGORY</th>\n      <th>FREQUENCY</th>\n      <th>INDICATOR_UNIT</th>\n      <th>YTD_TARGET</th>\n      <th>YTD_ACTUAL</th>\n      <th>MONTHLY_TARGET</th>\n      <th>MONTHLY_ACTUAL</th>\n    </tr>\n  </thead>\n  <tbody>\n    <tr>\n      <th>0</th>\n      <td>Metro-North Railroad</td>\n      <td>On-Time Performance (West of Hudson)</td>\n      <td>Percent of commuter trains that arrive at thei...</td>\n      <td>2008</td>\n      <td>1</td>\n      <td>Service Indicators</td>\n      <td>M</td>\n      <td>%</td>\n      <td>95</td>\n      <td>96.9</td>\n      <td>95</td>\n      <td>96.9</td>\n    </tr>\n    <tr>\n      <th>1</th>\n      <td>Metro-North Railroad</td>\n      <td>On-Time Performance (West of Hudson)</td>\n      <td>Percent of commuter trains that arrive at thei...</td>\n      <td>2008</td>\n      <td>2</td>\n      <td>Service Indicators</td>\n      <td>M</td>\n      <td>%</td>\n      <td>95</td>\n      <td>96</td>\n      <td>95</td>\n      <td>95</td>\n    </tr>\n    <tr>\n      <th>2</th>\n      <td>Metro-North Railroad</td>\n      <td>On-Time Performance (West of Hudson)</td>\n      <td>Percent of commuter trains that arrive at thei...</td>\n      <td>2008</td>\n      <td>3</td>\n      <td>Service Indicators</td>\n      <td>M</td>\n      <td>%</td>\n      <td>95</td>\n      <td>96.3</td>\n      <td>95</td>\n      <td>96.9</td>\n    </tr>\n    <tr>\n      <th>3</th>\n      <td>Metro-North Railroad</td>\n      <td>On-Time Performance (West of Hudson)</td>\n      <td>Percent of commuter trains that arrive at thei...</td>\n      <td>2008</td>\n      <td>4</td>\n      <td>Service Indicators</td>\n      <td>M</td>\n      <td>%</td>\n      <td>95</td>\n      <td>96.8</td>\n      <td>95</td>\n      <td>98.3</td>\n    </tr>\n    <tr>\n      <th>4</th>\n      <td>Metro-North Railroad</td>\n      <td>On-Time Performance (West of Hudson)</td>\n      <td>Percent of commuter trains that arrive at thei...</td>\n      <td>2008</td>\n      <td>5</td>\n      <td>Service Indicators</td>\n      <td>M</td>\n      <td>%</td>\n      <td>95</td>\n      <td>96.6</td>\n      <td>95</td>\n      <td>95.8</td>\n    </tr>\n  </tbody>\n</table>\n</div>"
     },
     "metadata": {},
     "execution_count": 107
    }
   ],
   "source": [
    "for elt in root.INDICATOR:\n",
    "    elt_data = {}\n",
    "    for child in elt.getchildren():\n",
    "        if child.tag in skip_fields:\n",
    "            continue\n",
    "        elt_data[child.tag] = child.pyval\n",
    "    data.append(elt_data)\n",
    "\n",
    "#dir(data)\n",
    "\n",
    "perf = DataFrame(data)\n",
    "perf.head()"
   ]
  },
  {
   "cell_type": "code",
   "execution_count": null,
   "metadata": {},
   "outputs": [],
   "source": [
    "# TBD: modify the dataframe systematically and save back as XML."
   ]
  },
  {
   "cell_type": "code",
   "execution_count": null,
   "metadata": {},
   "outputs": [],
   "source": []
  },
  {
   "cell_type": "code",
   "execution_count": null,
   "metadata": {},
   "outputs": [],
   "source": []
  },
  {
   "cell_type": "code",
   "execution_count": null,
   "metadata": {},
   "outputs": [],
   "source": []
  },
  {
   "cell_type": "code",
   "execution_count": null,
   "metadata": {},
   "outputs": [],
   "source": []
  },
  {
   "cell_type": "code",
   "execution_count": null,
   "metadata": {},
   "outputs": [],
   "source": []
  },
  {
   "cell_type": "code",
   "execution_count": null,
   "metadata": {},
   "outputs": [],
   "source": []
  },
  {
   "cell_type": "code",
   "execution_count": null,
   "metadata": {},
   "outputs": [],
   "source": []
  }
 ]
}