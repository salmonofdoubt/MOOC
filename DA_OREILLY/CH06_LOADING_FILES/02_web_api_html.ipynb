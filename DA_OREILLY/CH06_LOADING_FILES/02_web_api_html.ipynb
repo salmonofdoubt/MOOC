{
 "nbformat": 4,
 "nbformat_minor": 2,
 "metadata": {
  "language_info": {
   "name": "python",
   "codemirror_mode": {
    "name": "ipython",
    "version": 3
   },
   "version": "3.7.5-final"
  },
  "orig_nbformat": 2,
  "file_extension": ".py",
  "mimetype": "text/x-python",
  "name": "python",
  "npconvert_exporter": "python",
  "pygments_lexer": "ipython3",
  "version": 3,
  "kernelspec": {
   "name": "python3",
   "display_name": "Python 3"
  }
 },
 "cells": [
  {
   "cell_type": "markdown",
   "metadata": {},
   "source": [
    "# HTML AND WEB APIs"
   ]
  },
  {
   "cell_type": "code",
   "execution_count": 40,
   "metadata": {},
   "outputs": [],
   "source": [
    "import pandas as pd\n",
    "import numpy as np\n",
    "from pandas import Series, DataFrame\n",
    "\n",
    ""
   ]
  },
  {
   "cell_type": "markdown",
   "metadata": {},
   "source": [
    "## HTML"
   ]
  },
  {
   "cell_type": "code",
   "execution_count": 41,
   "metadata": {},
   "outputs": [],
   "source": [
    "# lxml.de parses very large files\n",
    "import requests\n",
    "import json\n",
    "from lxml.html import parse\n",
    "from urllib.request import urlopen\n",
    "\n",
    ""
   ]
  },
  {
   "cell_type": "code",
   "execution_count": 42,
   "metadata": {},
   "outputs": [
    {
     "output_type": "execute_result",
     "data": {
      "text/plain": "<Element html at 0x11cd44710>"
     },
     "metadata": {},
     "execution_count": 42
    }
   ],
   "source": [
    "parsed = parse(urlopen('http://finance.yahoo.com/q/op?s=AAPL+Options'))\n",
    "doc = parsed.getroot()\n",
    "doc"
   ]
  },
  {
   "cell_type": "code",
   "execution_count": 43,
   "metadata": {},
   "outputs": [
    {
     "output_type": "execute_result",
     "data": {
      "text/plain": "'/quote/AAPL200327C00170000?p=AAPL200327C00170000'"
     },
     "metadata": {},
     "execution_count": 43
    }
   ],
   "source": [
    " links = doc.findall('.//a')\n",
    " links[:5]\n",
    " lnk = links[28]\n",
    " lnk.get('href')"
   ]
  },
  {
   "cell_type": "code",
   "execution_count": 44,
   "metadata": {},
   "outputs": [
    {
     "output_type": "execute_result",
     "data": {
      "text/plain": "'AAPL200327C00170000'"
     },
     "metadata": {},
     "execution_count": 44
    }
   ],
   "source": [
    "lnk.text_content()"
   ]
  },
  {
   "cell_type": "code",
   "execution_count": 45,
   "metadata": {},
   "outputs": [
    {
     "output_type": "execute_result",
     "data": {
      "text/plain": "['/watchlists',\n '/portfolios',\n '/screener',\n '/premium?ncid=navbarprem_fqbo1nu0ks0',\n '/calendar',\n '/news/',\n 'https://money.yahoo.com',\n '/videos/',\n '/industries',\n '/tech']"
     },
     "metadata": {},
     "execution_count": 45
    }
   ],
   "source": [
    "urls = [lnk.get('href') for lnk in doc.findall('.//a')]\n",
    "urls[-10:]"
   ]
  },
  {
   "cell_type": "code",
   "execution_count": 46,
   "metadata": {},
   "outputs": [
    {
     "output_type": "execute_result",
     "data": {
      "text/plain": "<Response [200]>"
     },
     "metadata": {},
     "execution_count": 46
    }
   ],
   "source": [
    "\n",
    "# Dublin weatehr\n",
    "url = 'https://prodapi.metweb.ie/monthly-data/Dublin%20Airport'\n",
    "resp = requests.get(url)\n",
    "resp\n"
   ]
  },
  {
   "cell_type": "code",
   "execution_count": 47,
   "metadata": {},
   "outputs": [
    {
     "output_type": "execute_result",
     "data": {
      "text/plain": "{'station': 'Dublin Airport',\n 'up_to': '22-03-2020',\n 'total_rainfall': {'report': {'2020': {'january': '36.0',\n    'february': '130.4',\n    'mar': '31.8',\n    'apr': '',\n    'may': '',\n    'june': '',\n    'july': '',\n    'august': '',\n    'september': '',\n    'october': '',\n    'november': '',\n    'december': '',\n    'annual': '198.2'},\n   '2019': {'january': '26.8',\n    'february': '30.5',\n    'mar': '92.5',\n    'apr': '74.6',\n    'may': '33.4',\n    'june': '82.9',\n    'july': '41.0',\n    'august': '91.9',\n    'september': '104.6',\n    'october': '77.2',\n    'november': '173.0',\n    'december': '57.7',\n    'annual': '886.1'},\n   '2018': {'january': '93.1',\n    'february': '36.9',\n    'mar': '100.0',\n    'apr': '68.9',\n    'may': '19.1',\n    'june': '4.8',\n    'july': '40.0',\n    'august': '48.0',\n    'september': '43.8',\n    'october': '42.6',\n    'november': '131.2',\n    'december': '81.0',\n    'annual': '709.4'},\n   '2017': {'january': '21.9',\n    'february': '41.6',\n    'mar': '67.2',\n    'apr': '10.0',\n    'may': '43.5',\n    'june': '86.4',\n    'july': '42.2',\n    'august': '73.2',\n    'september': '82.3',\n    'october': '47.8',\n    'november': '81.5',\n    'december': '63.1',\n    'annual': '660.7'},\n   'mean': {'january': '62.6',\n    'february': '48.8',\n    'mar': '52.6',\n    'apr': '54.1',\n    'may': '59.5',\n    'june': '66.7',\n    'july': '56.2',\n    'august': '73.3',\n    'september': '59.5',\n    'october': '79.0',\n    'november': '72.9',\n    'december': '72.7',\n    'annual': '757.9'}}},\n 'mean_temperature': {'report': {'2020': {'january': '6.3',\n    'february': '5.8',\n    'mar': '5.7',\n    'apr': '',\n    'may': '',\n    'june': '',\n    'july': '',\n    'august': '',\n    'september': '',\n    'october': '',\n    'november': '',\n    'december': '',\n    'annual': '6.0'},\n   '2019': {'january': '5.1',\n    'february': '7.0',\n    'mar': '7.3',\n    'apr': '8.0',\n    'may': '10.2',\n    'june': '12.5',\n    'july': '15.9',\n    'august': '15.4',\n    'september': '13.0',\n    'october': '9.1',\n    'november': '6.0',\n    'december': '5.9',\n    'annual': '9.6'},\n   '2018': {'january': '5.3',\n    'february': '3.4',\n    'mar': '4.3',\n    'apr': '8.1',\n    'may': '11.4',\n    'june': '14.5',\n    'july': '16.1',\n    'august': '15.3',\n    'september': '12.2',\n    'october': '9.3',\n    'november': '8.2',\n    'december': '7.7',\n    'annual': '9.7'},\n   '2017': {'january': '5.7',\n    'february': '6.2',\n    'mar': '7.7',\n    'apr': '8.0',\n    'may': '11.6',\n    'june': '14.4',\n    'july': '15.0',\n    'august': '14.6',\n    'september': '12.4',\n    'october': '11.2',\n    'november': '6.5',\n    'december': '5.3',\n    'annual': '9.9'},\n   'mean': {'january': '5.3',\n    'february': '5.3',\n    'mar': '6.7',\n    'apr': '8.1',\n    'may': '10.7',\n    'june': '13.4',\n    'july': '15.4',\n    'august': '15.1',\n    'september': '13.1',\n    'october': '10.3',\n    'november': '7.3',\n    'december': '5.6',\n    'annual': '9.7'}}},\n 'soil_temperature': {'report': {'2020': {'january': '4.4',\n    'february': '3.9',\n    'mar': 'n/a',\n    'apr': '',\n    'may': '',\n    'june': '',\n    'july': '',\n    'august': '',\n    'september': '',\n    'october': '',\n    'november': '',\n    'december': '',\n    'annual': '4.2'},\n   '2019': {'january': '4.7',\n    'february': '4.9',\n    'mar': '5.8',\n    'apr': '7.7',\n    'may': '11.1',\n    'june': '13.4',\n    'july': '16.8',\n    'august': '15.0',\n    'september': '12.5',\n    'october': '8.1',\n    'november': '5.6',\n    'december': '4.2',\n    'annual': '9.2'},\n   '2018': {'january': '4.0',\n    'february': '2.7',\n    'mar': '2.8',\n    'apr': '7.3',\n    'may': '12.3',\n    'june': '17.1',\n    'july': '18.0',\n    'august': '15.3',\n    'september': '11.7',\n    'october': '8.6',\n    'november': '6.6',\n    'december': '6.2',\n    'annual': '9.4'},\n   '2017': {'january': '5.0',\n    'february': '5.0',\n    'mar': '6.7',\n    'apr': '8.5',\n    'may': '12.6',\n    'june': '15.1',\n    'july': '15.5',\n    'august': '14.2',\n    'september': '11.8',\n    'october': '10.6',\n    'november': '6.3',\n    'december': '4.6',\n    'annual': '9.7'},\n   'mean': {'january': '4.1',\n    'february': '4.1',\n    'mar': '5.5',\n    'apr': '7.9',\n    'may': '11.5',\n    'june': '14.6',\n    'july': '16.2',\n    'august': '15.4',\n    'september': '13.0',\n    'october': '9.7',\n    'november': '6.6',\n    'december': '4.8',\n    'annual': '9.4'}}},\n 'solar_radiation': {'report': {'2020': {'january': '7855',\n    'february': '14719',\n    'mar': '19036',\n    'apr': '',\n    'may': '',\n    'june': '',\n    'july': '',\n    'august': '',\n    'september': '',\n    'october': '',\n    'november': '',\n    'december': '',\n    'annual': '41610'},\n   '2019': {'january': '6794',\n    'february': '15172',\n    'mar': '28541',\n    'apr': '35758',\n    'may': '48344',\n    'june': '51880',\n    'july': '53387',\n    'august': '45175',\n    'september': '32004',\n    'october': '18607',\n    'november': '7018',\n    'december': '5534',\n    'annual': '348214'},\n   '2018': {'january': '7475',\n    'february': '14655',\n    'mar': '21659',\n    'apr': '36294',\n    'may': '56900',\n    'june': '64896',\n    'july': '52340',\n    'august': '39995',\n    'september': '32175',\n    'october': '19493',\n    'november': '6936',\n    'december': '4254',\n    'annual': '357072'},\n   '2017': {'january': '6701',\n    'february': '10573',\n    'mar': '26799',\n    'apr': '33437',\n    'may': '57196',\n    'june': '51592',\n    'july': '52843',\n    'august': '39665',\n    'september': '29850',\n    'october': '15686',\n    'november': '9640',\n    'december': '5499',\n    'annual': '339481'},\n   'mean': {'january': '7228',\n    'february': '12761',\n    'mar': '25705',\n    'apr': '39407',\n    'may': '52530',\n    'june': '52648',\n    'july': '50860',\n    'august': '42506',\n    'september': '30043',\n    'october': '18168',\n    'november': '8935',\n    'december': '5550',\n    'annual': '346340'}}},\n 'potential_evapotranspiration': {'report': {'2020': {'january': '17.0',\n    'february': '23.6',\n    'mar': '24.2',\n    'apr': '',\n    'may': '',\n    'june': '',\n    'july': '',\n    'august': '',\n    'september': '',\n    'october': '',\n    'november': '',\n    'december': '',\n    'annual': '64.8'},\n   '2019': {'january': '14.5',\n    'february': '24.3',\n    'mar': '39.7',\n    'apr': '51.4',\n    'may': '70.4',\n    'june': '79.7',\n    'july': '90.9',\n    'august': '82.2',\n    'september': '48.3',\n    'october': '27.5',\n    'november': '13.3',\n    'december': '13.2',\n    'annual': '555.4'},\n   '2018': {'january': '17.1',\n    'february': '20.3',\n    'mar': '28.7',\n    'apr': '49.8',\n    'may': '82.4',\n    'june': '103.3',\n    'july': '93.2',\n    'august': '71.3',\n    'september': '51.5',\n    'october': '30.7',\n    'november': '20.6',\n    'december': '15.1',\n    'annual': '584.0'},\n   '2017': {'january': '15.5',\n    'february': '22.3',\n    'mar': '36.2',\n    'apr': '50.5',\n    'may': '82.5',\n    'june': '87.3',\n    'july': '87.7',\n    'august': '70.4',\n    'september': '46.8',\n    'october': '27.8',\n    'november': '14.1',\n    'december': '11.6',\n    'annual': '552.7'},\n   'mean': {'january': '16.1',\n    'february': '22.9',\n    'mar': '35.3',\n    'apr': '52.9',\n    'may': '71.6',\n    'june': '82.3',\n    'july': '82.5',\n    'august': '69.0',\n    'september': '48.2',\n    'october': '28.5',\n    'november': '16.1',\n    'december': '13.2',\n    'annual': '538.6'}}},\n 'evaporation': {'report': {'2020': {'january': '21.1',\n    'february': '33.6',\n    'mar': '36.7',\n    'apr': '',\n    'may': '',\n    'june': '',\n    'july': '',\n    'august': '',\n    'september': '',\n    'october': '',\n    'november': '',\n    'december': '',\n    'annual': '91.4'},\n   '2019': {'january': '18.7',\n    'february': '32.3',\n    'mar': '59.1',\n    'apr': '76.3',\n    'may': '101.9',\n    'june': '115.1',\n    'july': '126.3',\n    'august': '109.1',\n    'september': '68.6',\n    'october': '37.7',\n    'november': '18.0',\n    'december': '16.2',\n    'annual': '779.3'},\n   '2018': {'january': '22.8',\n    'february': '29.3',\n    'mar': '44.6',\n    'apr': '76.3',\n    'may': '120.6',\n    'june': '146.6',\n    'july': '126.6',\n    'august': '97.8',\n    'september': '71.8',\n    'october': '41.6',\n    'november': '25.7',\n    'december': '19.0',\n    'annual': '822.7'},\n   '2017': {'january': '20.2',\n    'february': '31.4',\n    'mar': '54.6',\n    'apr': '74.1',\n    'may': '122.5',\n    'june': '127.3',\n    'july': '126.1',\n    'august': '99.5',\n    'september': '67.8',\n    'october': '39.4',\n    'november': '18.5',\n    'december': '14.9',\n    'annual': '796.3'},\n   'mean': {'january': '21.4',\n    'february': '32.8',\n    'mar': '53.2',\n    'apr': '80.0',\n    'may': '106.7',\n    'june': '118.6',\n    'july': '116.6',\n    'august': '96.8',\n    'september': '67.9',\n    'october': '39.4',\n    'november': '21.1',\n    'december': '16.7',\n    'annual': '771.2'}}},\n 'degree_days_below_fiften_point_five_degrees_celsius': {'report': {'2020': {'january': '284',\n    'february': '282',\n    'mar': 'N/A',\n    'apr': 'N/A',\n    'may': 'N/A',\n    'june': 'N/A',\n    'july': 'N/A',\n    'august': 'N/A',\n    'september': 'N/A',\n    'october': 'N/A',\n    'november': 'N/A',\n    'december': 'N/A',\n    'total': 'N/A'},\n   '2019': {'january': '322',\n    'february': '239',\n    'mar': '256',\n    'apr': '230',\n    'may': '170',\n    'june': '104',\n    'july': '44',\n    'august': '43',\n    'september': '91',\n    'october': '199',\n    'november': '284',\n    'december': '299',\n    'total': '2280'},\n   '2018': {'january': '316',\n    'february': '339',\n    'mar': '348',\n    'apr': '223',\n    'may': '143',\n    'june': '72',\n    'july': '45',\n    'august': '59',\n    'september': '116',\n    'october': '196',\n    'november': '220',\n    'december': '241',\n    'total': '2316'},\n   '2017': {'january': '304',\n    'february': '259',\n    'mar': '243',\n    'apr': '224',\n    'may': '134',\n    'june': '66',\n    'july': '52',\n    'august': '58',\n    'september': '103',\n    'october': '136',\n    'november': '271',\n    'december': '317',\n    'total': '2167'}}}}"
     },
     "metadata": {},
     "execution_count": 47
    }
   ],
   "source": [
    "data = json.loads(resp.text)\n",
    "data"
   ]
  },
  {
   "cell_type": "code",
   "execution_count": null,
   "metadata": {},
   "outputs": [],
   "source": []
  },
  {
   "cell_type": "code",
   "execution_count": null,
   "metadata": {},
   "outputs": [],
   "source": []
  },
  {
   "cell_type": "code",
   "execution_count": null,
   "metadata": {},
   "outputs": [],
   "source": []
  },
  {
   "cell_type": "code",
   "execution_count": null,
   "metadata": {},
   "outputs": [],
   "source": []
  },
  {
   "cell_type": "code",
   "execution_count": null,
   "metadata": {},
   "outputs": [],
   "source": []
  }
 ]
}