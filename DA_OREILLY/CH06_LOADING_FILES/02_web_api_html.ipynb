{
 "nbformat": 4,
 "nbformat_minor": 2,
 "metadata": {
  "language_info": {
   "name": "python",
   "codemirror_mode": {
    "name": "ipython",
    "version": 3
   },
   "version": "3.7.5-final"
  },
  "orig_nbformat": 2,
  "file_extension": ".py",
  "mimetype": "text/x-python",
  "name": "python",
  "npconvert_exporter": "python",
  "pygments_lexer": "ipython3",
  "version": 3,
  "kernelspec": {
   "name": "python3",
   "display_name": "Python 3"
  }
 },
 "cells": [
  {
   "cell_type": "markdown",
   "metadata": {},
   "source": [
    "# HTML AND WEB APIs"
   ]
  },
  {
   "cell_type": "code",
   "execution_count": 44,
   "metadata": {},
   "outputs": [],
   "source": [
    "import pandas as pd\n",
    "import numpy as np\n",
    "from pandas import Series, DataFrame\n",
    "\n",
    ""
   ]
  },
  {
   "cell_type": "markdown",
   "metadata": {},
   "source": [
    "## HTML"
   ]
  },
  {
   "cell_type": "code",
   "execution_count": 45,
   "metadata": {},
   "outputs": [],
   "source": [
    "# lxml.de parses very large files\n",
    "import requests\n",
    "import json\n",
    "from lxml.html import parse\n",
    "from urllib.request import urlopen\n",
    "\n",
    ""
   ]
  },
  {
   "cell_type": "code",
   "execution_count": 46,
   "metadata": {},
   "outputs": [
    {
     "output_type": "execute_result",
     "data": {
      "text/plain": "<Element html at 0x124eabfb0>"
     },
     "metadata": {},
     "execution_count": 46
    }
   ],
   "source": [
    "parsed = parse(urlopen('http://finance.yahoo.com/q/op?s=AAPL+Options'))\n",
    "doc = parsed.getroot()\n",
    "doc"
   ]
  },
  {
   "cell_type": "code",
   "execution_count": 47,
   "metadata": {},
   "outputs": [
    {
     "output_type": "execute_result",
     "data": {
      "text/plain": "'/quote/AAPL200327C00170000?p=AAPL200327C00170000'"
     },
     "metadata": {},
     "execution_count": 47
    }
   ],
   "source": [
    " links = doc.findall('.//a')\n",
    " links[:5]\n",
    " lnk = links[28]\n",
    " lnk.get('href')"
   ]
  },
  {
   "cell_type": "code",
   "execution_count": 48,
   "metadata": {},
   "outputs": [
    {
     "output_type": "execute_result",
     "data": {
      "text/plain": "'AAPL200327C00170000'"
     },
     "metadata": {},
     "execution_count": 48
    }
   ],
   "source": [
    "lnk.text_content()"
   ]
  },
  {
   "cell_type": "code",
   "execution_count": 49,
   "metadata": {},
   "outputs": [
    {
     "output_type": "execute_result",
     "data": {
      "text/plain": "['/watchlists',\n '/portfolios',\n '/screener',\n '/premium?ncid=navbarprem_fqbo1nu0ks0',\n '/calendar',\n '/news/',\n 'https://money.yahoo.com',\n '/videos/',\n '/industries',\n '/tech']"
     },
     "metadata": {},
     "execution_count": 49
    }
   ],
   "source": [
    "urls = [lnk.get('href') for lnk in doc.findall('.//a')]\n",
    "urls[-10:]"
   ]
  },
  {
   "cell_type": "code",
   "execution_count": 53,
   "metadata": {},
   "outputs": [
    {
     "output_type": "execute_result",
     "data": {
      "text/plain": "<Response [200]>"
     },
     "metadata": {},
     "execution_count": 53
    }
   ],
   "source": [
    "\n",
    "# Dublin weather\n",
    "url = 'https://prodapi.metweb.ie/monthly-data/Dublin%20Airport'\n",
    "resp = requests.get(url)\n",
    "resp"
   ]
  },
  {
   "cell_type": "code",
   "execution_count": 54,
   "metadata": {},
   "outputs": [
    {
     "output_type": "execute_result",
     "data": {
      "text/plain": "dict_keys(['station', 'up_to', 'total_rainfall', 'mean_temperature', 'soil_temperature', 'solar_radiation', 'potential_evapotranspiration', 'evaporation', 'degree_days_below_fiften_point_five_degrees_celsius'])"
     },
     "metadata": {},
     "execution_count": 54
    }
   ],
   "source": [
    "data = json.loads(resp.text)\n",
    "data.keys()"
   ]
  },
  {
   "cell_type": "code",
   "execution_count": 56,
   "metadata": {},
   "outputs": [
    {
     "output_type": "execute_result",
     "data": {
      "text/plain": "               station                                     total_rainfall\nreport  Dublin Airport  {'2020': {'january': '36.0', 'february': '130....",
      "text/html": "<div>\n<style scoped>\n    .dataframe tbody tr th:only-of-type {\n        vertical-align: middle;\n    }\n\n    .dataframe tbody tr th {\n        vertical-align: top;\n    }\n\n    .dataframe thead th {\n        text-align: right;\n    }\n</style>\n<table border=\"1\" class=\"dataframe\">\n  <thead>\n    <tr style=\"text-align: right;\">\n      <th></th>\n      <th>station</th>\n      <th>total_rainfall</th>\n    </tr>\n  </thead>\n  <tbody>\n    <tr>\n      <th>report</th>\n      <td>Dublin Airport</td>\n      <td>{'2020': {'january': '36.0', 'february': '130....</td>\n    </tr>\n  </tbody>\n</table>\n</div>"
     },
     "metadata": {},
     "execution_count": 56
    }
   ],
   "source": [
    "names = ['station', 'total_rainfall']\n",
    "indx = ['station']\n",
    "df = DataFrame(data, columns=names)\n",
    "df"
   ]
  },
  {
   "cell_type": "code",
   "execution_count": null,
   "metadata": {},
   "outputs": [],
   "source": []
  },
  {
   "cell_type": "code",
   "execution_count": null,
   "metadata": {},
   "outputs": [],
   "source": []
  },
  {
   "cell_type": "code",
   "execution_count": null,
   "metadata": {},
   "outputs": [],
   "source": []
  }
 ]
}