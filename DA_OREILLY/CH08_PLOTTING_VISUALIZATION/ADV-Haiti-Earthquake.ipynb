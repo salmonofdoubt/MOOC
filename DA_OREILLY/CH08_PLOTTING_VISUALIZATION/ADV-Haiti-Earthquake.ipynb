{
 "cells": [
  {
   "cell_type": "markdown",
   "metadata": {
    "deletable": true,
    "editable": true
   },
   "source": [
    "# Haiti Earthquake"
   ]
  },
  {
   "cell_type": "code",
   "execution_count": 1,
   "metadata": {
    "collapsed": false,
    "deletable": true,
    "editable": true
   },
   "outputs": [],
   "source": [
    "import numpy as np\n",
    "import pandas as pd\n",
    "import matplotlib.pyplot as plt\n",
    "import matplotlib\n",
    "import seaborn as sns"
   ]
  },
  {
   "cell_type": "code",
   "execution_count": 4,
   "metadata": {},
   "outputs": [
    {
     "output_type": "execute_result",
     "data": {
      "text/plain": "   Serial                                     INCIDENT TITLE  \\\n0    4052  * URGENT * Type O blood donations needed in #J...   \n1    4051                     Food-Aid sent to Fondwa, Haiti   \n2    4050  how haiti is right now and how it was during t...   \n3    4049                                        Lost person   \n4    4042                                 Citi Soleil school   \n\n      INCIDENT DATE            LOCATION  \\\n0  05/07/2010 17:26       Jacmel, Haiti   \n1  28/06/2010 23:06              fondwa   \n2  24/06/2010 16:21             centrie   \n3  20/06/2010 21:59              Genoca   \n4  18/05/2010 16:26  Citi Soleil, Haiti   \n\n                                         DESCRIPTION  \\\n0  Birthing Clinic in Jacmel #Haiti urgently need...   \n1  Please help food-aid.org deliver more food to ...   \n2  i feel so bad for you i know i am supposed to ...   \n3  We are family members of Juan Antonio Zuniga O...   \n4  We are working with Haitian (NGO) -The Christi...   \n\n                                            CATEGORY   LATITUDE   LONGITUDE  \\\n0        1. Urgences | Emergency, 3. Public Health,   18.233333  -72.533333   \n1  1. Urgences | Emergency, 2. Urgences logistiqu...  50.226029    5.729886   \n2  2. Urgences logistiques | Vital Lines, 8. Autr...  22.278381  114.174287   \n3                          1. Urgences | Emergency,   44.407062    8.933989   \n4                          1. Urgences | Emergency,   18.571084  -72.334671   \n\n  APPROVED VERIFIED  \n0      YES       NO  \n1       NO       NO  \n2       NO       NO  \n3       NO       NO  \n4      YES       NO  ",
      "text/html": "<div>\n<style scoped>\n    .dataframe tbody tr th:only-of-type {\n        vertical-align: middle;\n    }\n\n    .dataframe tbody tr th {\n        vertical-align: top;\n    }\n\n    .dataframe thead th {\n        text-align: right;\n    }\n</style>\n<table border=\"1\" class=\"dataframe\">\n  <thead>\n    <tr style=\"text-align: right;\">\n      <th></th>\n      <th>Serial</th>\n      <th>INCIDENT TITLE</th>\n      <th>INCIDENT DATE</th>\n      <th>LOCATION</th>\n      <th>DESCRIPTION</th>\n      <th>CATEGORY</th>\n      <th>LATITUDE</th>\n      <th>LONGITUDE</th>\n      <th>APPROVED</th>\n      <th>VERIFIED</th>\n    </tr>\n  </thead>\n  <tbody>\n    <tr>\n      <th>0</th>\n      <td>4052</td>\n      <td>* URGENT * Type O blood donations needed in #J...</td>\n      <td>05/07/2010 17:26</td>\n      <td>Jacmel, Haiti</td>\n      <td>Birthing Clinic in Jacmel #Haiti urgently need...</td>\n      <td>1. Urgences | Emergency, 3. Public Health,</td>\n      <td>18.233333</td>\n      <td>-72.533333</td>\n      <td>YES</td>\n      <td>NO</td>\n    </tr>\n    <tr>\n      <th>1</th>\n      <td>4051</td>\n      <td>Food-Aid sent to Fondwa, Haiti</td>\n      <td>28/06/2010 23:06</td>\n      <td>fondwa</td>\n      <td>Please help food-aid.org deliver more food to ...</td>\n      <td>1. Urgences | Emergency, 2. Urgences logistiqu...</td>\n      <td>50.226029</td>\n      <td>5.729886</td>\n      <td>NO</td>\n      <td>NO</td>\n    </tr>\n    <tr>\n      <th>2</th>\n      <td>4050</td>\n      <td>how haiti is right now and how it was during t...</td>\n      <td>24/06/2010 16:21</td>\n      <td>centrie</td>\n      <td>i feel so bad for you i know i am supposed to ...</td>\n      <td>2. Urgences logistiques | Vital Lines, 8. Autr...</td>\n      <td>22.278381</td>\n      <td>114.174287</td>\n      <td>NO</td>\n      <td>NO</td>\n    </tr>\n    <tr>\n      <th>3</th>\n      <td>4049</td>\n      <td>Lost person</td>\n      <td>20/06/2010 21:59</td>\n      <td>Genoca</td>\n      <td>We are family members of Juan Antonio Zuniga O...</td>\n      <td>1. Urgences | Emergency,</td>\n      <td>44.407062</td>\n      <td>8.933989</td>\n      <td>NO</td>\n      <td>NO</td>\n    </tr>\n    <tr>\n      <th>4</th>\n      <td>4042</td>\n      <td>Citi Soleil school</td>\n      <td>18/05/2010 16:26</td>\n      <td>Citi Soleil, Haiti</td>\n      <td>We are working with Haitian (NGO) -The Christi...</td>\n      <td>1. Urgences | Emergency,</td>\n      <td>18.571084</td>\n      <td>-72.334671</td>\n      <td>YES</td>\n      <td>NO</td>\n    </tr>\n  </tbody>\n</table>\n</div>"
     },
     "metadata": {},
     "execution_count": 4
    }
   ],
   "source": [
    "data = pd.read_csv('../datasets/haiti/haiti.csv')\n",
    "data.head()"
   ]
  },
  {
   "cell_type": "code",
   "execution_count": null,
   "metadata": {},
   "outputs": [],
   "source": []
  },
  {
   "cell_type": "code",
   "execution_count": null,
   "metadata": {},
   "outputs": [],
   "source": []
  },
  {
   "cell_type": "code",
   "execution_count": null,
   "metadata": {},
   "outputs": [],
   "source": []
  },
  {
   "cell_type": "code",
   "execution_count": null,
   "metadata": {},
   "outputs": [],
   "source": []
  },
  {
   "cell_type": "code",
   "execution_count": null,
   "metadata": {},
   "outputs": [],
   "source": []
  },
  {
   "cell_type": "code",
   "execution_count": null,
   "metadata": {},
   "outputs": [],
   "source": []
  },
  {
   "cell_type": "code",
   "execution_count": null,
   "metadata": {},
   "outputs": [],
   "source": []
  },
  {
   "cell_type": "code",
   "execution_count": null,
   "metadata": {},
   "outputs": [],
   "source": []
  },
  {
   "cell_type": "code",
   "execution_count": null,
   "metadata": {},
   "outputs": [],
   "source": []
  },
  {
   "cell_type": "code",
   "execution_count": null,
   "metadata": {},
   "outputs": [],
   "source": []
  },
  {
   "cell_type": "code",
   "execution_count": null,
   "metadata": {},
   "outputs": [],
   "source": []
  },
  {
   "cell_type": "code",
   "execution_count": null,
   "metadata": {},
   "outputs": [],
   "source": []
  },
  {
   "cell_type": "code",
   "execution_count": null,
   "metadata": {},
   "outputs": [],
   "source": []
  },
  {
   "cell_type": "code",
   "execution_count": null,
   "metadata": {},
   "outputs": [],
   "source": []
  },
  {
   "cell_type": "code",
   "execution_count": null,
   "metadata": {},
   "outputs": [],
   "source": []
  }
 ],
 "metadata": {
  "kernelspec": {
   "display_name": "Python 3",
   "language": "python",
   "name": "python3"
  },
  "language_info": {
   "codemirror_mode": {
    "name": "ipython",
    "version": 3
   },
   "file_extension": ".py",
   "mimetype": "text/x-python",
   "name": "python",
   "nbconvert_exporter": "python",
   "pygments_lexer": "ipython3",
   "version": "3.7.5-final"
  }
 },
 "nbformat": 4,
 "nbformat_minor": 0
}