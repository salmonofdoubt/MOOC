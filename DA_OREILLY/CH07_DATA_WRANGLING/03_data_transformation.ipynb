{
 "nbformat": 4,
 "nbformat_minor": 2,
 "metadata": {
  "language_info": {
   "name": "python",
   "codemirror_mode": {
    "name": "ipython",
    "version": 3
   },
   "version": "3.7.5-final"
  },
  "orig_nbformat": 2,
  "file_extension": ".py",
  "mimetype": "text/x-python",
  "name": "python",
  "npconvert_exporter": "python",
  "pygments_lexer": "ipython3",
  "version": 3,
  "kernelspec": {
   "name": "python3",
   "display_name": "Python 3"
  }
 },
 "cells": [
  {
   "cell_type": "markdown",
   "metadata": {},
   "source": [
    "# DATA TRANSFORMATION\n",
    "## REMOVING DUPLICATES"
   ],
   "execution_count": null,
   "outputs": []
  },
  {
   "cell_type": "code",
   "execution_count": 1,
   "metadata": {},
   "outputs": [],
   "source": [
    "import pandas as pd \n",
    "import numpy as np \n",
    "from pandas import Series, DataFrame\n"
   ]
  },
  {
   "cell_type": "code",
   "execution_count": 2,
   "metadata": {},
   "outputs": [
    {
     "output_type": "execute_result",
     "data": {
      "text/plain": "    k1  k2\n0  one   1\n1  one   1\n2  one   2\n3  two   3\n4  two   3\n5  two   4\n6  two   4",
      "text/html": "<div>\n<style scoped>\n    .dataframe tbody tr th:only-of-type {\n        vertical-align: middle;\n    }\n\n    .dataframe tbody tr th {\n        vertical-align: top;\n    }\n\n    .dataframe thead th {\n        text-align: right;\n    }\n</style>\n<table border=\"1\" class=\"dataframe\">\n  <thead>\n    <tr style=\"text-align: right;\">\n      <th></th>\n      <th>k1</th>\n      <th>k2</th>\n    </tr>\n  </thead>\n  <tbody>\n    <tr>\n      <th>0</th>\n      <td>one</td>\n      <td>1</td>\n    </tr>\n    <tr>\n      <th>1</th>\n      <td>one</td>\n      <td>1</td>\n    </tr>\n    <tr>\n      <th>2</th>\n      <td>one</td>\n      <td>2</td>\n    </tr>\n    <tr>\n      <th>3</th>\n      <td>two</td>\n      <td>3</td>\n    </tr>\n    <tr>\n      <th>4</th>\n      <td>two</td>\n      <td>3</td>\n    </tr>\n    <tr>\n      <th>5</th>\n      <td>two</td>\n      <td>4</td>\n    </tr>\n    <tr>\n      <th>6</th>\n      <td>two</td>\n      <td>4</td>\n    </tr>\n  </tbody>\n</table>\n</div>"
     },
     "metadata": {},
     "execution_count": 2
    }
   ],
   "source": [
    "data = DataFrame({'k1': ['one'] * 3 + ['two'] * 4, 'k2':[1,1,2,3,3,4,4]})\n",
    "data"
   ]
  },
  {
   "cell_type": "code",
   "execution_count": 3,
   "metadata": {},
   "outputs": [
    {
     "output_type": "execute_result",
     "data": {
      "text/plain": "0    False\n1     True\n2    False\n3    False\n4     True\n5    False\n6     True\ndtype: bool"
     },
     "metadata": {},
     "execution_count": 3
    }
   ],
   "source": [
    "data.duplicated()"
   ]
  },
  {
   "cell_type": "code",
   "execution_count": 4,
   "metadata": {},
   "outputs": [
    {
     "output_type": "execute_result",
     "data": {
      "text/plain": "    k1  k2\n0  one   1\n2  one   2\n3  two   3\n5  two   4",
      "text/html": "<div>\n<style scoped>\n    .dataframe tbody tr th:only-of-type {\n        vertical-align: middle;\n    }\n\n    .dataframe tbody tr th {\n        vertical-align: top;\n    }\n\n    .dataframe thead th {\n        text-align: right;\n    }\n</style>\n<table border=\"1\" class=\"dataframe\">\n  <thead>\n    <tr style=\"text-align: right;\">\n      <th></th>\n      <th>k1</th>\n      <th>k2</th>\n    </tr>\n  </thead>\n  <tbody>\n    <tr>\n      <th>0</th>\n      <td>one</td>\n      <td>1</td>\n    </tr>\n    <tr>\n      <th>2</th>\n      <td>one</td>\n      <td>2</td>\n    </tr>\n    <tr>\n      <th>3</th>\n      <td>two</td>\n      <td>3</td>\n    </tr>\n    <tr>\n      <th>5</th>\n      <td>two</td>\n      <td>4</td>\n    </tr>\n  </tbody>\n</table>\n</div>"
     },
     "metadata": {},
     "execution_count": 4
    }
   ],
   "source": [
    "data.drop_duplicates()"
   ]
  },
  {
   "cell_type": "markdown",
   "metadata": {},
   "source": [
    "## TRANSFORMING DATA USING FUNCTIONS or MAPPING"
   ],
   "execution_count": null,
   "outputs": []
  },
  {
   "cell_type": "code",
   "execution_count": 5,
   "metadata": {},
   "outputs": [
    {
     "output_type": "execute_result",
     "data": {
      "text/plain": "  food  weight\n0    a       2\n1    b       4\n2    c       6\n3    d       8",
      "text/html": "<div>\n<style scoped>\n    .dataframe tbody tr th:only-of-type {\n        vertical-align: middle;\n    }\n\n    .dataframe tbody tr th {\n        vertical-align: top;\n    }\n\n    .dataframe thead th {\n        text-align: right;\n    }\n</style>\n<table border=\"1\" class=\"dataframe\">\n  <thead>\n    <tr style=\"text-align: right;\">\n      <th></th>\n      <th>food</th>\n      <th>weight</th>\n    </tr>\n  </thead>\n  <tbody>\n    <tr>\n      <th>0</th>\n      <td>a</td>\n      <td>2</td>\n    </tr>\n    <tr>\n      <th>1</th>\n      <td>b</td>\n      <td>4</td>\n    </tr>\n    <tr>\n      <th>2</th>\n      <td>c</td>\n      <td>6</td>\n    </tr>\n    <tr>\n      <th>3</th>\n      <td>d</td>\n      <td>8</td>\n    </tr>\n  </tbody>\n</table>\n</div>"
     },
     "metadata": {},
     "execution_count": 5
    }
   ],
   "source": [
    "data = DataFrame({'food': ['a','b','c','d'], \n",
    "                  'weight': [2,4,6,8]})\n",
    "data"
   ]
  },
  {
   "cell_type": "code",
   "execution_count": 6,
   "metadata": {},
   "outputs": [
    {
     "output_type": "execute_result",
     "data": {
      "text/plain": "  food  weight  code\n0    a       2  001A\n1    b       4  001b\n2    c       6  001C\n3    d       8  001d",
      "text/html": "<div>\n<style scoped>\n    .dataframe tbody tr th:only-of-type {\n        vertical-align: middle;\n    }\n\n    .dataframe tbody tr th {\n        vertical-align: top;\n    }\n\n    .dataframe thead th {\n        text-align: right;\n    }\n</style>\n<table border=\"1\" class=\"dataframe\">\n  <thead>\n    <tr style=\"text-align: right;\">\n      <th></th>\n      <th>food</th>\n      <th>weight</th>\n      <th>code</th>\n    </tr>\n  </thead>\n  <tbody>\n    <tr>\n      <th>0</th>\n      <td>a</td>\n      <td>2</td>\n      <td>001A</td>\n    </tr>\n    <tr>\n      <th>1</th>\n      <td>b</td>\n      <td>4</td>\n      <td>001b</td>\n    </tr>\n    <tr>\n      <th>2</th>\n      <td>c</td>\n      <td>6</td>\n      <td>001C</td>\n    </tr>\n    <tr>\n      <th>3</th>\n      <td>d</td>\n      <td>8</td>\n      <td>001d</td>\n    </tr>\n  </tbody>\n</table>\n</div>"
     },
     "metadata": {},
     "execution_count": 6
    }
   ],
   "source": [
    "food_to_code = {'a': '001A', 'b': '001b', 'c': '001C', 'd': '001d'}\n",
    "data['code'] = data['food'].map(food_to_code)\n",
    "data"
   ]
  },
  {
   "cell_type": "code",
   "execution_count": 7,
   "metadata": {},
   "outputs": [
    {
     "output_type": "execute_result",
     "data": {
      "text/plain": "0    001A\n1    001b\n2    001C\n3    001d\nName: food, dtype: object"
     },
     "metadata": {},
     "execution_count": 7
    }
   ],
   "source": [
    "data['food'].map(lambda x: food_to_code[x])"
   ]
  },
  {
   "cell_type": "markdown",
   "metadata": {},
   "source": [
    "## REPLACE VALUES"
   ],
   "execution_count": null,
   "outputs": []
  },
  {
   "cell_type": "code",
   "execution_count": 8,
   "metadata": {},
   "outputs": [
    {
     "output_type": "execute_result",
     "data": {
      "text/plain": "0    1.0\n1    NaN\n2    NaN\n3    2.0\ndtype: float64"
     },
     "metadata": {},
     "execution_count": 8
    }
   ],
   "source": [
    "data = Series([1., -999., 999., 2.])\n",
    "data.replace([-999,999], np.nan)"
   ]
  },
  {
   "cell_type": "markdown",
   "metadata": {},
   "source": [
    "## DISCRETIONIZATION and BINNING"
   ],
   "execution_count": null,
   "outputs": []
  },
  {
   "cell_type": "code",
   "execution_count": 9,
   "metadata": {},
   "outputs": [
    {
     "output_type": "execute_result",
     "data": {
      "text/plain": "[(18, 25], (18, 25], (18, 25], (25, 35], (18, 25], ..., (25, 35], (60, 100], (35, 60], (35, 60], (25, 35]]\nLength: 13\nCategories (4, interval[int64]): [(18, 25] < (25, 35] < (35, 60] < (60, 100]]"
     },
     "metadata": {},
     "execution_count": 9
    }
   ],
   "source": [
    "ages = [20,22,25,27,21,23,27,37,31,62,45,41,32]\n",
    "bins = [18,25,35,60,100]\n",
    "cats = pd.cut(ages, bins)\n",
    "cats"
   ]
  },
  {
   "cell_type": "code",
   "execution_count": 10,
   "metadata": {},
   "outputs": [
    {
     "output_type": "execute_result",
     "data": {
      "text/plain": "(18, 25]     5\n(25, 35]     4\n(35, 60]     3\n(60, 100]    1\ndtype: int64"
     },
     "metadata": {},
     "execution_count": 10
    }
   ],
   "source": [
    "pd.value_counts(cats)"
   ]
  },
  {
   "cell_type": "code",
   "execution_count": 11,
   "metadata": {},
   "outputs": [
    {
     "output_type": "execute_result",
     "data": {
      "text/plain": "[a, a, a, b, a, ..., b, d, c, c, b]\nLength: 13\nCategories (4, object): [a < b < c < d]"
     },
     "metadata": {},
     "execution_count": 11
    }
   ],
   "source": [
    "groups = ['a','b','c','d']\n",
    "pd.cut(ages, bins, labels=groups)"
   ]
  },
  {
   "cell_type": "code",
   "execution_count": 12,
   "metadata": {},
   "outputs": [],
   "source": [
    "#pd.cut?"
   ]
  },
  {
   "cell_type": "code",
   "execution_count": 13,
   "metadata": {},
   "outputs": [],
   "source": [
    "data = np.random.randn(10)"
   ]
  },
  {
   "cell_type": "code",
   "execution_count": 14,
   "metadata": {},
   "outputs": [
    {
     "output_type": "execute_result",
     "data": {
      "text/plain": "(-0.4, 0.37]      4\n(-1.93, -1.16]    3\n(1.13, 1.9]       1\n(0.37, 1.13]      1\n(-1.16, -0.4]     1\ndtype: int64"
     },
     "metadata": {},
     "execution_count": 14
    }
   ],
   "source": [
    "data1 = pd.cut(data, 5, precision=2)\n",
    "pd.value_counts(data1)"
   ]
  },
  {
   "cell_type": "code",
   "execution_count": 15,
   "metadata": {},
   "outputs": [
    {
     "output_type": "execute_result",
     "data": {
      "text/plain": "(0.44, 1.9]       2\n(0.026, 0.44]     2\n(-0.47, 0.026]    2\n(-1.49, -0.47]    2\n(-1.94, -1.49]    2\ndtype: int64"
     },
     "metadata": {},
     "execution_count": 15
    }
   ],
   "source": [
    "data2 = pd.qcut(data, 5, precision=2)\n",
    "pd.value_counts(data2)\n",
    ""
   ]
  },
  {
   "cell_type": "markdown",
   "metadata": {},
   "source": [
    "## OUTLIERS"
   ],
   "execution_count": null,
   "outputs": []
  },
  {
   "cell_type": "code",
   "execution_count": 16,
   "metadata": {},
   "outputs": [
    {
     "output_type": "execute_result",
     "data": {
      "text/plain": "                 0            1            2            3\ncount  1000.000000  1000.000000  1000.000000  1000.000000\nmean     -0.067684     0.067924     0.025598    -0.002298\nstd       0.998035     0.992106     1.006835     0.996794\nmin      -3.428254    -3.548824    -3.184377    -3.745356\n25%      -0.774890    -0.591841    -0.641675    -0.644144\n50%      -0.116401     0.101143     0.002073    -0.013611\n75%       0.616366     0.780282     0.680391     0.654328\nmax       3.366626     2.653656     3.260383     3.927528",
      "text/html": "<div>\n<style scoped>\n    .dataframe tbody tr th:only-of-type {\n        vertical-align: middle;\n    }\n\n    .dataframe tbody tr th {\n        vertical-align: top;\n    }\n\n    .dataframe thead th {\n        text-align: right;\n    }\n</style>\n<table border=\"1\" class=\"dataframe\">\n  <thead>\n    <tr style=\"text-align: right;\">\n      <th></th>\n      <th>0</th>\n      <th>1</th>\n      <th>2</th>\n      <th>3</th>\n    </tr>\n  </thead>\n  <tbody>\n    <tr>\n      <th>count</th>\n      <td>1000.000000</td>\n      <td>1000.000000</td>\n      <td>1000.000000</td>\n      <td>1000.000000</td>\n    </tr>\n    <tr>\n      <th>mean</th>\n      <td>-0.067684</td>\n      <td>0.067924</td>\n      <td>0.025598</td>\n      <td>-0.002298</td>\n    </tr>\n    <tr>\n      <th>std</th>\n      <td>0.998035</td>\n      <td>0.992106</td>\n      <td>1.006835</td>\n      <td>0.996794</td>\n    </tr>\n    <tr>\n      <th>min</th>\n      <td>-3.428254</td>\n      <td>-3.548824</td>\n      <td>-3.184377</td>\n      <td>-3.745356</td>\n    </tr>\n    <tr>\n      <th>25%</th>\n      <td>-0.774890</td>\n      <td>-0.591841</td>\n      <td>-0.641675</td>\n      <td>-0.644144</td>\n    </tr>\n    <tr>\n      <th>50%</th>\n      <td>-0.116401</td>\n      <td>0.101143</td>\n      <td>0.002073</td>\n      <td>-0.013611</td>\n    </tr>\n    <tr>\n      <th>75%</th>\n      <td>0.616366</td>\n      <td>0.780282</td>\n      <td>0.680391</td>\n      <td>0.654328</td>\n    </tr>\n    <tr>\n      <th>max</th>\n      <td>3.366626</td>\n      <td>2.653656</td>\n      <td>3.260383</td>\n      <td>3.927528</td>\n    </tr>\n  </tbody>\n</table>\n</div>"
     },
     "metadata": {},
     "execution_count": 16
    }
   ],
   "source": [
    "np.random.seed(12345) # next line generates the same random numbers\n",
    "data = DataFrame(np.random.randn(1000, 4))\n",
    "data.describe()"
   ]
  },
  {
   "cell_type": "code",
   "execution_count": 17,
   "metadata": {},
   "outputs": [
    {
     "output_type": "execute_result",
     "data": {
      "text/plain": "          0         1         2         3\n0 -0.204708  0.478943 -0.519439 -0.555730\n1  1.965781  1.393406  0.092908  0.281746\n2  0.769023  1.246435  1.007189 -1.296221\n3  0.274992  0.228913  1.352917  0.886429\n4 -2.001637 -0.371843  1.669025 -0.438570",
      "text/html": "<div>\n<style scoped>\n    .dataframe tbody tr th:only-of-type {\n        vertical-align: middle;\n    }\n\n    .dataframe tbody tr th {\n        vertical-align: top;\n    }\n\n    .dataframe thead th {\n        text-align: right;\n    }\n</style>\n<table border=\"1\" class=\"dataframe\">\n  <thead>\n    <tr style=\"text-align: right;\">\n      <th></th>\n      <th>0</th>\n      <th>1</th>\n      <th>2</th>\n      <th>3</th>\n    </tr>\n  </thead>\n  <tbody>\n    <tr>\n      <th>0</th>\n      <td>-0.204708</td>\n      <td>0.478943</td>\n      <td>-0.519439</td>\n      <td>-0.555730</td>\n    </tr>\n    <tr>\n      <th>1</th>\n      <td>1.965781</td>\n      <td>1.393406</td>\n      <td>0.092908</td>\n      <td>0.281746</td>\n    </tr>\n    <tr>\n      <th>2</th>\n      <td>0.769023</td>\n      <td>1.246435</td>\n      <td>1.007189</td>\n      <td>-1.296221</td>\n    </tr>\n    <tr>\n      <th>3</th>\n      <td>0.274992</td>\n      <td>0.228913</td>\n      <td>1.352917</td>\n      <td>0.886429</td>\n    </tr>\n    <tr>\n      <th>4</th>\n      <td>-2.001637</td>\n      <td>-0.371843</td>\n      <td>1.669025</td>\n      <td>-0.438570</td>\n    </tr>\n  </tbody>\n</table>\n</div>"
     },
     "metadata": {},
     "execution_count": 17
    }
   ],
   "source": [
    "data.head()"
   ]
  },
  {
   "cell_type": "code",
   "execution_count": 18,
   "metadata": {},
   "outputs": [
    {
     "output_type": "execute_result",
     "data": {
      "text/plain": "97     3.927528\n305   -3.399312\n400   -3.745356\nName: 3, dtype: float64"
     },
     "metadata": {},
     "execution_count": 18
    }
   ],
   "source": [
    "col = data[3]\n",
    "col[np.abs(col) > 3]"
   ]
  },
  {
   "cell_type": "code",
   "execution_count": 19,
   "metadata": {},
   "outputs": [
    {
     "output_type": "execute_result",
     "data": {
      "text/plain": "            0         1         2         3\n5   -0.539741  0.476985  3.248944 -1.021228\n97  -0.774363  0.552936  0.106061  3.927528\n102 -0.655054 -0.565230  3.176873  0.959533\n305 -2.315555  0.457246 -0.025907 -3.399312\n324  0.050188  1.951312  3.260383  0.963301\n400  0.146326  0.508391 -0.196713 -3.745356\n499 -0.293333 -0.242459 -3.056990  1.918403\n523 -3.428254 -0.296336 -0.439938 -0.867165\n586  0.275144  1.179227 -3.184377  1.369891\n808 -0.362528 -3.548824  1.553205 -2.186301\n900  3.366626 -2.372214  0.851010  1.332846",
      "text/html": "<div>\n<style scoped>\n    .dataframe tbody tr th:only-of-type {\n        vertical-align: middle;\n    }\n\n    .dataframe tbody tr th {\n        vertical-align: top;\n    }\n\n    .dataframe thead th {\n        text-align: right;\n    }\n</style>\n<table border=\"1\" class=\"dataframe\">\n  <thead>\n    <tr style=\"text-align: right;\">\n      <th></th>\n      <th>0</th>\n      <th>1</th>\n      <th>2</th>\n      <th>3</th>\n    </tr>\n  </thead>\n  <tbody>\n    <tr>\n      <th>5</th>\n      <td>-0.539741</td>\n      <td>0.476985</td>\n      <td>3.248944</td>\n      <td>-1.021228</td>\n    </tr>\n    <tr>\n      <th>97</th>\n      <td>-0.774363</td>\n      <td>0.552936</td>\n      <td>0.106061</td>\n      <td>3.927528</td>\n    </tr>\n    <tr>\n      <th>102</th>\n      <td>-0.655054</td>\n      <td>-0.565230</td>\n      <td>3.176873</td>\n      <td>0.959533</td>\n    </tr>\n    <tr>\n      <th>305</th>\n      <td>-2.315555</td>\n      <td>0.457246</td>\n      <td>-0.025907</td>\n      <td>-3.399312</td>\n    </tr>\n    <tr>\n      <th>324</th>\n      <td>0.050188</td>\n      <td>1.951312</td>\n      <td>3.260383</td>\n      <td>0.963301</td>\n    </tr>\n    <tr>\n      <th>400</th>\n      <td>0.146326</td>\n      <td>0.508391</td>\n      <td>-0.196713</td>\n      <td>-3.745356</td>\n    </tr>\n    <tr>\n      <th>499</th>\n      <td>-0.293333</td>\n      <td>-0.242459</td>\n      <td>-3.056990</td>\n      <td>1.918403</td>\n    </tr>\n    <tr>\n      <th>523</th>\n      <td>-3.428254</td>\n      <td>-0.296336</td>\n      <td>-0.439938</td>\n      <td>-0.867165</td>\n    </tr>\n    <tr>\n      <th>586</th>\n      <td>0.275144</td>\n      <td>1.179227</td>\n      <td>-3.184377</td>\n      <td>1.369891</td>\n    </tr>\n    <tr>\n      <th>808</th>\n      <td>-0.362528</td>\n      <td>-3.548824</td>\n      <td>1.553205</td>\n      <td>-2.186301</td>\n    </tr>\n    <tr>\n      <th>900</th>\n      <td>3.366626</td>\n      <td>-2.372214</td>\n      <td>0.851010</td>\n      <td>1.332846</td>\n    </tr>\n  </tbody>\n</table>\n</div>"
     },
     "metadata": {},
     "execution_count": 19
    }
   ],
   "source": [
    "# show any index with values > abs(3)\n",
    "data[(np.abs(data) > 3).any(1)]"
   ]
  },
  {
   "cell_type": "code",
   "execution_count": 20,
   "metadata": {},
   "outputs": [
    {
     "output_type": "execute_result",
     "data": {
      "text/plain": "       0    1    2    3\n0   -1.0  1.0 -1.0 -1.0\n1    1.0  1.0  1.0  1.0\n2    1.0  1.0  1.0 -1.0\n3    1.0  1.0  1.0  1.0\n4   -1.0 -1.0  1.0 -1.0\n..   ...  ...  ...  ...\n995  1.0  1.0 -1.0  1.0\n996 -1.0 -1.0 -1.0 -1.0\n997 -1.0  1.0  1.0  1.0\n998 -1.0 -1.0 -1.0 -1.0\n999  1.0  1.0  1.0  1.0\n\n[1000 rows x 4 columns]",
      "text/html": "<div>\n<style scoped>\n    .dataframe tbody tr th:only-of-type {\n        vertical-align: middle;\n    }\n\n    .dataframe tbody tr th {\n        vertical-align: top;\n    }\n\n    .dataframe thead th {\n        text-align: right;\n    }\n</style>\n<table border=\"1\" class=\"dataframe\">\n  <thead>\n    <tr style=\"text-align: right;\">\n      <th></th>\n      <th>0</th>\n      <th>1</th>\n      <th>2</th>\n      <th>3</th>\n    </tr>\n  </thead>\n  <tbody>\n    <tr>\n      <th>0</th>\n      <td>-1.0</td>\n      <td>1.0</td>\n      <td>-1.0</td>\n      <td>-1.0</td>\n    </tr>\n    <tr>\n      <th>1</th>\n      <td>1.0</td>\n      <td>1.0</td>\n      <td>1.0</td>\n      <td>1.0</td>\n    </tr>\n    <tr>\n      <th>2</th>\n      <td>1.0</td>\n      <td>1.0</td>\n      <td>1.0</td>\n      <td>-1.0</td>\n    </tr>\n    <tr>\n      <th>3</th>\n      <td>1.0</td>\n      <td>1.0</td>\n      <td>1.0</td>\n      <td>1.0</td>\n    </tr>\n    <tr>\n      <th>4</th>\n      <td>-1.0</td>\n      <td>-1.0</td>\n      <td>1.0</td>\n      <td>-1.0</td>\n    </tr>\n    <tr>\n      <th>...</th>\n      <td>...</td>\n      <td>...</td>\n      <td>...</td>\n      <td>...</td>\n    </tr>\n    <tr>\n      <th>995</th>\n      <td>1.0</td>\n      <td>1.0</td>\n      <td>-1.0</td>\n      <td>1.0</td>\n    </tr>\n    <tr>\n      <th>996</th>\n      <td>-1.0</td>\n      <td>-1.0</td>\n      <td>-1.0</td>\n      <td>-1.0</td>\n    </tr>\n    <tr>\n      <th>997</th>\n      <td>-1.0</td>\n      <td>1.0</td>\n      <td>1.0</td>\n      <td>1.0</td>\n    </tr>\n    <tr>\n      <th>998</th>\n      <td>-1.0</td>\n      <td>-1.0</td>\n      <td>-1.0</td>\n      <td>-1.0</td>\n    </tr>\n    <tr>\n      <th>999</th>\n      <td>1.0</td>\n      <td>1.0</td>\n      <td>1.0</td>\n      <td>1.0</td>\n    </tr>\n  </tbody>\n</table>\n<p>1000 rows × 4 columns</p>\n</div>"
     },
     "metadata": {},
     "execution_count": 20
    }
   ],
   "source": [
    "data[np.abs(data) > 3] = np.sign(data)\n",
    "np.sign(data)"
   ]
  },
  {
   "cell_type": "code",
   "execution_count": 21,
   "metadata": {},
   "outputs": [
    {
     "output_type": "execute_result",
     "data": {
      "text/plain": "                 0            1            2            3\ncount  1000.000000  1000.000000  1000.000000  1000.000000\nmean     -0.067623     0.070473     0.023153    -0.000081\nstd       0.987408     0.986061     0.983883     0.977526\nmin      -2.969411    -2.989741    -2.925113    -2.881858\n25%      -0.774890    -0.591841    -0.641675    -0.644144\n50%      -0.116401     0.101143     0.002073    -0.013611\n75%       0.616366     0.780282     0.680391     0.654328\nmax       2.666744     2.653656     2.954439     2.735527",
      "text/html": "<div>\n<style scoped>\n    .dataframe tbody tr th:only-of-type {\n        vertical-align: middle;\n    }\n\n    .dataframe tbody tr th {\n        vertical-align: top;\n    }\n\n    .dataframe thead th {\n        text-align: right;\n    }\n</style>\n<table border=\"1\" class=\"dataframe\">\n  <thead>\n    <tr style=\"text-align: right;\">\n      <th></th>\n      <th>0</th>\n      <th>1</th>\n      <th>2</th>\n      <th>3</th>\n    </tr>\n  </thead>\n  <tbody>\n    <tr>\n      <th>count</th>\n      <td>1000.000000</td>\n      <td>1000.000000</td>\n      <td>1000.000000</td>\n      <td>1000.000000</td>\n    </tr>\n    <tr>\n      <th>mean</th>\n      <td>-0.067623</td>\n      <td>0.070473</td>\n      <td>0.023153</td>\n      <td>-0.000081</td>\n    </tr>\n    <tr>\n      <th>std</th>\n      <td>0.987408</td>\n      <td>0.986061</td>\n      <td>0.983883</td>\n      <td>0.977526</td>\n    </tr>\n    <tr>\n      <th>min</th>\n      <td>-2.969411</td>\n      <td>-2.989741</td>\n      <td>-2.925113</td>\n      <td>-2.881858</td>\n    </tr>\n    <tr>\n      <th>25%</th>\n      <td>-0.774890</td>\n      <td>-0.591841</td>\n      <td>-0.641675</td>\n      <td>-0.644144</td>\n    </tr>\n    <tr>\n      <th>50%</th>\n      <td>-0.116401</td>\n      <td>0.101143</td>\n      <td>0.002073</td>\n      <td>-0.013611</td>\n    </tr>\n    <tr>\n      <th>75%</th>\n      <td>0.616366</td>\n      <td>0.780282</td>\n      <td>0.680391</td>\n      <td>0.654328</td>\n    </tr>\n    <tr>\n      <th>max</th>\n      <td>2.666744</td>\n      <td>2.653656</td>\n      <td>2.954439</td>\n      <td>2.735527</td>\n    </tr>\n  </tbody>\n</table>\n</div>"
     },
     "metadata": {},
     "execution_count": 21
    }
   ],
   "source": [
    "# dataframe cleared of values > abs(3)\n",
    "data.describe()"
   ]
  },
  {
   "cell_type": "code",
   "execution_count": null,
   "metadata": {},
   "outputs": [],
   "source": []
  }
 ]
}