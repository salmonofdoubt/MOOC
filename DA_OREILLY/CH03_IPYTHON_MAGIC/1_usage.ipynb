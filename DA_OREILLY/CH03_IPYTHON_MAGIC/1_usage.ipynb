{
 "nbformat": 4,
 "nbformat_minor": 2,
 "metadata": {
  "language_info": {
   "name": "python",
   "codemirror_mode": {
    "name": "ipython",
    "version": 3
   },
   "version": "3.7.5-final"
  },
  "orig_nbformat": 2,
  "file_extension": ".py",
  "mimetype": "text/x-python",
  "name": "python",
  "npconvert_exporter": "python",
  "pygments_lexer": "ipython3",
  "version": 3,
  "kernelspec": {
   "name": "python3",
   "display_name": "Python 3"
  }
 },
 "cells": [
  {
   "cell_type": "markdown",
   "metadata": {},
   "source": [
    "# IPYTHON BASICS "
   ]
  },
  {
   "cell_type": "markdown",
   "metadata": {},
   "source": [
    "## Pretty print     "
   ]
  },
  {
   "cell_type": "markdown",
   "metadata": {},
   "source": [
    "* Benefits printing dictinaries \n",
    "* Remember dics syntax is: mydict\\[key\\] = \"value\"\n",
    "* Same using list comprehension  \n",
    "* Followed by output of the standard print "
   ]
  },
  {
   "cell_type": "code",
   "execution_count": 79,
   "metadata": {},
   "outputs": [],
   "source": [
    "\n",
    "import numpy as np"
   ]
  },
  {
   "cell_type": "code",
   "execution_count": 89,
   "metadata": {},
   "outputs": [
    {
     "name": "stdout",
     "output_type": "stream",
     "text": "5.51 µs ± 1.37 µs per loop (mean ± std. dev. of 7 runs, 100000 loops each)\n6.2 µs ± 1.04 µs per loop (mean ± std. dev. of 7 runs, 100000 loops each)\n5.75 µs ± 696 ns per loop (mean ± std. dev. of 7 runs, 100000 loops each)\nThe slowest run took 5.41 times longer than the fastest. This could mean that an intermediate result is being cached.\n6.13 µs ± 3.62 µs per loop (mean ± std. dev. of 7 runs, 10000 loops each)\n6.22 µs ± 776 ns per loop (mean ± std. dev. of 7 runs, 100000 loops each)\n6.28 µs ± 1.14 µs per loop (mean ± std. dev. of 7 runs, 100000 loops each)\n5.93 µs ± 1.09 µs per loop (mean ± std. dev. of 7 runs, 100000 loops each)\n"
    },
    {
     "data": {
      "text/plain": "{0: 0.13675782274733023,\n 1: -1.151746491839252,\n 2: -0.18900515664376732,\n 3: 1.2356956497612728,\n 4: -0.2529284165376407,\n 5: 1.5753518825659578,\n 6: 0.4884848127126585}"
     },
     "execution_count": 89,
     "metadata": {},
     "output_type": "execute_result"
    }
   ],
   "source": [
    "data = {}\n",
    "for i in range(7):\n",
    "    data[i] = np.random.randn()\n",
    "\n",
    "# data = {i : np.random.randn() for i in range(7)}\n",
    "\n",
    "data"
   ]
  },
  {
   "cell_type": "code",
   "execution_count": 81,
   "metadata": {},
   "outputs": [
    {
     "name": "stdout",
     "output_type": "stream",
     "text": "{0: 1.2558171700628615, 1: 1.1677185694365368, 2: -1.2382166589318808, 3: -0.053940500710921414, 4: 0.9889875140345536, 5: 0.7932463928070308, 6: 0.3865771922451851}\n"
    }
   ],
   "source": [
    "print(data)"
   ]
  },
  {
   "cell_type": "markdown",
   "metadata": {},
   "source": [
    "### Magic commands\n",
    "#### %TimeIt\n"
   ]
  },
  {
   "cell_type": "code",
   "execution_count": 93,
   "metadata": {},
   "outputs": [
    {
     "name": "stdout",
     "output_type": "stream",
     "text": "1.63 µs ± 203 ns per loop (mean ± std. dev. of 7 runs, 1000000 loops each)\n"
    }
   ],
   "source": [
    "%timeit a = np.random.randn()"
   ]
  },
  {
   "cell_type": "code",
   "execution_count": null,
   "metadata": {},
   "outputs": [],
   "source": []
  }
 ]
}