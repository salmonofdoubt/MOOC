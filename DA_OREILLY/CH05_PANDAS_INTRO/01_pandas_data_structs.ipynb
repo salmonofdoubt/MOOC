{
 "nbformat": 4,
 "nbformat_minor": 2,
 "metadata": {
  "language_info": {
   "name": "python",
   "codemirror_mode": {
    "name": "ipython",
    "version": 3
   },
   "version": "3.7.5-final"
  },
  "orig_nbformat": 2,
  "file_extension": ".py",
  "mimetype": "text/x-python",
  "name": "python",
  "npconvert_exporter": "python",
  "pygments_lexer": "ipython3",
  "version": 3,
  "kernelspec": {
   "name": "python3",
   "display_name": "Python 3"
  }
 },
 "cells": [
  {
   "cell_type": "markdown",
   "metadata": {},
   "source": [
    "# PANDA DATA STRUCTS"
   ]
  },
  {
   "cell_type": "markdown",
   "metadata": {},
   "source": [
    "## Series"
   ]
  },
  {
   "cell_type": "code",
   "execution_count": 1,
   "metadata": {},
   "outputs": [],
   "source": [
    "import pandas as pd # indirect access to methods using pd.\n",
    "from pandas import Series, DataFrame # direct access in local namespace\n",
    "import numpy as np "
   ]
  },
  {
   "cell_type": "code",
   "execution_count": 2,
   "metadata": {},
   "outputs": [
    {
     "data": {
      "text/plain": "0   -8\n1    4\n2   -2\n3    7\ndtype: int64"
     },
     "execution_count": 2,
     "metadata": {},
     "output_type": "execute_result"
    }
   ],
   "source": [
    "# Series is a 1D ndarray with a col for indecies\n",
    "obj = Series([-8,4,-2,7])\n",
    "obj"
   ]
  },
  {
   "cell_type": "code",
   "execution_count": 3,
   "metadata": {},
   "outputs": [
    {
     "data": {
      "text/plain": "array([-8,  4, -2,  7])"
     },
     "execution_count": 3,
     "metadata": {},
     "output_type": "execute_result"
    }
   ],
   "source": [
    "obj.values"
   ]
  },
  {
   "cell_type": "code",
   "execution_count": 4,
   "metadata": {},
   "outputs": [
    {
     "data": {
      "text/plain": "<bound method Series.keys of 0   -8\n1    4\n2   -2\n3    7\ndtype: int64>"
     },
     "execution_count": 4,
     "metadata": {},
     "output_type": "execute_result"
    }
   ],
   "source": [
    "\n",
    "obj.keys"
   ]
  },
  {
   "cell_type": "code",
   "execution_count": 5,
   "metadata": {},
   "outputs": [
    {
     "data": {
      "text/plain": "RangeIndex(start=0, stop=4, step=1)"
     },
     "execution_count": 5,
     "metadata": {},
     "output_type": "execute_result"
    }
   ],
   "source": [
    "obj.index"
   ]
  },
  {
   "cell_type": "code",
   "execution_count": 6,
   "metadata": {},
   "outputs": [
    {
     "data": {
      "text/plain": "1    4\ndtype: int64"
     },
     "execution_count": 6,
     "metadata": {},
     "output_type": "execute_result"
    }
   ],
   "source": [
    "#  [k:v]\n",
    "obj[1:2]"
   ]
  },
  {
   "cell_type": "code",
   "execution_count": 7,
   "metadata": {},
   "outputs": [
    {
     "data": {
      "text/plain": "0   -8\n3    7\ndtype: int64"
     },
     "execution_count": 7,
     "metadata": {},
     "output_type": "execute_result"
    }
   ],
   "source": [
    "# access several keys (indicies) and show their values\n",
    "obj[[0, 3]]"
   ]
  },
  {
   "cell_type": "code",
   "execution_count": 8,
   "metadata": {},
   "outputs": [
    {
     "name": "stdout",
     "output_type": "stream",
     "text": "0   -16\n1     8\n2    -4\n3    14\ndtype: int64\n0       0.000335\n1      54.598150\n2       0.135335\n3    1096.633158\ndtype: float64\n0   -8\n1    4\n2   -2\n3    7\ndtype: int64\n"
    }
   ],
   "source": [
    "print(obj * 2)\n",
    "print(np.exp(obj))\n",
    "print(obj)\n"
   ]
  },
  {
   "cell_type": "code",
   "execution_count": 9,
   "metadata": {},
   "outputs": [
    {
     "data": {
      "text/plain": "3    7\ndtype: int64"
     },
     "execution_count": 9,
     "metadata": {},
     "output_type": "execute_result"
    }
   ],
   "source": [
    "# filter for certain values \n",
    "obj[obj > 5]"
   ]
  },
  {
   "cell_type": "markdown",
   "metadata": {},
   "source": [
    "### Create a Series from a Dictionary"
   ]
  },
  {
   "cell_type": "code",
   "execution_count": 10,
   "metadata": {},
   "outputs": [
    {
     "name": "stdout",
     "output_type": "stream",
     "text": "{'LE': 3500, 'UL': 2000, 'MU': 3000, 'CO': 1000}\n"
    }
   ],
   "source": [
    "dic = {'LE' : 3500, 'UL' : 2000, 'MU' : 3000, 'CO' : 1000}\n",
    "print(dic)\n",
    "sdic = Series(dic)"
   ]
  },
  {
   "cell_type": "code",
   "execution_count": 23,
   "metadata": {},
   "outputs": [
    {
     "data": {
      "text/plain": "LE    3500\nUL    2000\nMU    3000\nCO    1000\ndtype: int64"
     },
     "execution_count": 23,
     "metadata": {},
     "output_type": "execute_result"
    }
   ],
   "source": [
    "sdic = Series(dic)\n",
    "sdic # not sure why values have become NaN"
   ]
  },
  {
   "cell_type": "code",
   "execution_count": 27,
   "metadata": {},
   "outputs": [
    {
     "data": {
      "text/plain": "LE         3500.0\nUL         2000.0\nMU         3000.0\nCO         1000.0\nUNKNOWN       NaN\ndtype: float64"
     },
     "execution_count": 27,
     "metadata": {},
     "output_type": "execute_result"
    }
   ],
   "source": [
    "counties = ['LE','UL','MU','CO', 'UNKNOWN'] \n",
    "# the indices stick, cannot change LE > Leinster this way, but can add one.\n",
    "sdic = Series(dic, index=counties)\n",
    "sdic"
   ]
  },
  {
   "cell_type": "code",
   "execution_count": 28,
   "metadata": {},
   "outputs": [
    {
     "data": {
      "text/plain": "county\nLE         3500.0\nUL         2000.0\nMU         3000.0\nCO         1000.0\nUNKNOWN       NaN\nName: numbers, dtype: float64"
     },
     "execution_count": 28,
     "metadata": {},
     "output_type": "execute_result"
    }
   ],
   "source": [
    "sdic.name = 'numbers'\n",
    "sdic.index.name = 'county'\n",
    "sdic"
   ]
  },
  {
   "cell_type": "code",
   "execution_count": 33,
   "metadata": {},
   "outputs": [
    {
     "data": {
      "text/plain": "Leinster     3500.0\nUlster       2000.0\nMunster      3000.0\nConnaught    1000.0\nUNKNOWN         NaN\nName: cases, dtype: float64"
     },
     "execution_count": 33,
     "metadata": {},
     "output_type": "execute_result"
    }
   ],
   "source": [
    "# change the indicies \n",
    "sdic.index = ['Leinster','Ulster','Munster','Connaught', 'UNKNOWN']\n",
    "sdic\n"
   ]
  },
  {
   "cell_type": "markdown",
   "metadata": {},
   "source": [
    "### DataFrames"
   ]
  },
  {
   "cell_type": "markdown",
   "metadata": {},
   "source": [
    "#### Dataframe from equal lenght dic"
   ]
  },
  {
   "cell_type": "code",
   "execution_count": 50,
   "metadata": {},
   "outputs": [
    {
     "data": {
      "text/plain": "{'state': ['Leinster', 'Leinster', 'Munster', 'Munster'],\n 'year': [2017, 2018, 2017, 2018],\n 'cases': [1.7, 3.6, 2.4, 2.9]}"
     },
     "execution_count": 50,
     "metadata": {},
     "output_type": "execute_result"
    }
   ],
   "source": [
    "data = {'state' : ['Leinster','Leinster','Munster','Munster'],\n",
    "        'year' : [2017, 2018, 2017, 2018],\n",
    "        'cases' : [1.7, 3.6, 2.4, 2.9]}\n",
    "data"
   ]
  },
  {
   "cell_type": "code",
   "execution_count": 54,
   "metadata": {},
   "outputs": [
    {
     "data": {
      "text/html": "<div>\n<style scoped>\n    .dataframe tbody tr th:only-of-type {\n        vertical-align: middle;\n    }\n\n    .dataframe tbody tr th {\n        vertical-align: top;\n    }\n\n    .dataframe thead th {\n        text-align: right;\n    }\n</style>\n<table border=\"1\" class=\"dataframe\">\n  <thead>\n    <tr style=\"text-align: right;\">\n      <th></th>\n      <th>state</th>\n      <th>year</th>\n      <th>cases</th>\n    </tr>\n  </thead>\n  <tbody>\n    <tr>\n      <th>0</th>\n      <td>Leinster</td>\n      <td>2017</td>\n      <td>1.7</td>\n    </tr>\n    <tr>\n      <th>1</th>\n      <td>Leinster</td>\n      <td>2018</td>\n      <td>3.6</td>\n    </tr>\n    <tr>\n      <th>2</th>\n      <td>Munster</td>\n      <td>2017</td>\n      <td>2.4</td>\n    </tr>\n    <tr>\n      <th>3</th>\n      <td>Munster</td>\n      <td>2018</td>\n      <td>2.9</td>\n    </tr>\n  </tbody>\n</table>\n</div>",
      "text/plain": "      state  year  cases\n0  Leinster  2017    1.7\n1  Leinster  2018    3.6\n2   Munster  2017    2.4\n3   Munster  2018    2.9"
     },
     "execution_count": 54,
     "metadata": {},
     "output_type": "execute_result"
    }
   ],
   "source": [
    "frame = DataFrame(data)\n",
    "frame"
   ]
  },
  {
   "cell_type": "code",
   "execution_count": 65,
   "metadata": {},
   "outputs": [
    {
     "data": {
      "text/html": "<div>\n<style scoped>\n    .dataframe tbody tr th:only-of-type {\n        vertical-align: middle;\n    }\n\n    .dataframe tbody tr th {\n        vertical-align: top;\n    }\n\n    .dataframe thead th {\n        text-align: right;\n    }\n</style>\n<table border=\"1\" class=\"dataframe\">\n  <thead>\n    <tr style=\"text-align: right;\">\n      <th></th>\n      <th>year</th>\n      <th>state</th>\n      <th>cases</th>\n    </tr>\n  </thead>\n  <tbody>\n    <tr>\n      <th>0</th>\n      <td>2017</td>\n      <td>Leinster</td>\n      <td>1.7</td>\n    </tr>\n    <tr>\n      <th>1</th>\n      <td>2018</td>\n      <td>Leinster</td>\n      <td>3.6</td>\n    </tr>\n    <tr>\n      <th>2</th>\n      <td>2017</td>\n      <td>Munster</td>\n      <td>2.4</td>\n    </tr>\n    <tr>\n      <th>3</th>\n      <td>2018</td>\n      <td>Munster</td>\n      <td>2.9</td>\n    </tr>\n  </tbody>\n</table>\n</div>",
      "text/plain": "   year     state  cases\n0  2017  Leinster    1.7\n1  2018  Leinster    3.6\n2  2017   Munster    2.4\n3  2018   Munster    2.9"
     },
     "execution_count": 65,
     "metadata": {},
     "output_type": "execute_result"
    }
   ],
   "source": [
    "frame = DataFrame(data, columns=['year','state','cases'])\n",
    "frame"
   ]
  },
  {
   "cell_type": "code",
   "execution_count": 64,
   "metadata": {},
   "outputs": [
    {
     "data": {
      "text/plain": "year        2017\nstate    Munster\ncases        2.4\nName: 2, dtype: object"
     },
     "execution_count": 64,
     "metadata": {},
     "output_type": "execute_result"
    }
   ],
   "source": [
    "frame.ix[2]"
   ]
  },
  {
   "cell_type": "code",
   "execution_count": 68,
   "metadata": {},
   "outputs": [
    {
     "data": {
      "text/html": "<div>\n<style scoped>\n    .dataframe tbody tr th:only-of-type {\n        vertical-align: middle;\n    }\n\n    .dataframe tbody tr th {\n        vertical-align: top;\n    }\n\n    .dataframe thead th {\n        text-align: right;\n    }\n</style>\n<table border=\"1\" class=\"dataframe\">\n  <thead>\n    <tr style=\"text-align: right;\">\n      <th></th>\n      <th>year</th>\n      <th>state</th>\n      <th>cases</th>\n    </tr>\n  </thead>\n  <tbody>\n    <tr>\n      <th>0</th>\n      <td>2017</td>\n      <td>Leinster</td>\n      <td>10</td>\n    </tr>\n    <tr>\n      <th>1</th>\n      <td>2018</td>\n      <td>Leinster</td>\n      <td>10</td>\n    </tr>\n    <tr>\n      <th>2</th>\n      <td>2017</td>\n      <td>Munster</td>\n      <td>10</td>\n    </tr>\n    <tr>\n      <th>3</th>\n      <td>2018</td>\n      <td>Munster</td>\n      <td>10</td>\n    </tr>\n  </tbody>\n</table>\n</div>",
      "text/plain": "   year     state  cases\n0  2017  Leinster     10\n1  2018  Leinster     10\n2  2017   Munster     10\n3  2018   Munster     10"
     },
     "execution_count": 68,
     "metadata": {},
     "output_type": "execute_result"
    }
   ],
   "source": [
    "frame['cases'] = 10\n",
    "frame"
   ]
  },
  {
   "cell_type": "markdown",
   "metadata": {},
   "source": [
    "#### Dataframe from nested dic"
   ]
  },
  {
   "cell_type": "code",
   "execution_count": 70,
   "metadata": {},
   "outputs": [
    {
     "data": {
      "text/plain": "{'Nevada': {2001: 2.4, 2002: 2.9}, 'Ohio': {2000: 1.5, 2001: 1.7, 2002: 1.6}}"
     },
     "execution_count": 70,
     "metadata": {},
     "output_type": "execute_result"
    }
   ],
   "source": [
    "pop = {'Nevada' : {2001 : 2.4, 2002 : 2.9},\n",
    "       'Ohio'   : {2000 : 1.5, 2001 : 1.7, 2002 : 1.6}}"
   ]
  },
  {
   "cell_type": "code",
   "execution_count": 73,
   "metadata": {},
   "outputs": [
    {
     "data": {
      "text/html": "<div>\n<style scoped>\n    .dataframe tbody tr th:only-of-type {\n        vertical-align: middle;\n    }\n\n    .dataframe tbody tr th {\n        vertical-align: top;\n    }\n\n    .dataframe thead th {\n        text-align: right;\n    }\n</style>\n<table border=\"1\" class=\"dataframe\">\n  <thead>\n    <tr style=\"text-align: right;\">\n      <th></th>\n      <th>2001</th>\n      <th>2002</th>\n      <th>2000</th>\n    </tr>\n  </thead>\n  <tbody>\n    <tr>\n      <th>Nevada</th>\n      <td>2.4</td>\n      <td>2.9</td>\n      <td>NaN</td>\n    </tr>\n    <tr>\n      <th>Ohio</th>\n      <td>1.7</td>\n      <td>1.6</td>\n      <td>1.5</td>\n    </tr>\n  </tbody>\n</table>\n</div>",
      "text/plain": "        2001  2002  2000\nNevada   2.4   2.9   NaN\nOhio     1.7   1.6   1.5"
     },
     "execution_count": 73,
     "metadata": {},
     "output_type": "execute_result"
    }
   ],
   "source": [
    "frame3 = DataFrame(pop)\n",
    "frame3.T"
   ]
  },
  {
   "cell_type": "code",
   "execution_count": 75,
   "metadata": {},
   "outputs": [
    {
     "data": {
      "text/html": "<div>\n<style scoped>\n    .dataframe tbody tr th:only-of-type {\n        vertical-align: middle;\n    }\n\n    .dataframe tbody tr th {\n        vertical-align: top;\n    }\n\n    .dataframe thead th {\n        text-align: right;\n    }\n</style>\n<table border=\"1\" class=\"dataframe\">\n  <thead>\n    <tr style=\"text-align: right;\">\n      <th></th>\n      <th>Nevada</th>\n      <th>Ohio</th>\n    </tr>\n  </thead>\n  <tbody>\n    <tr>\n      <th>2000</th>\n      <td>NaN</td>\n      <td>1.5</td>\n    </tr>\n    <tr>\n      <th>2001</th>\n      <td>2.4</td>\n      <td>1.7</td>\n    </tr>\n    <tr>\n      <th>2002</th>\n      <td>2.9</td>\n      <td>1.6</td>\n    </tr>\n    <tr>\n      <th>2003</th>\n      <td>NaN</td>\n      <td>NaN</td>\n    </tr>\n  </tbody>\n</table>\n</div>",
      "text/plain": "      Nevada  Ohio\n2000     NaN   1.5\n2001     2.4   1.7\n2002     2.9   1.6\n2003     NaN   NaN"
     },
     "execution_count": 75,
     "metadata": {},
     "output_type": "execute_result"
    }
   ],
   "source": [
    "DataFrame(pop, index=[2000, 2001, 2002, 2003])"
   ]
  },
  {
   "cell_type": "code",
   "execution_count": null,
   "metadata": {},
   "outputs": [],
   "source": []
  },
  {
   "cell_type": "code",
   "execution_count": null,
   "metadata": {},
   "outputs": [],
   "source": []
  },
  {
   "cell_type": "code",
   "execution_count": null,
   "metadata": {},
   "outputs": [],
   "source": []
  },
  {
   "cell_type": "code",
   "execution_count": null,
   "metadata": {},
   "outputs": [],
   "source": []
  },
  {
   "cell_type": "code",
   "execution_count": null,
   "metadata": {},
   "outputs": [],
   "source": []
  },
  {
   "cell_type": "code",
   "execution_count": null,
   "metadata": {},
   "outputs": [],
   "source": []
  },
  {
   "cell_type": "code",
   "execution_count": null,
   "metadata": {},
   "outputs": [],
   "source": []
  },
  {
   "cell_type": "code",
   "execution_count": null,
   "metadata": {},
   "outputs": [],
   "source": []
  },
  {
   "cell_type": "code",
   "execution_count": null,
   "metadata": {},
   "outputs": [],
   "source": []
  },
  {
   "cell_type": "code",
   "execution_count": null,
   "metadata": {},
   "outputs": [],
   "source": []
  },
  {
   "cell_type": "code",
   "execution_count": null,
   "metadata": {},
   "outputs": [],
   "source": []
  },
  {
   "cell_type": "code",
   "execution_count": null,
   "metadata": {},
   "outputs": [],
   "source": []
  },
  {
   "cell_type": "code",
   "execution_count": null,
   "metadata": {},
   "outputs": [],
   "source": []
  },
  {
   "cell_type": "code",
   "execution_count": null,
   "metadata": {},
   "outputs": [],
   "source": []
  },
  {
   "cell_type": "code",
   "execution_count": null,
   "metadata": {},
   "outputs": [],
   "source": []
  },
  {
   "cell_type": "code",
   "execution_count": null,
   "metadata": {},
   "outputs": [],
   "source": []
  },
  {
   "cell_type": "code",
   "execution_count": null,
   "metadata": {},
   "outputs": [],
   "source": []
  },
  {
   "cell_type": "code",
   "execution_count": null,
   "metadata": {},
   "outputs": [],
   "source": []
  },
  {
   "cell_type": "code",
   "execution_count": null,
   "metadata": {},
   "outputs": [],
   "source": []
  },
  {
   "cell_type": "code",
   "execution_count": null,
   "metadata": {},
   "outputs": [],
   "source": []
  },
  {
   "cell_type": "code",
   "execution_count": null,
   "metadata": {},
   "outputs": [],
   "source": []
  },
  {
   "cell_type": "code",
   "execution_count": null,
   "metadata": {},
   "outputs": [],
   "source": []
  },
  {
   "cell_type": "code",
   "execution_count": null,
   "metadata": {},
   "outputs": [],
   "source": []
  },
  {
   "cell_type": "code",
   "execution_count": null,
   "metadata": {},
   "outputs": [],
   "source": []
  },
  {
   "cell_type": "code",
   "execution_count": null,
   "metadata": {},
   "outputs": [],
   "source": []
  },
  {
   "cell_type": "code",
   "execution_count": null,
   "metadata": {},
   "outputs": [],
   "source": []
  },
  {
   "cell_type": "code",
   "execution_count": null,
   "metadata": {},
   "outputs": [],
   "source": []
  }
 ]
}