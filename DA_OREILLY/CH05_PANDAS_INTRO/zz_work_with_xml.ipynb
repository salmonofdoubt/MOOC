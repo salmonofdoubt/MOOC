{
 "nbformat": 4,
 "nbformat_minor": 2,
 "metadata": {
  "language_info": {
   "name": "python",
   "codemirror_mode": {
    "name": "ipython",
    "version": 3
   },
   "version": "3.7.5-final"
  },
  "orig_nbformat": 2,
  "file_extension": ".py",
  "mimetype": "text/x-python",
  "name": "python",
  "npconvert_exporter": "python",
  "pygments_lexer": "ipython3",
  "version": 3,
  "kernelspec": {
   "name": "python3",
   "display_name": "Python 3"
  }
 },
 "cells": [
  {
   "cell_type": "markdown",
   "metadata": {},
   "source": [
    "Python: Create Blank New Jupyter Notebook"
   ]
  },
  {
   "cell_type": "code",
   "execution_count": 8,
   "metadata": {},
   "outputs": [
    {
     "output_type": "execute_result",
     "data": {
      "text/plain": "<Element 'scenario' at 0x11d30a110>"
     },
     "metadata": {},
     "execution_count": 8
    }
   ],
   "source": [
    "import xml.etree.cElementTree as et\n",
    "import pandas as pd\n",
    "tree=et.parse('test.xml')\n",
    "root=tree.getroot()\n",
    "\n",
    "root"
   ]
  },
  {
   "cell_type": "code",
   "execution_count": 9,
   "metadata": {},
   "outputs": [],
   "source": [
    "Year=[]\n",
    "Gas=[]\n",
    "Value=[]\n",
    "Technology=[]\n",
    "Crop=[]\n",
    "Country=[]"
   ]
  }
 ]
}