{
 "nbformat": 4,
 "nbformat_minor": 2,
 "metadata": {
  "language_info": {
   "name": "python",
   "codemirror_mode": {
    "name": "ipython",
    "version": 3
   },
   "version": "3.7.5-final"
  },
  "orig_nbformat": 2,
  "file_extension": ".py",
  "mimetype": "text/x-python",
  "name": "python",
  "npconvert_exporter": "python",
  "pygments_lexer": "ipython3",
  "version": 3,
  "kernelspec": {
   "name": "python3",
   "display_name": "Python 3"
  }
 },
 "cells": [
  {
   "cell_type": "markdown",
   "metadata": {},
   "source": [
    "# Movie Lens \n",
    "The data sets have 1m ratings based on 6000 users, on 4000 movies. "
   ]
  },
  {
   "cell_type": "markdown",
   "metadata": {},
   "source": [
    "## Prepare the data"
   ]
  },
  {
   "cell_type": "code",
   "execution_count": 76,
   "metadata": {},
   "outputs": [],
   "source": [
    "# import libraries\n",
    "import pandas as pd\n",
    "import numpy as np"
   ]
  },
  {
   "cell_type": "code",
   "execution_count": 77,
   "metadata": {},
   "outputs": [],
   "source": [
    "# define data paths\n",
    "path_users = '../datasets/movielens/users.dat'\n",
    "path_ratings = '../datasets/movielens/ratings.dat'\n",
    "path_movies = '../datasets/movielens/movies.dat'\n"
   ]
  },
  {
   "cell_type": "code",
   "execution_count": 78,
   "metadata": {},
   "outputs": [],
   "source": [
    "# Load the three tables into dataframes\n",
    "unames = ['user_id', 'gender', 'age', 'occupation', 'zip']\n",
    "users = pd.read_table(path_users, sep='::', header=None, names=unames)\n",
    "\n",
    "rnames = ['user_id', 'movie_id', 'rating', 'timestamp']\n",
    "ratings = pd.read_table(path_ratings, sep='::', header=None, names=rnames)\n",
    "\n",
    "mnames = ['movie_id', 'title', 'genres']\n",
    "movies = pd.read_table(path_movies, sep='::', header=None, names=mnames)\n"
   ]
  },
  {
   "cell_type": "code",
   "execution_count": 79,
   "metadata": {},
   "outputs": [],
   "source": [
    "#users['user_id'] = users['user_id'].astype(str).astype(int)\n",
    "#users['user_id'] = users['user_id'].astype(int)\n",
    "#users.astype({'user_id': 'int32'}).dtypes"
   ]
  },
  {
   "cell_type": "code",
   "execution_count": 80,
   "metadata": {},
   "outputs": [
    {
     "name": "stdout",
     "output_type": "stream",
     "text": "\n ---users---\nuser_id        int64\ngender        object\nage            int64\noccupation     int64\nzip           object\ndtype: object\n\n ---ratings---\nuser_id      int64\nmovie_id     int64\nrating       int64\ntimestamp    int64\ndtype: object\n\n ---movies---\nmovie_id     int64\ntitle       object\ngenres      object\ndtype: object\n"
    }
   ],
   "source": [
    "# Checks\n",
    "print('\\n','---users---')\n",
    "print(users.dtypes)\n",
    "print('\\n','---ratings---')\n",
    "print(ratings.dtypes)\n",
    "print('\\n','---movies---')\n",
    "print(movies.dtypes)\n"
   ]
  },
  {
   "cell_type": "code",
   "execution_count": 81,
   "metadata": {},
   "outputs": [
    {
     "data": {
      "text/plain": "user_id        int64\nmovie_id       int64\nrating         int64\ntimestamp      int64\ngender        object\nage            int64\noccupation     int64\nzip           object\ntitle         object\ngenres        object\ndtype: object"
     },
     "execution_count": 81,
     "metadata": {},
     "output_type": "execute_result"
    }
   ],
   "source": [
    "# Merge the 3 sets, first ratings with users, and then the result with movies\n",
    "data = pd.merge(pd.merge(ratings, users), movies)\n",
    "data.dtypes\n",
    "#data.describe #takes a long time to run"
   ]
  },
  {
   "cell_type": "code",
   "execution_count": 82,
   "metadata": {},
   "outputs": [
    {
     "data": {
      "text/html": "<div>\n<style scoped>\n    .dataframe tbody tr th:only-of-type {\n        vertical-align: middle;\n    }\n\n    .dataframe tbody tr th {\n        vertical-align: top;\n    }\n\n    .dataframe thead th {\n        text-align: right;\n    }\n</style>\n<table border=\"1\" class=\"dataframe\">\n  <thead>\n    <tr style=\"text-align: right;\">\n      <th></th>\n      <th>user_id</th>\n      <th>movie_id</th>\n      <th>rating</th>\n      <th>timestamp</th>\n      <th>gender</th>\n      <th>age</th>\n      <th>occupation</th>\n      <th>zip</th>\n      <th>title</th>\n      <th>genres</th>\n    </tr>\n  </thead>\n  <tbody>\n    <tr>\n      <th>0</th>\n      <td>1</td>\n      <td>1193</td>\n      <td>5</td>\n      <td>978300760</td>\n      <td>F</td>\n      <td>1</td>\n      <td>10</td>\n      <td>48067</td>\n      <td>One Flew Over the Cuckoo's Nest (1975)</td>\n      <td>Drama</td>\n    </tr>\n    <tr>\n      <th>1</th>\n      <td>2</td>\n      <td>1193</td>\n      <td>5</td>\n      <td>978298413</td>\n      <td>M</td>\n      <td>56</td>\n      <td>16</td>\n      <td>70072</td>\n      <td>One Flew Over the Cuckoo's Nest (1975)</td>\n      <td>Drama</td>\n    </tr>\n    <tr>\n      <th>2</th>\n      <td>12</td>\n      <td>1193</td>\n      <td>4</td>\n      <td>978220179</td>\n      <td>M</td>\n      <td>25</td>\n      <td>12</td>\n      <td>32793</td>\n      <td>One Flew Over the Cuckoo's Nest (1975)</td>\n      <td>Drama</td>\n    </tr>\n    <tr>\n      <th>3</th>\n      <td>15</td>\n      <td>1193</td>\n      <td>4</td>\n      <td>978199279</td>\n      <td>M</td>\n      <td>25</td>\n      <td>7</td>\n      <td>22903</td>\n      <td>One Flew Over the Cuckoo's Nest (1975)</td>\n      <td>Drama</td>\n    </tr>\n    <tr>\n      <th>4</th>\n      <td>17</td>\n      <td>1193</td>\n      <td>5</td>\n      <td>978158471</td>\n      <td>M</td>\n      <td>50</td>\n      <td>1</td>\n      <td>95350</td>\n      <td>One Flew Over the Cuckoo's Nest (1975)</td>\n      <td>Drama</td>\n    </tr>\n    <tr>\n      <th>...</th>\n      <td>...</td>\n      <td>...</td>\n      <td>...</td>\n      <td>...</td>\n      <td>...</td>\n      <td>...</td>\n      <td>...</td>\n      <td>...</td>\n      <td>...</td>\n      <td>...</td>\n    </tr>\n    <tr>\n      <th>1000204</th>\n      <td>5949</td>\n      <td>2198</td>\n      <td>5</td>\n      <td>958846401</td>\n      <td>M</td>\n      <td>18</td>\n      <td>17</td>\n      <td>47901</td>\n      <td>Modulations (1998)</td>\n      <td>Documentary</td>\n    </tr>\n    <tr>\n      <th>1000205</th>\n      <td>5675</td>\n      <td>2703</td>\n      <td>3</td>\n      <td>976029116</td>\n      <td>M</td>\n      <td>35</td>\n      <td>14</td>\n      <td>30030</td>\n      <td>Broken Vessels (1998)</td>\n      <td>Drama</td>\n    </tr>\n    <tr>\n      <th>1000206</th>\n      <td>5780</td>\n      <td>2845</td>\n      <td>1</td>\n      <td>958153068</td>\n      <td>M</td>\n      <td>18</td>\n      <td>17</td>\n      <td>92886</td>\n      <td>White Boys (1999)</td>\n      <td>Drama</td>\n    </tr>\n    <tr>\n      <th>1000207</th>\n      <td>5851</td>\n      <td>3607</td>\n      <td>5</td>\n      <td>957756608</td>\n      <td>F</td>\n      <td>18</td>\n      <td>20</td>\n      <td>55410</td>\n      <td>One Little Indian (1973)</td>\n      <td>Comedy|Drama|Western</td>\n    </tr>\n    <tr>\n      <th>1000208</th>\n      <td>5938</td>\n      <td>2909</td>\n      <td>4</td>\n      <td>957273353</td>\n      <td>M</td>\n      <td>25</td>\n      <td>1</td>\n      <td>35401</td>\n      <td>Five Wives, Three Secretaries and Me (1998)</td>\n      <td>Documentary</td>\n    </tr>\n  </tbody>\n</table>\n<p>1000209 rows × 10 columns</p>\n</div>",
      "text/plain": "         user_id  movie_id  rating  timestamp gender  age  occupation    zip  \\\n0              1      1193       5  978300760      F    1          10  48067   \n1              2      1193       5  978298413      M   56          16  70072   \n2             12      1193       4  978220179      M   25          12  32793   \n3             15      1193       4  978199279      M   25           7  22903   \n4             17      1193       5  978158471      M   50           1  95350   \n...          ...       ...     ...        ...    ...  ...         ...    ...   \n1000204     5949      2198       5  958846401      M   18          17  47901   \n1000205     5675      2703       3  976029116      M   35          14  30030   \n1000206     5780      2845       1  958153068      M   18          17  92886   \n1000207     5851      3607       5  957756608      F   18          20  55410   \n1000208     5938      2909       4  957273353      M   25           1  35401   \n\n                                               title                genres  \n0             One Flew Over the Cuckoo's Nest (1975)                 Drama  \n1             One Flew Over the Cuckoo's Nest (1975)                 Drama  \n2             One Flew Over the Cuckoo's Nest (1975)                 Drama  \n3             One Flew Over the Cuckoo's Nest (1975)                 Drama  \n4             One Flew Over the Cuckoo's Nest (1975)                 Drama  \n...                                              ...                   ...  \n1000204                           Modulations (1998)           Documentary  \n1000205                        Broken Vessels (1998)                 Drama  \n1000206                            White Boys (1999)                 Drama  \n1000207                     One Little Indian (1973)  Comedy|Drama|Western  \n1000208  Five Wives, Three Secretaries and Me (1998)           Documentary  \n\n[1000209 rows x 10 columns]"
     },
     "execution_count": 82,
     "metadata": {},
     "output_type": "execute_result"
    }
   ],
   "source": [
    "data"
   ]
  },
  {
   "cell_type": "markdown",
   "metadata": {},
   "source": [
    "## Explore the data"
   ]
  },
  {
   "cell_type": "code",
   "execution_count": 110,
   "metadata": {},
   "outputs": [
    {
     "data": {
      "text/html": "<div>\n<style scoped>\n    .dataframe tbody tr th:only-of-type {\n        vertical-align: middle;\n    }\n\n    .dataframe tbody tr th {\n        vertical-align: top;\n    }\n\n    .dataframe thead tr th {\n        text-align: left;\n    }\n\n    .dataframe thead tr:last-of-type th {\n        text-align: right;\n    }\n</style>\n<table border=\"1\" class=\"dataframe\">\n  <thead>\n    <tr>\n      <th></th>\n      <th colspan=\"2\" halign=\"left\">rating</th>\n    </tr>\n    <tr>\n      <th>gender</th>\n      <th>F</th>\n      <th>M</th>\n    </tr>\n    <tr>\n      <th>title</th>\n      <th></th>\n      <th></th>\n    </tr>\n  </thead>\n  <tbody>\n    <tr>\n      <th>$1,000,000 Duck (1971)</th>\n      <td>3.375000</td>\n      <td>2.761905</td>\n    </tr>\n    <tr>\n      <th>'Night Mother (1986)</th>\n      <td>3.388889</td>\n      <td>3.352941</td>\n    </tr>\n    <tr>\n      <th>'Til There Was You (1997)</th>\n      <td>2.675676</td>\n      <td>2.733333</td>\n    </tr>\n    <tr>\n      <th>'burbs, The (1989)</th>\n      <td>2.793478</td>\n      <td>2.962085</td>\n    </tr>\n    <tr>\n      <th>...And Justice for All (1979)</th>\n      <td>3.828571</td>\n      <td>3.689024</td>\n    </tr>\n    <tr>\n      <th>...</th>\n      <td>...</td>\n      <td>...</td>\n    </tr>\n    <tr>\n      <th>Zed &amp; Two Noughts, A (1985)</th>\n      <td>3.500000</td>\n      <td>3.380952</td>\n    </tr>\n    <tr>\n      <th>Zero Effect (1998)</th>\n      <td>3.864407</td>\n      <td>3.723140</td>\n    </tr>\n    <tr>\n      <th>Zero Kelvin (Kj�rlighetens kj�tere) (1995)</th>\n      <td>NaN</td>\n      <td>3.500000</td>\n    </tr>\n    <tr>\n      <th>Zeus and Roxanne (1997)</th>\n      <td>2.777778</td>\n      <td>2.357143</td>\n    </tr>\n    <tr>\n      <th>eXistenZ (1999)</th>\n      <td>3.098592</td>\n      <td>3.289086</td>\n    </tr>\n  </tbody>\n</table>\n<p>3706 rows × 2 columns</p>\n</div>",
      "text/plain": "                                              rating          \ngender                                             F         M\ntitle                                                         \n$1,000,000 Duck (1971)                      3.375000  2.761905\n'Night Mother (1986)                        3.388889  3.352941\n'Til There Was You (1997)                   2.675676  2.733333\n'burbs, The (1989)                          2.793478  2.962085\n...And Justice for All (1979)               3.828571  3.689024\n...                                              ...       ...\nZed & Two Noughts, A (1985)                 3.500000  3.380952\nZero Effect (1998)                          3.864407  3.723140\nZero Kelvin (Kj�rlighetens kj�tere) (1995)       NaN  3.500000\nZeus and Roxanne (1997)                     2.777778  2.357143\neXistenZ (1999)                             3.098592  3.289086\n\n[3706 rows x 2 columns]"
     },
     "execution_count": 110,
     "metadata": {},
     "output_type": "execute_result"
    }
   ],
   "source": [
    "# Explore the mean movie rating, grouped by gender\n",
    "# 'data' is a pd object that has several methods attached to it\n",
    "# 'rating' is a column in 'data', not to be confused with the seperate frame 'ratings'\n",
    "\n",
    "mean_ratings = pd.pivot_table(data, values=['rating'], index=['title'], columns='gender', aggfunc={'rating': np.mean})\n",
    "mean_ratings \n",
    "\n",
    "#pd.pivot_table() is different from what works in the book "
   ]
  },
  {
   "cell_type": "code",
   "execution_count": 84,
   "metadata": {},
   "outputs": [
    {
     "data": {
      "text/plain": "['T',\n '_AXIS_ALIASES',\n '_AXIS_IALIASES',\n '_AXIS_LEN',\n '_AXIS_NAMES',\n '_AXIS_NUMBERS',\n '_AXIS_ORDERS',\n '_AXIS_REVERSED',\n '__abs__',\n '__add__',\n '__and__',\n '__array__',\n '__array_priority__',\n '__array_wrap__',\n '__bool__',\n '__class__',\n '__contains__',\n '__copy__',\n '__deepcopy__',\n '__delattr__',\n '__delitem__',\n '__dict__',\n '__dir__',\n '__div__',\n '__doc__',\n '__eq__',\n '__finalize__',\n '__floordiv__',\n '__format__',\n '__ge__',\n '__getattr__',\n '__getattribute__',\n '__getitem__',\n '__getstate__',\n '__gt__',\n '__hash__',\n '__iadd__',\n '__iand__',\n '__ifloordiv__',\n '__imod__',\n '__imul__',\n '__init__',\n '__init_subclass__',\n '__invert__',\n '__ior__',\n '__ipow__',\n '__isub__',\n '__iter__',\n '__itruediv__',\n '__ixor__',\n '__le__',\n '__len__',\n '__lt__',\n '__matmul__',\n '__mod__',\n '__module__',\n '__mul__',\n '__ne__',\n '__neg__',\n '__new__',\n '__nonzero__',\n '__or__',\n '__pos__',\n '__pow__',\n '__radd__',\n '__rand__',\n '__rdiv__',\n '__reduce__',\n '__reduce_ex__',\n '__repr__',\n '__rfloordiv__',\n '__rmatmul__',\n '__rmod__',\n '__rmul__',\n '__ror__',\n '__round__',\n '__rpow__',\n '__rsub__',\n '__rtruediv__',\n '__rxor__',\n '__setattr__',\n '__setitem__',\n '__setstate__',\n '__sizeof__',\n '__str__',\n '__sub__',\n '__subclasshook__',\n '__truediv__',\n '__weakref__',\n '__xor__',\n '_accessors',\n '_add_numeric_operations',\n '_add_series_only_operations',\n '_add_series_or_dataframe_operations',\n '_agg_by_level',\n '_agg_examples_doc',\n '_agg_summary_and_see_also_doc',\n '_aggregate',\n '_aggregate_multiple_funcs',\n '_align_frame',\n '_align_series',\n '_box_col_values',\n '_box_item_values',\n '_builtin_table',\n '_check_inplace_setting',\n '_check_is_chained_assignment_possible',\n '_check_label_or_level_ambiguity',\n '_check_percentile',\n '_check_setitem_copy',\n '_clear_item_cache',\n '_clip_with_one_bound',\n '_clip_with_scalar',\n '_combine_const',\n '_combine_frame',\n '_combine_match_columns',\n '_combine_match_index',\n '_consolidate',\n '_consolidate_inplace',\n '_construct_axes_dict',\n '_construct_axes_dict_from',\n '_construct_axes_from_arguments',\n '_constructor',\n '_constructor_expanddim',\n '_constructor_sliced',\n '_convert',\n '_count_level',\n '_create_indexer',\n '_cython_table',\n '_data',\n '_deprecations',\n '_dir_additions',\n '_dir_deletions',\n '_drop_axis',\n '_drop_labels_or_levels',\n '_ensure_valid_index',\n '_find_valid_index',\n '_from_arrays',\n '_from_axes',\n '_get_agg_axis',\n '_get_axis',\n '_get_axis_name',\n '_get_axis_number',\n '_get_axis_resolvers',\n '_get_block_manager_axis',\n '_get_bool_data',\n '_get_cacher',\n '_get_index_resolvers',\n '_get_item_cache',\n '_get_label_or_level_values',\n '_get_numeric_data',\n '_get_space_character_free_column_resolvers',\n '_get_value',\n '_get_values',\n '_getitem_bool_array',\n '_getitem_frame',\n '_getitem_multilevel',\n '_gotitem',\n '_iget_item_cache',\n '_indexed_same',\n '_info_axis',\n '_info_axis_name',\n '_info_axis_number',\n '_info_repr',\n '_init_mgr',\n '_internal_get_values',\n '_internal_names',\n '_internal_names_set',\n '_is_builtin_func',\n '_is_cached',\n '_is_copy',\n '_is_cython_func',\n '_is_datelike_mixed_type',\n '_is_homogeneous_type',\n '_is_label_or_level_reference',\n '_is_label_reference',\n '_is_level_reference',\n '_is_mixed_type',\n '_is_numeric_mixed_type',\n '_is_view',\n '_ix',\n '_ixs',\n '_join_compat',\n '_maybe_cache_changed',\n '_maybe_update_cacher',\n '_metadata',\n '_needs_reindex_multi',\n '_obj_with_exclusions',\n '_protect_consolidate',\n '_reduce',\n '_reindex_axes',\n '_reindex_columns',\n '_reindex_index',\n '_reindex_multi',\n '_reindex_with_indexers',\n '_repr_data_resource_',\n '_repr_fits_horizontal_',\n '_repr_fits_vertical_',\n '_repr_html_',\n '_repr_latex_',\n '_reset_cache',\n '_reset_cacher',\n '_sanitize_column',\n '_selected_obj',\n '_selection',\n '_selection_list',\n '_selection_name',\n '_series',\n '_set_as_cached',\n '_set_axis',\n '_set_axis_name',\n '_set_is_copy',\n '_set_item',\n '_set_value',\n '_setitem_array',\n '_setitem_frame',\n '_setitem_slice',\n '_setup_axes',\n '_shallow_copy',\n '_slice',\n '_stat_axis',\n '_stat_axis_name',\n '_stat_axis_number',\n '_to_dict_of_blocks',\n '_try_aggregate_string_function',\n '_typ',\n '_unpickle_frame_compat',\n '_unpickle_matrix_compat',\n '_update_inplace',\n '_validate_dtype',\n '_values',\n '_where',\n '_xs',\n 'abs',\n 'add',\n 'add_prefix',\n 'add_suffix',\n 'age',\n 'agg',\n 'aggregate',\n 'align',\n 'all',\n 'any',\n 'append',\n 'apply',\n 'applymap',\n 'as_matrix',\n 'asfreq',\n 'asof',\n 'assign',\n 'astype',\n 'at',\n 'at_time',\n 'axes',\n 'between_time',\n 'bfill',\n 'bool',\n 'boxplot',\n 'clip',\n 'clip_lower',\n 'clip_upper',\n 'columns',\n 'combine',\n 'combine_first',\n 'compound',\n 'copy',\n 'corr',\n 'corrwith',\n 'count',\n 'cov',\n 'cummax',\n 'cummin',\n 'cumprod',\n 'cumsum',\n 'describe',\n 'diff',\n 'div',\n 'divide',\n 'dot',\n 'drop',\n 'drop_duplicates',\n 'droplevel',\n 'dropna',\n 'dtypes',\n 'duplicated',\n 'empty',\n 'eq',\n 'equals',\n 'eval',\n 'ewm',\n 'expanding',\n 'explode',\n 'ffill',\n 'fillna',\n 'filter',\n 'first',\n 'first_valid_index',\n 'floordiv',\n 'from_dict',\n 'from_records',\n 'ge',\n 'gender',\n 'genres',\n 'get',\n 'get_dtype_counts',\n 'get_ftype_counts',\n 'get_values',\n 'groupby',\n 'gt',\n 'head',\n 'hist',\n 'iat',\n 'idxmax',\n 'idxmin',\n 'iloc',\n 'index',\n 'infer_objects',\n 'info',\n 'insert',\n 'interpolate',\n 'isin',\n 'isna',\n 'isnull',\n 'items',\n 'iteritems',\n 'iterrows',\n 'itertuples',\n 'join',\n 'keys',\n 'kurt',\n 'kurtosis',\n 'last',\n 'last_valid_index',\n 'le',\n 'loc',\n 'lookup',\n 'lt',\n 'mad',\n 'mask',\n 'max',\n 'mean',\n 'median',\n 'melt',\n 'memory_usage',\n 'merge',\n 'min',\n 'mod',\n 'mode',\n 'movie_id',\n 'mul',\n 'multiply',\n 'ndim',\n 'ne',\n 'nlargest',\n 'notna',\n 'notnull',\n 'nsmallest',\n 'nunique',\n 'occupation',\n 'pct_change',\n 'pipe',\n 'pivot',\n 'pivot_table',\n 'plot',\n 'pop',\n 'pow',\n 'prod',\n 'product',\n 'quantile',\n 'query',\n 'radd',\n 'rank',\n 'rating',\n 'rdiv',\n 'reindex',\n 'reindex_like',\n 'rename',\n 'rename_axis',\n 'reorder_levels',\n 'replace',\n 'resample',\n 'reset_index',\n 'rfloordiv',\n 'rmod',\n 'rmul',\n 'rolling',\n 'round',\n 'rpow',\n 'rsub',\n 'rtruediv',\n 'sample',\n 'select_dtypes',\n 'sem',\n 'set_axis',\n 'set_index',\n 'shape',\n 'shift',\n 'size',\n 'skew',\n 'slice_shift',\n 'sort_index',\n 'sort_values',\n 'sparse',\n 'squeeze',\n 'stack',\n 'std',\n 'style',\n 'sub',\n 'subtract',\n 'sum',\n 'swapaxes',\n 'swaplevel',\n 'tail',\n 'take',\n 'timestamp',\n 'title',\n 'to_clipboard',\n 'to_csv',\n 'to_dense',\n 'to_dict',\n 'to_excel',\n 'to_feather',\n 'to_gbq',\n 'to_hdf',\n 'to_html',\n 'to_json',\n 'to_latex',\n 'to_msgpack',\n 'to_numpy',\n 'to_parquet',\n 'to_period',\n 'to_pickle',\n 'to_records',\n 'to_sparse',\n 'to_sql',\n 'to_stata',\n 'to_string',\n 'to_timestamp',\n 'to_xarray',\n 'transform',\n 'transpose',\n 'truediv',\n 'truncate',\n 'tshift',\n 'tz_convert',\n 'tz_localize',\n 'unstack',\n 'update',\n 'user_id',\n 'values',\n 'var',\n 'where',\n 'xs',\n 'zip']"
     },
     "execution_count": 84,
     "metadata": {},
     "output_type": "execute_result"
    }
   ],
   "source": [
    "dir(data)\n",
    "#help(data.groupby)"
   ]
  },
  {
   "cell_type": "code",
   "execution_count": 93,
   "metadata": {},
   "outputs": [
    {
     "data": {
      "text/plain": "title\n$1,000,000 Duck (1971)                37\n'Night Mother (1986)                  70\n'Til There Was You (1997)             52\n'burbs, The (1989)                   303\n...And Justice for All (1979)        199\n1-900 (1994)                           2\n10 Things I Hate About You (1999)    700\n101 Dalmatians (1961)                565\n101 Dalmatians (1996)                364\n12 Angry Men (1957)                  616\ndtype: int64"
     },
     "execution_count": 93,
     "metadata": {},
     "output_type": "execute_result"
    }
   ],
   "source": [
    "# Explore 'ratings' by 'title'\n",
    "ratings_by_title = data.groupby('title').size()\n",
    "ratings_by_title[:10] "
   ]
  },
  {
   "cell_type": "code",
   "execution_count": 94,
   "metadata": {},
   "outputs": [
    {
     "data": {
      "text/plain": "Index([''burbs, The (1989)', '10 Things I Hate About You (1999)',\n       '101 Dalmatians (1961)', '101 Dalmatians (1996)', '12 Angry Men (1957)',\n       '13th Warrior, The (1999)', '2 Days in the Valley (1996)',\n       '20,000 Leagues Under the Sea (1954)', '2001: A Space Odyssey (1968)',\n       '2010 (1984)',\n       ...\n       'X-Men (2000)', 'Year of Living Dangerously (1982)',\n       'Yellow Submarine (1968)', 'You've Got Mail (1998)',\n       'Young Frankenstein (1974)', 'Young Guns (1988)',\n       'Young Guns II (1990)', 'Young Sherlock Holmes (1985)',\n       'Zero Effect (1998)', 'eXistenZ (1999)'],\n      dtype='object', name='title', length=1216)"
     },
     "execution_count": 94,
     "metadata": {},
     "output_type": "execute_result"
    }
   ],
   "source": [
    "# Then filter down to movies that received at least 250 ratings, and are considered 'active'\n",
    "active_titles = ratings_by_title.index[ratings_by_title >= 250]\n",
    "active_titles"
   ]
  },
  {
   "cell_type": "code",
   "execution_count": 111,
   "metadata": {},
   "outputs": [
    {
     "data": {
      "text/html": "<div>\n<style scoped>\n    .dataframe tbody tr th:only-of-type {\n        vertical-align: middle;\n    }\n\n    .dataframe tbody tr th {\n        vertical-align: top;\n    }\n\n    .dataframe thead tr th {\n        text-align: left;\n    }\n\n    .dataframe thead tr:last-of-type th {\n        text-align: right;\n    }\n</style>\n<table border=\"1\" class=\"dataframe\">\n  <thead>\n    <tr>\n      <th></th>\n      <th colspan=\"2\" halign=\"left\">rating</th>\n    </tr>\n    <tr>\n      <th>gender</th>\n      <th>F</th>\n      <th>M</th>\n    </tr>\n    <tr>\n      <th>title</th>\n      <th></th>\n      <th></th>\n    </tr>\n  </thead>\n  <tbody>\n    <tr>\n      <th>'burbs, The (1989)</th>\n      <td>2.793478</td>\n      <td>2.962085</td>\n    </tr>\n    <tr>\n      <th>10 Things I Hate About You (1999)</th>\n      <td>3.646552</td>\n      <td>3.311966</td>\n    </tr>\n    <tr>\n      <th>101 Dalmatians (1961)</th>\n      <td>3.791444</td>\n      <td>3.500000</td>\n    </tr>\n    <tr>\n      <th>101 Dalmatians (1996)</th>\n      <td>3.240000</td>\n      <td>2.911215</td>\n    </tr>\n    <tr>\n      <th>12 Angry Men (1957)</th>\n      <td>4.184397</td>\n      <td>4.328421</td>\n    </tr>\n    <tr>\n      <th>...</th>\n      <td>...</td>\n      <td>...</td>\n    </tr>\n    <tr>\n      <th>Young Guns (1988)</th>\n      <td>3.371795</td>\n      <td>3.425620</td>\n    </tr>\n    <tr>\n      <th>Young Guns II (1990)</th>\n      <td>2.934783</td>\n      <td>2.904025</td>\n    </tr>\n    <tr>\n      <th>Young Sherlock Holmes (1985)</th>\n      <td>3.514706</td>\n      <td>3.363344</td>\n    </tr>\n    <tr>\n      <th>Zero Effect (1998)</th>\n      <td>3.864407</td>\n      <td>3.723140</td>\n    </tr>\n    <tr>\n      <th>eXistenZ (1999)</th>\n      <td>3.098592</td>\n      <td>3.289086</td>\n    </tr>\n  </tbody>\n</table>\n<p>1216 rows × 2 columns</p>\n</div>",
      "text/plain": "                                     rating          \ngender                                    F         M\ntitle                                                \n'burbs, The (1989)                 2.793478  2.962085\n10 Things I Hate About You (1999)  3.646552  3.311966\n101 Dalmatians (1961)              3.791444  3.500000\n101 Dalmatians (1996)              3.240000  2.911215\n12 Angry Men (1957)                4.184397  4.328421\n...                                     ...       ...\nYoung Guns (1988)                  3.371795  3.425620\nYoung Guns II (1990)               2.934783  2.904025\nYoung Sherlock Holmes (1985)       3.514706  3.363344\nZero Effect (1998)                 3.864407  3.723140\neXistenZ (1999)                    3.098592  3.289086\n\n[1216 rows x 2 columns]"
     },
     "execution_count": 111,
     "metadata": {},
     "output_type": "execute_result"
    }
   ],
   "source": [
    "# Find mean ratings\n",
    "mean_ratings = mean_ratings.ix[active_titles]\n",
    "mean_ratings"
   ]
  },
  {
   "cell_type": "code",
   "execution_count": 117,
   "metadata": {},
   "outputs": [
    {
     "data": {
      "text/html": "<div>\n<style scoped>\n    .dataframe tbody tr th:only-of-type {\n        vertical-align: middle;\n    }\n\n    .dataframe tbody tr th {\n        vertical-align: top;\n    }\n\n    .dataframe thead tr th {\n        text-align: left;\n    }\n\n    .dataframe thead tr:last-of-type th {\n        text-align: right;\n    }\n</style>\n<table border=\"1\" class=\"dataframe\">\n  <thead>\n    <tr>\n      <th></th>\n      <th colspan=\"2\" halign=\"left\">rating</th>\n    </tr>\n    <tr>\n      <th>gender</th>\n      <th>M</th>\n      <th>F</th>\n    </tr>\n    <tr>\n      <th>title</th>\n      <th></th>\n      <th></th>\n    </tr>\n  </thead>\n  <tbody>\n    <tr>\n      <th>'burbs, The (1989)</th>\n      <td>2.962085</td>\n      <td>2.793478</td>\n    </tr>\n    <tr>\n      <th>10 Things I Hate About You (1999)</th>\n      <td>3.311966</td>\n      <td>3.646552</td>\n    </tr>\n    <tr>\n      <th>101 Dalmatians (1961)</th>\n      <td>3.500000</td>\n      <td>3.791444</td>\n    </tr>\n    <tr>\n      <th>101 Dalmatians (1996)</th>\n      <td>2.911215</td>\n      <td>3.240000</td>\n    </tr>\n    <tr>\n      <th>12 Angry Men (1957)</th>\n      <td>4.328421</td>\n      <td>4.184397</td>\n    </tr>\n    <tr>\n      <th>...</th>\n      <td>...</td>\n      <td>...</td>\n    </tr>\n    <tr>\n      <th>Young Guns (1988)</th>\n      <td>3.425620</td>\n      <td>3.371795</td>\n    </tr>\n    <tr>\n      <th>Young Guns II (1990)</th>\n      <td>2.904025</td>\n      <td>2.934783</td>\n    </tr>\n    <tr>\n      <th>Young Sherlock Holmes (1985)</th>\n      <td>3.363344</td>\n      <td>3.514706</td>\n    </tr>\n    <tr>\n      <th>Zero Effect (1998)</th>\n      <td>3.723140</td>\n      <td>3.864407</td>\n    </tr>\n    <tr>\n      <th>eXistenZ (1999)</th>\n      <td>3.289086</td>\n      <td>3.098592</td>\n    </tr>\n  </tbody>\n</table>\n<p>1216 rows × 2 columns</p>\n</div>",
      "text/plain": "                                     rating          \ngender                                    M         F\ntitle                                                \n'burbs, The (1989)                 2.962085  2.793478\n10 Things I Hate About You (1999)  3.311966  3.646552\n101 Dalmatians (1961)              3.500000  3.791444\n101 Dalmatians (1996)              2.911215  3.240000\n12 Angry Men (1957)                4.328421  4.184397\n...                                     ...       ...\nYoung Guns (1988)                  3.425620  3.371795\nYoung Guns II (1990)               2.904025  2.934783\nYoung Sherlock Holmes (1985)       3.363344  3.514706\nZero Effect (1998)                 3.723140  3.864407\neXistenZ (1999)                    3.289086  3.098592\n\n[1216 rows x 2 columns]"
     },
     "execution_count": 117,
     "metadata": {},
     "output_type": "execute_result"
    }
   ],
   "source": [
    "# Top films among femals\n",
    "top_female_ratings = mean_ratings.sort_index(axis=1, ascending=False)\n",
    "top_female_ratings"
   ]
  },
  {
   "cell_type": "code",
   "execution_count": null,
   "metadata": {},
   "outputs": [],
   "source": []
  }
 ]
}