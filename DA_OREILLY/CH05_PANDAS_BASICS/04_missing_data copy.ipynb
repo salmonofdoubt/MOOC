{
 "nbformat": 4,
 "nbformat_minor": 2,
 "metadata": {
  "language_info": {
   "name": "python",
   "codemirror_mode": {
    "name": "ipython",
    "version": 3
   },
   "version": "3.7.5-final"
  },
  "orig_nbformat": 2,
  "file_extension": ".py",
  "mimetype": "text/x-python",
  "name": "python",
  "npconvert_exporter": "python",
  "pygments_lexer": "ipython3",
  "version": 3,
  "kernelspec": {
   "name": "python3",
   "display_name": "Python 3"
  }
 },
 "cells": [
  {
   "cell_type": "markdown",
   "metadata": {},
   "source": [
    "# HIERACHICAL INDEXING"
   ],
   "execution_count": null,
   "outputs": []
  },
  {
   "cell_type": "code",
   "execution_count": 14,
   "metadata": {},
   "outputs": [],
   "source": [
    "import pandas as pd\n",
    "import numpy as np\n",
    "from pandas import Series, DataFrame\n",
    ""
   ]
  },
  {
   "cell_type": "code",
   "execution_count": 15,
   "metadata": {},
   "outputs": [
    {
     "output_type": "execute_result",
     "data": {
      "text/plain": "0     aardvark\n1    artichoke\n2      avocado\n3          NaN\n4         None\ndtype: object"
     },
     "metadata": {},
     "execution_count": 15
    }
   ],
   "source": [
    "sdata = Series(['aardvark', 'artichoke', 'avocado', np.nan,  None])\n",
    "sdata"
   ]
  },
  {
   "cell_type": "code",
   "execution_count": 16,
   "metadata": {},
   "outputs": [
    {
     "output_type": "execute_result",
     "data": {
      "text/plain": "0    False\n1    False\n2    False\n3     True\n4     True\ndtype: bool"
     },
     "metadata": {},
     "execution_count": 16
    }
   ],
   "source": [
    "sdata.isnull()"
   ]
  },
  {
   "cell_type": "code",
   "execution_count": 17,
   "metadata": {},
   "outputs": [
    {
     "output_type": "execute_result",
     "data": {
      "text/plain": "0     aardvark\n1    artichoke\n2      avocado\ndtype: object"
     },
     "metadata": {},
     "execution_count": 17
    }
   ],
   "source": [
    "cleaned = sdata.dropna()\n",
    "cleaned"
   ]
  },
  {
   "cell_type": "code",
   "execution_count": 18,
   "metadata": {},
   "outputs": [
    {
     "output_type": "execute_result",
     "data": {
      "text/plain": "          0         1         2\n0 -0.192204       NaN       NaN\n1 -1.071186       NaN       NaN\n2  0.354511       NaN       NaN\n3  0.670731       NaN -0.355758\n4 -0.186911       NaN  0.556277\n5 -1.638847  1.126889 -0.175484\n6 -2.077592 -0.760589  0.640849",
      "text/html": "<div>\n<style scoped>\n    .dataframe tbody tr th:only-of-type {\n        vertical-align: middle;\n    }\n\n    .dataframe tbody tr th {\n        vertical-align: top;\n    }\n\n    .dataframe thead th {\n        text-align: right;\n    }\n</style>\n<table border=\"1\" class=\"dataframe\">\n  <thead>\n    <tr style=\"text-align: right;\">\n      <th></th>\n      <th>0</th>\n      <th>1</th>\n      <th>2</th>\n    </tr>\n  </thead>\n  <tbody>\n    <tr>\n      <th>0</th>\n      <td>-0.192204</td>\n      <td>NaN</td>\n      <td>NaN</td>\n    </tr>\n    <tr>\n      <th>1</th>\n      <td>-1.071186</td>\n      <td>NaN</td>\n      <td>NaN</td>\n    </tr>\n    <tr>\n      <th>2</th>\n      <td>0.354511</td>\n      <td>NaN</td>\n      <td>NaN</td>\n    </tr>\n    <tr>\n      <th>3</th>\n      <td>0.670731</td>\n      <td>NaN</td>\n      <td>-0.355758</td>\n    </tr>\n    <tr>\n      <th>4</th>\n      <td>-0.186911</td>\n      <td>NaN</td>\n      <td>0.556277</td>\n    </tr>\n    <tr>\n      <th>5</th>\n      <td>-1.638847</td>\n      <td>1.126889</td>\n      <td>-0.175484</td>\n    </tr>\n    <tr>\n      <th>6</th>\n      <td>-2.077592</td>\n      <td>-0.760589</td>\n      <td>0.640849</td>\n    </tr>\n  </tbody>\n</table>\n</div>"
     },
     "metadata": {},
     "execution_count": 18
    }
   ],
   "source": [
    "df = DataFrame(np.random.randn(7,3))\n",
    "df.ix[:4,1] = np.nan\n",
    "df.ix[:2,2] = np.nan\n",
    "df"
   ]
  },
  {
   "cell_type": "code",
   "execution_count": 19,
   "metadata": {},
   "outputs": [
    {
     "output_type": "execute_result",
     "data": {
      "text/plain": "          0         1         2\n5 -1.638847  1.126889 -0.175484\n6 -2.077592 -0.760589  0.640849",
      "text/html": "<div>\n<style scoped>\n    .dataframe tbody tr th:only-of-type {\n        vertical-align: middle;\n    }\n\n    .dataframe tbody tr th {\n        vertical-align: top;\n    }\n\n    .dataframe thead th {\n        text-align: right;\n    }\n</style>\n<table border=\"1\" class=\"dataframe\">\n  <thead>\n    <tr style=\"text-align: right;\">\n      <th></th>\n      <th>0</th>\n      <th>1</th>\n      <th>2</th>\n    </tr>\n  </thead>\n  <tbody>\n    <tr>\n      <th>5</th>\n      <td>-1.638847</td>\n      <td>1.126889</td>\n      <td>-0.175484</td>\n    </tr>\n    <tr>\n      <th>6</th>\n      <td>-2.077592</td>\n      <td>-0.760589</td>\n      <td>0.640849</td>\n    </tr>\n  </tbody>\n</table>\n</div>"
     },
     "metadata": {},
     "execution_count": 19
    }
   ],
   "source": [
    "df.dropna(thresh=3)"
   ]
  },
  {
   "cell_type": "code",
   "execution_count": 20,
   "metadata": {},
   "outputs": [
    {
     "output_type": "execute_result",
     "data": {
      "text/plain": "          0         1         2\n0 -0.192204  0.000000  0.000000\n1 -1.071186  0.000000  0.000000\n2  0.354511  0.000000  0.000000\n3  0.670731  0.000000 -0.355758\n4 -0.186911  0.000000  0.556277\n5 -1.638847  1.126889 -0.175484\n6 -2.077592 -0.760589  0.640849",
      "text/html": "<div>\n<style scoped>\n    .dataframe tbody tr th:only-of-type {\n        vertical-align: middle;\n    }\n\n    .dataframe tbody tr th {\n        vertical-align: top;\n    }\n\n    .dataframe thead th {\n        text-align: right;\n    }\n</style>\n<table border=\"1\" class=\"dataframe\">\n  <thead>\n    <tr style=\"text-align: right;\">\n      <th></th>\n      <th>0</th>\n      <th>1</th>\n      <th>2</th>\n    </tr>\n  </thead>\n  <tbody>\n    <tr>\n      <th>0</th>\n      <td>-0.192204</td>\n      <td>0.000000</td>\n      <td>0.000000</td>\n    </tr>\n    <tr>\n      <th>1</th>\n      <td>-1.071186</td>\n      <td>0.000000</td>\n      <td>0.000000</td>\n    </tr>\n    <tr>\n      <th>2</th>\n      <td>0.354511</td>\n      <td>0.000000</td>\n      <td>0.000000</td>\n    </tr>\n    <tr>\n      <th>3</th>\n      <td>0.670731</td>\n      <td>0.000000</td>\n      <td>-0.355758</td>\n    </tr>\n    <tr>\n      <th>4</th>\n      <td>-0.186911</td>\n      <td>0.000000</td>\n      <td>0.556277</td>\n    </tr>\n    <tr>\n      <th>5</th>\n      <td>-1.638847</td>\n      <td>1.126889</td>\n      <td>-0.175484</td>\n    </tr>\n    <tr>\n      <th>6</th>\n      <td>-2.077592</td>\n      <td>-0.760589</td>\n      <td>0.640849</td>\n    </tr>\n  </tbody>\n</table>\n</div>"
     },
     "metadata": {},
     "execution_count": 20
    }
   ],
   "source": [
    "df.fillna(0.)"
   ]
  },
  {
   "cell_type": "code",
   "execution_count": 21,
   "metadata": {},
   "outputs": [
    {
     "output_type": "execute_result",
     "data": {
      "text/plain": "          0         1         2\n0 -0.192204  0.500000  0.800000\n1 -1.071186  0.500000  0.800000\n2  0.354511  0.500000  0.800000\n3  0.670731  0.500000 -0.355758\n4 -0.186911  0.500000  0.556277\n5 -1.638847  1.126889 -0.175484\n6 -2.077592 -0.760589  0.640849",
      "text/html": "<div>\n<style scoped>\n    .dataframe tbody tr th:only-of-type {\n        vertical-align: middle;\n    }\n\n    .dataframe tbody tr th {\n        vertical-align: top;\n    }\n\n    .dataframe thead th {\n        text-align: right;\n    }\n</style>\n<table border=\"1\" class=\"dataframe\">\n  <thead>\n    <tr style=\"text-align: right;\">\n      <th></th>\n      <th>0</th>\n      <th>1</th>\n      <th>2</th>\n    </tr>\n  </thead>\n  <tbody>\n    <tr>\n      <th>0</th>\n      <td>-0.192204</td>\n      <td>0.500000</td>\n      <td>0.800000</td>\n    </tr>\n    <tr>\n      <th>1</th>\n      <td>-1.071186</td>\n      <td>0.500000</td>\n      <td>0.800000</td>\n    </tr>\n    <tr>\n      <th>2</th>\n      <td>0.354511</td>\n      <td>0.500000</td>\n      <td>0.800000</td>\n    </tr>\n    <tr>\n      <th>3</th>\n      <td>0.670731</td>\n      <td>0.500000</td>\n      <td>-0.355758</td>\n    </tr>\n    <tr>\n      <th>4</th>\n      <td>-0.186911</td>\n      <td>0.500000</td>\n      <td>0.556277</td>\n    </tr>\n    <tr>\n      <th>5</th>\n      <td>-1.638847</td>\n      <td>1.126889</td>\n      <td>-0.175484</td>\n    </tr>\n    <tr>\n      <th>6</th>\n      <td>-2.077592</td>\n      <td>-0.760589</td>\n      <td>0.640849</td>\n    </tr>\n  </tbody>\n</table>\n</div>"
     },
     "metadata": {},
     "execution_count": 21
    }
   ],
   "source": [
    "df.fillna({1: 0.5, 2: 0.8})"
   ]
  },
  {
   "cell_type": "code",
   "execution_count": 22,
   "metadata": {},
   "outputs": [
    {
     "output_type": "execute_result",
     "data": {
      "text/plain": "          0         1         2\n0 -0.192204       NaN       NaN\n1 -1.071186       NaN       NaN\n2  0.354511       NaN       NaN\n3  0.670731       NaN -0.355758\n4 -0.186911       NaN  0.556277\n5 -1.638847  1.126889 -0.175484\n6 -2.077592 -0.760589  0.640849",
      "text/html": "<div>\n<style scoped>\n    .dataframe tbody tr th:only-of-type {\n        vertical-align: middle;\n    }\n\n    .dataframe tbody tr th {\n        vertical-align: top;\n    }\n\n    .dataframe thead th {\n        text-align: right;\n    }\n</style>\n<table border=\"1\" class=\"dataframe\">\n  <thead>\n    <tr style=\"text-align: right;\">\n      <th></th>\n      <th>0</th>\n      <th>1</th>\n      <th>2</th>\n    </tr>\n  </thead>\n  <tbody>\n    <tr>\n      <th>0</th>\n      <td>-0.192204</td>\n      <td>NaN</td>\n      <td>NaN</td>\n    </tr>\n    <tr>\n      <th>1</th>\n      <td>-1.071186</td>\n      <td>NaN</td>\n      <td>NaN</td>\n    </tr>\n    <tr>\n      <th>2</th>\n      <td>0.354511</td>\n      <td>NaN</td>\n      <td>NaN</td>\n    </tr>\n    <tr>\n      <th>3</th>\n      <td>0.670731</td>\n      <td>NaN</td>\n      <td>-0.355758</td>\n    </tr>\n    <tr>\n      <th>4</th>\n      <td>-0.186911</td>\n      <td>NaN</td>\n      <td>0.556277</td>\n    </tr>\n    <tr>\n      <th>5</th>\n      <td>-1.638847</td>\n      <td>1.126889</td>\n      <td>-0.175484</td>\n    </tr>\n    <tr>\n      <th>6</th>\n      <td>-2.077592</td>\n      <td>-0.760589</td>\n      <td>0.640849</td>\n    </tr>\n  </tbody>\n</table>\n</div>"
     },
     "metadata": {},
     "execution_count": 22
    }
   ],
   "source": [
    "df"
   ]
  },
  {
   "cell_type": "code",
   "execution_count": 23,
   "metadata": {},
   "outputs": [],
   "source": [
    "_ = df.fillna(0, inplace=True)"
   ]
  },
  {
   "cell_type": "code",
   "execution_count": 24,
   "metadata": {},
   "outputs": [
    {
     "output_type": "execute_result",
     "data": {
      "text/plain": "          0         1         2\n0 -0.192204  0.000000  0.000000\n1 -1.071186  0.000000  0.000000\n2  0.354511  0.000000  0.000000\n3  0.670731  0.000000 -0.355758\n4 -0.186911  0.000000  0.556277\n5 -1.638847  1.126889 -0.175484\n6 -2.077592 -0.760589  0.640849",
      "text/html": "<div>\n<style scoped>\n    .dataframe tbody tr th:only-of-type {\n        vertical-align: middle;\n    }\n\n    .dataframe tbody tr th {\n        vertical-align: top;\n    }\n\n    .dataframe thead th {\n        text-align: right;\n    }\n</style>\n<table border=\"1\" class=\"dataframe\">\n  <thead>\n    <tr style=\"text-align: right;\">\n      <th></th>\n      <th>0</th>\n      <th>1</th>\n      <th>2</th>\n    </tr>\n  </thead>\n  <tbody>\n    <tr>\n      <th>0</th>\n      <td>-0.192204</td>\n      <td>0.000000</td>\n      <td>0.000000</td>\n    </tr>\n    <tr>\n      <th>1</th>\n      <td>-1.071186</td>\n      <td>0.000000</td>\n      <td>0.000000</td>\n    </tr>\n    <tr>\n      <th>2</th>\n      <td>0.354511</td>\n      <td>0.000000</td>\n      <td>0.000000</td>\n    </tr>\n    <tr>\n      <th>3</th>\n      <td>0.670731</td>\n      <td>0.000000</td>\n      <td>-0.355758</td>\n    </tr>\n    <tr>\n      <th>4</th>\n      <td>-0.186911</td>\n      <td>0.000000</td>\n      <td>0.556277</td>\n    </tr>\n    <tr>\n      <th>5</th>\n      <td>-1.638847</td>\n      <td>1.126889</td>\n      <td>-0.175484</td>\n    </tr>\n    <tr>\n      <th>6</th>\n      <td>-2.077592</td>\n      <td>-0.760589</td>\n      <td>0.640849</td>\n    </tr>\n  </tbody>\n</table>\n</div>"
     },
     "metadata": {},
     "execution_count": 24
    }
   ],
   "source": [
    "df"
   ]
  },
  {
   "cell_type": "code",
   "execution_count": 25,
   "metadata": {},
   "outputs": [
    {
     "output_type": "execute_result",
     "data": {
      "text/plain": "          0         1         2\n0  0.788129       NaN       NaN\n1 -0.696667       NaN       NaN\n2 -0.613801       NaN       NaN\n3  0.529427       NaN -0.021886\n4 -1.464682       NaN  0.224934\n5  0.927576  1.804449  0.004140\n6  0.298825 -0.024735  0.651585",
      "text/html": "<div>\n<style scoped>\n    .dataframe tbody tr th:only-of-type {\n        vertical-align: middle;\n    }\n\n    .dataframe tbody tr th {\n        vertical-align: top;\n    }\n\n    .dataframe thead th {\n        text-align: right;\n    }\n</style>\n<table border=\"1\" class=\"dataframe\">\n  <thead>\n    <tr style=\"text-align: right;\">\n      <th></th>\n      <th>0</th>\n      <th>1</th>\n      <th>2</th>\n    </tr>\n  </thead>\n  <tbody>\n    <tr>\n      <th>0</th>\n      <td>0.788129</td>\n      <td>NaN</td>\n      <td>NaN</td>\n    </tr>\n    <tr>\n      <th>1</th>\n      <td>-0.696667</td>\n      <td>NaN</td>\n      <td>NaN</td>\n    </tr>\n    <tr>\n      <th>2</th>\n      <td>-0.613801</td>\n      <td>NaN</td>\n      <td>NaN</td>\n    </tr>\n    <tr>\n      <th>3</th>\n      <td>0.529427</td>\n      <td>NaN</td>\n      <td>-0.021886</td>\n    </tr>\n    <tr>\n      <th>4</th>\n      <td>-1.464682</td>\n      <td>NaN</td>\n      <td>0.224934</td>\n    </tr>\n    <tr>\n      <th>5</th>\n      <td>0.927576</td>\n      <td>1.804449</td>\n      <td>0.004140</td>\n    </tr>\n    <tr>\n      <th>6</th>\n      <td>0.298825</td>\n      <td>-0.024735</td>\n      <td>0.651585</td>\n    </tr>\n  </tbody>\n</table>\n</div>"
     },
     "metadata": {},
     "execution_count": 25
    }
   ],
   "source": [
    "df = DataFrame(np.random.randn(7,3))\n",
    "df.ix[:4,1] = np.nan\n",
    "df.ix[:2,2] = np.nan\n",
    "df"
   ]
  },
  {
   "cell_type": "code",
   "execution_count": 26,
   "metadata": {},
   "outputs": [
    {
     "output_type": "execute_result",
     "data": {
      "text/plain": "          0         1         2\n0  0.788129  0.889857  0.214693\n1 -0.696667  0.889857  0.214693\n2 -0.613801  0.889857  0.214693\n3  0.529427  0.889857 -0.021886\n4 -1.464682  0.889857  0.224934\n5  0.927576  1.804449  0.004140\n6  0.298825 -0.024735  0.651585",
      "text/html": "<div>\n<style scoped>\n    .dataframe tbody tr th:only-of-type {\n        vertical-align: middle;\n    }\n\n    .dataframe tbody tr th {\n        vertical-align: top;\n    }\n\n    .dataframe thead th {\n        text-align: right;\n    }\n</style>\n<table border=\"1\" class=\"dataframe\">\n  <thead>\n    <tr style=\"text-align: right;\">\n      <th></th>\n      <th>0</th>\n      <th>1</th>\n      <th>2</th>\n    </tr>\n  </thead>\n  <tbody>\n    <tr>\n      <th>0</th>\n      <td>0.788129</td>\n      <td>0.889857</td>\n      <td>0.214693</td>\n    </tr>\n    <tr>\n      <th>1</th>\n      <td>-0.696667</td>\n      <td>0.889857</td>\n      <td>0.214693</td>\n    </tr>\n    <tr>\n      <th>2</th>\n      <td>-0.613801</td>\n      <td>0.889857</td>\n      <td>0.214693</td>\n    </tr>\n    <tr>\n      <th>3</th>\n      <td>0.529427</td>\n      <td>0.889857</td>\n      <td>-0.021886</td>\n    </tr>\n    <tr>\n      <th>4</th>\n      <td>-1.464682</td>\n      <td>0.889857</td>\n      <td>0.224934</td>\n    </tr>\n    <tr>\n      <th>5</th>\n      <td>0.927576</td>\n      <td>1.804449</td>\n      <td>0.004140</td>\n    </tr>\n    <tr>\n      <th>6</th>\n      <td>0.298825</td>\n      <td>-0.024735</td>\n      <td>0.651585</td>\n    </tr>\n  </tbody>\n</table>\n</div>"
     },
     "metadata": {},
     "execution_count": 26
    }
   ],
   "source": [
    "\n",
    "df.fillna(df.mean())"
   ]
  },
  {
   "cell_type": "markdown",
   "metadata": {},
   "source": [
    "Cool!"
   ],
   "execution_count": null,
   "outputs": []
  },
  {
   "cell_type": "code",
   "execution_count": null,
   "metadata": {},
   "outputs": [],
   "source": []
  },
  {
   "cell_type": "code",
   "execution_count": null,
   "metadata": {},
   "outputs": [],
   "source": []
  },
  {
   "cell_type": "code",
   "execution_count": null,
   "metadata": {},
   "outputs": [],
   "source": []
  },
  {
   "cell_type": "code",
   "execution_count": null,
   "metadata": {},
   "outputs": [],
   "source": []
  },
  {
   "cell_type": "code",
   "execution_count": null,
   "metadata": {},
   "outputs": [],
   "source": []
  },
  {
   "cell_type": "code",
   "execution_count": null,
   "metadata": {},
   "outputs": [],
   "source": []
  },
  {
   "cell_type": "code",
   "execution_count": null,
   "metadata": {},
   "outputs": [],
   "source": []
  }
 ]
}