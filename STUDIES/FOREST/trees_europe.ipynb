{
 "nbformat": 4,
 "nbformat_minor": 2,
 "metadata": {
  "language_info": {
   "name": "python",
   "codemirror_mode": {
    "name": "ipython",
    "version": 3
   },
   "version": "3.7.5-final"
  },
  "orig_nbformat": 2,
  "file_extension": ".py",
  "mimetype": "text/x-python",
  "name": "python",
  "npconvert_exporter": "python",
  "pygments_lexer": "ipython3",
  "version": 3,
  "kernelspec": {
   "name": "python3",
   "display_name": "Python 3"
  }
 },
 "cells": [
  {
   "cell_type": "markdown",
   "metadata": {},
   "source": [
    "# Analyse Trees across Europe"
   ]
  },
  {
   "cell_type": "code",
   "execution_count": 4,
   "metadata": {},
   "outputs": [],
   "source": [
    "import pandas as pd\n",
    "import numpy as np \n",
    ""
   ]
  },
  {
   "cell_type": "code",
   "execution_count": 5,
   "metadata": {},
   "outputs": [],
   "source": [
    "path_species = 'EUForestspecies.csv'\n",
    "path_genus  = 'EUForestgenus.csv'\n",
    ""
   ]
  },
  {
   "cell_type": "code",
   "execution_count": 7,
   "metadata": {},
   "outputs": [
    {
     "output_type": "stream",
     "name": "stdout",
     "text": "<class 'pandas.core.frame.DataFrame'>\nRangeIndex: 588983 entries, 0 to 588982\nData columns (total 10 columns):\nX               588983 non-null int64\nY               588983 non-null int64\nCOUNTRY         588983 non-null object\nSPECIES NAME    588983 non-null object\nDBH-1           588983 non-null int64\nDBH-2           588983 non-null int64\nNFI             588983 non-null int64\nFF              588983 non-null int64\nBS              588983 non-null int64\nEEO             588983 non-null int64\ndtypes: int64(8), object(2)\nmemory usage: 44.9+ MB\n"
    }
   ],
   "source": [
    "df_species = pd.read_csv(path_species)\n",
    "df_species.info()"
   ]
  },
  {
   "cell_type": "code",
   "execution_count": 8,
   "metadata": {},
   "outputs": [
    {
     "output_type": "stream",
     "name": "stdout",
     "text": "<class 'pandas.core.frame.DataFrame'>\nRangeIndex: 589657 entries, 0 to 589656\nData columns (total 4 columns):\nX             589657 non-null int64\nY             589657 non-null int64\nCOUNTRY       589657 non-null object\nGenus name    589657 non-null object\ndtypes: int64(2), object(2)\nmemory usage: 18.0+ MB\n"
    }
   ],
   "source": [
    "df_genus = pd.read_csv(path_genus)\n",
    "df_genus.info()"
   ]
  }
 ]
}