{
 "cells": [
  {
   "cell_type": "markdown",
   "metadata": {},
   "source": [
    "# Efficient Frontiner from Modern Portfolio Theory implemented in Python"
   ],
   "execution_count": null,
   "outputs": []
  },
  {
   "cell_type": "markdown",
   "metadata": {},
   "source": [
    "Source: https://github.com/tthustla/efficient_frontier/blob/master/Efficient%20_Frontier_implementation.ipynb\n",
    "\n",
    "I am not the author of this work. I am using the code exclusively for my own learning and understanding experience.  "
   ],
   "execution_count": null,
   "outputs": []
  },
  {
   "cell_type": "markdown",
   "metadata": {},
   "source": [
    "Series of Medium blog post by Bernard Brenyah (https://medium.com/@bbrenyah)\n",
    "- Markowitz’s Efficient Frontier in Python [Part 1/2] (https://medium.com/python-data/effient-frontier-in-python-34b0c3043314)\n",
    "- Markowitz’s Efficient Frontier in Python [Part 2/2] (https://medium.com/python-data/efficient-frontier-portfolio-optimization-with-python-part-2-2-2fe23413ad94)"
   ],
   "execution_count": null,
   "outputs": []
  },
  {
   "cell_type": "markdown",
   "metadata": {},
   "source": [
    "Blog post by Bradford Lynch (http://www.bradfordlynch.com/)\n",
    "- Investment Portfolio Optimization (http://www.bradfordlynch.com/blog/2015/12/04/InvestmentPortfolioOptimization.html)"
   ],
   "execution_count": null,
   "outputs": []
  },
  {
   "cell_type": "markdown",
   "metadata": {},
   "source": [
    "## Modern Portfolio Theory"
   ],
   "execution_count": null,
   "outputs": []
  },
  {
   "cell_type": "markdown",
   "metadata": {},
   "source": [
    "Modern Portfolio Theory (MPT) is an investment theory developed by Harry Markowitz and published under the title \"Portfolio Selection\" in the Journal of Finance in 1952.\n",
    "\n",
    "\"TANSTAAFL\" stands for \"There Ain't No Such Thing As A Free Lunch\". A concept also closely related to 'risk-return trade-off'.\n",
    "\n",
    "Higher risk is associated with greater probability of higher return and lower risk with a greater probability of smaller return. MPT assumes that investors are risk-averse, meaning that given two portfolios that offer the same expected return, investors will prefer the less risky one. Thus, an investor will take on increased risk only if compensated by higher expected returns. "
   ],
   "execution_count": null,
   "outputs": []
  },
  {
   "cell_type": "markdown",
   "metadata": {},
   "source": [
    "Another factor comes in to play in MPT is \"diversification\". Modern portfolio theory says that it is not enough to look at the expected risk and return of one particular stock. By investing in more than one stock, an investor can reap the benefits of diversification – chief among them, a reduction in the riskiness of the portfolio.\n",
    "\n",
    "What you need to understand is \"risk of a portfolio is not equal to average/weighted-average of individual stocks in the portfolio\". In terms of return, yes it is the average/weighted average of individual stock's returns, but that's not the case for risk. The risk is about how volatile the asset is, if you have more than one stock in your portfolio, then you have to take count of how these stocks movement correlates with each other. The beauty of diversification is that you can even get lower risk than a stock with the lowest risk in your portfolio, by optimising the allocation. "
   ],
   "execution_count": null,
   "outputs": []
  },
  {
   "cell_type": "markdown",
   "metadata": {},
   "source": [
    "\"Quandl\" is a financial platform which also offers Python library. Install the package \"pip install quandl\". \n",
    "It also needs an API key on Quandl's website. Sign-up and getting an API key is free but has some limits. As a logged-in free user, you will be able to call 2,000 calls per 10 minutes maximum (speed limit), and 50,000 calls per day (volume limit). https://www.quandl.com/"
   ],
   "execution_count": null,
   "outputs": []
  },
  {
   "cell_type": "code",
   "execution_count": 2,
   "metadata": {},
   "outputs": [
    {
     "output_type": "stream",
     "name": "stdout",
     "text": "done\n\bdone\n\n# All requested packages already installed.\n\n"
    }
   ],
   "source": [
    "#!pip3 install quandl\n",
    "\n",
    "!conda install -c anaconda quandl"
   ]
  },
  {
   "cell_type": "code",
   "execution_count": 3,
   "metadata": {
    "collapsed": true
   },
   "outputs": [],
   "source": [
    "import pandas as pd  \n",
    "import numpy as np\n",
    "import matplotlib.pyplot as plt\n",
    "import seaborn as sns\n",
    "import quandl as quandl\n",
    "import scipy.optimize as sco\n",
    "\n",
    "plt.style.use('fivethirtyeight')\n",
    "np.random.seed(777)\n",
    "\n",
    "%matplotlib inline\n",
    "%config InlineBackend.figure_format = 'retina'"
   ]
  },
  {
   "cell_type": "code",
   "execution_count": 1,
   "metadata": {},
   "outputs": [
    {
     "output_type": "stream",
     "name": "stdout",
     "text": "Package                            Version            \n---------------------------------- -------------------\nabsl-py                            0.9.0              \nalabaster                          0.7.12             \naltair                             3.2.0              \nanaconda-client                    1.7.2              \nanaconda-navigator                 1.9.12             \nanaconda-project                   0.8.3              \napplaunchservices                  0.2.1              \nappnope                            0.1.0              \nappscript                          1.0.1              \nargh                               0.26.2             \nasn1crypto                         1.3.0              \nastor                              0.8.1              \nastroid                            2.3.3              \nastropy                            4.0.1.post1        \natomicwrites                       1.3.0              \nattrs                              19.3.0             \nautopep8                           1.4.4              \nBabel                              2.8.0              \nbackcall                           0.1.0              \nbackports.functools-lru-cache      1.6.1              \nbackports.os                       0.1.1              \nbackports.shutil-get-terminal-size 1.0.0              \nbackports.tempfile                 1.0                \nbackports.weakref                  1.0.post1          \nbeautifulsoup4                     4.8.2              \nbitarray                           1.2.1              \nbkcharts                           0.2                \nbleach                             3.1.0              \nblis                               0.4.1              \nbokeh                              2.0.1              \nboto                               2.49.0             \nBottleneck                         1.3.2              \nbranca                             0.3.1              \ncachetools                         4.1.0              \ncatalogue                          1.0.0              \ncertifi                            2020.4.5.1         \ncffi                               1.14.0             \nchardet                            3.0.4              \nchart-studio                       1.0.0              \nclick                              7.1.1              \ncloudpickle                        1.3.0              \nclyent                             1.2.2              \ncolorama                           0.4.3              \nconda                              4.8.3              \nconda-build                        3.18.11            \nconda-package-handling             1.6.0              \nconda-verify                       3.4.2              \ncontextlib2                        0.6.0.post1        \ncryptography                       2.8                \ncycler                             0.10.0             \ncymem                              2.0.3              \nCython                             0.29.15            \ncytoolz                            0.10.1             \ndask                               2.14.0             \ndecorator                          4.4.2              \ndefusedxml                         0.6.0              \nDeprecated                         1.2.7              \ndiff-match-patch                   20181111           \ndistributed                        2.14.0             \ndocutils                           0.16               \nen-core-web-sm                     2.2.5              \nentrypoints                        0.3                \net-xmlfile                         1.0.1              \nfastcache                          1.1.0              \nfilelock                           3.0.12             \nflake8                             3.7.9              \nFlask                              1.1.1              \nfolium                             0.5.0              \nfsspec                             0.7.1              \nfuture                             0.18.2             \ngast                               0.2.2              \ngeographiclib                      1.50               \ngeopy                              1.20.0             \ngevent                             1.4.0              \nglob2                              0.7                \ngmpy2                              2.0.8              \ngoogle                             2.0.3              \ngoogle-api-core                    1.16.0             \ngoogle-auth                        1.13.1             \ngoogle-auth-oauthlib               0.4.1              \ngoogle-cloud                       0.34.0             \ngoogle-cloud-core                  1.3.0              \ngoogle-cloud-translate             2.0.1              \ngoogle-cloud-vision                1.0.0              \ngoogle-pasta                       0.2.0              \ngoogleapis-common-protos           1.51.0             \ngreenlet                           0.4.15             \ngrpcio                             1.28.1             \nh5py                               2.10.0             \nhana-ml                            1.0.8.post11       \nhdbcli                             2.4.182            \nHeapDict                           1.0.1              \nhtml5lib                           1.0.1              \nhypothesis                         5.5.4              \nidna                               2.9                \nimageio                            2.8.0              \nimagesize                          1.2.0              \nimportlib-metadata                 1.5.0              \ninflection                         0.4.0              \nintervaltree                       3.0.2              \nipykernel                          5.1.4              \nipython                            7.13.0             \nipython-genutils                   0.2.0              \nipywidgets                         7.5.1              \nisort                              4.3.21             \nitsdangerous                       1.1.0              \njdcal                              1.4.1              \njedi                               0.15.2             \nJinja2                             2.11.1             \njoblib                             0.14.1             \njson5                              0.9.4              \njsonschema                         3.2.0              \njupyter                            1.0.0              \njupyter-client                     6.1.2              \njupyter-console                    6.1.0              \njupyter-core                       4.6.3              \njupyterlab                         1.2.6              \njupyterlab-server                  1.1.0              \nKeras-Applications                 1.0.8              \nKeras-Preprocessing                1.1.0              \nkeyring                            21.1.1             \nkiwisolver                         1.1.0              \nlazy-object-proxy                  1.4.3              \nlibarchive-c                       2.8                \nlief                               0.9.0              \nllvmlite                           0.31.0             \nlocket                             0.2.0              \nlxml                               4.5.0              \nMarkdown                           3.2.1              \nMarkupSafe                         1.1.1              \nmatplotlib                         3.1.3              \nmccabe                             0.6.1              \nmistune                            0.8.4              \nmkl-fft                            1.0.15             \nmkl-random                         1.1.0              \nmkl-service                        2.3.0              \nmock                               4.0.1              \nmore-itertools                     8.2.0              \nmpmath                             1.1.0              \nmsgpack                            1.0.0              \nmultipledispatch                   0.6.0              \nmurmurhash                         1.0.2              \nnavigator-updater                  0.2.1              \nnbconvert                          5.6.1              \nnbformat                           5.0.4              \nnetworkx                           2.4                \nnltk                               3.4.5              \nnose                               1.3.7              \nnotebook                           6.0.3              \nnumba                              0.48.0             \nnumexpr                            2.7.1              \nnumpy                              1.18.1             \nnumpydoc                           0.9.2              \noauthlib                           3.1.0              \nolefile                            0.46               \nopenpyxl                           3.0.3              \nopt-einsum                         3.2.0              \npackaging                          20.3               \npandas                             1.0.3              \npandas-datareader                  0.8.1              \npandocfilters                      1.4.2              \nparso                              0.5.2              \npartd                              1.1.0              \npath                               13.1.0             \npathlib2                           2.3.5              \npathtools                          0.1.2              \npatsy                              0.5.1              \npep8                               1.7.1              \npexpect                            4.8.0              \npickleshare                        0.7.5              \nPillow                             7.0.0              \npip                                20.0.2             \npkginfo                            1.5.0.1            \nplac                               1.1.3              \nplotly                             4.6.0              \npluggy                             0.13.1             \nply                                3.11               \npreshed                            3.0.2              \nprometheus-client                  0.7.1              \nprompt-toolkit                     3.0.4              \nprotobuf                           3.11.3             \npsutil                             5.7.0              \nptyprocess                         0.6.0              \npy                                 1.8.1              \npyasn1                             0.4.8              \npyasn1-modules                     0.2.8              \npycodestyle                        2.5.0              \npycosat                            0.6.3              \npycparser                          2.20               \npycrypto                           2.6.1              \npycurl                             7.43.0.5           \npydocstyle                         4.0.1              \npydot                              1.4.1              \npyflakes                           2.1.1              \nPygments                           2.6.1              \npylint                             2.4.4              \npyodbc                             4.0.0-unsupported  \npyOpenSSL                          19.1.0             \npyparsing                          2.4.6              \npyrsistent                         0.16.0             \nPySocks                            1.7.1              \npytest                             5.4.1              \npytest-arraydiff                   0.3                \npytest-astropy                     0.8.0              \npytest-astropy-header              0.1.2              \npytest-doctestplus                 0.5.0              \npytest-openfiles                   0.4.0              \npytest-remotedata                  0.3.2              \npython-dateutil                    2.8.1              \npython-jsonrpc-server              0.3.4              \npython-language-server             0.31.9             \npytz                               2019.3             \nPyWavelets                         1.1.1              \nPyYAML                             5.3.1              \npyzmq                              18.1.1             \nQDarkStyle                         2.8                \nQtAwesome                          0.7.0              \nqtconsole                          4.7.2              \nQtPy                               1.9.0              \nQuandl                             3.5.0              \nrequests                           2.23.0             \nrequests-oauthlib                  1.3.0              \nretrying                           1.3.3              \nrope                               0.16.0             \nrsa                                4.0                \nRtree                              0.9.3              \nruamel-yaml                        0.15.87            \nscikit-image                       0.16.2             \nscikit-learn                       0.22.1             \nscipy                              1.4.1              \nseaborn                            0.10.0             \nSend2Trash                         1.5.0              \nsetuptools                         46.1.3.post20200330\nsimplegeneric                      0.8.1              \nsingledispatch                     3.4.0.3            \nsix                                1.14.0             \nsnowballstemmer                    2.0.0              \nsortedcollections                  1.1.2              \nsortedcontainers                   2.1.0              \nsoupsieve                          2.0                \nspacy                              2.2.4              \nSphinx                             2.4.4              \nsphinxcontrib-applehelp            1.0.2              \nsphinxcontrib-devhelp              1.0.2              \nsphinxcontrib-htmlhelp             1.0.3              \nsphinxcontrib-jsmath               1.0.1              \nsphinxcontrib-qthelp               1.0.3              \nsphinxcontrib-serializinghtml      1.1.4              \nsphinxcontrib-websupport           1.2.1              \nspyder                             4.1.2              \nspyder-kernels                     1.9.0              \nSQLAlchemy                         1.3.15             \nsrsly                              1.0.2              \nstatsmodels                        0.11.0             \nsympy                              1.5.1              \ntables                             3.6.1              \ntblib                              1.6.0              \ntensorboard                        2.1.1              \ntensorflow                         2.1.0              \ntensorflow-estimator               2.1.0              \ntermcolor                          1.1.0              \nterminado                          0.8.3              \ntestpath                           0.4.4              \nthinc                              7.4.0              \ntoolz                              0.10.0             \ntornado                            6.0.4              \ntqdm                               4.44.1             \ntraitlets                          4.3.3              \ntyping-extensions                  3.7.4.1            \nujson                              1.35               \nunicodecsv                         0.14.1             \nurllib3                            1.25.8             \nvincent                            0.4.4              \nwasabi                             0.6.0              \nwatchdog                           0.10.2             \nwcwidth                            0.1.9              \nwebencodings                       0.5.1              \nWerkzeug                           1.0.0              \nwget                               3.2                \nwheel                              0.34.2             \nwidgetsnbextension                 3.5.1              \nwrapt                              1.12.1             \nwurlitzer                          2.0.0              \nxlrd                               1.2.0              \nXlsxWriter                         1.2.8              \nxlwings                            0.18.0             \nxlwt                               1.3.0              \nxmltodict                          0.12.0             \nxmlutils                           1.4                \nyapf                               0.28.0             \nzict                               2.0.0              \nzipp                               2.2.0              \n"
    }
   ],
   "source": [
    "!pip list quandl "
   ]
  },
  {
   "cell_type": "code",
   "execution_count": 2,
   "metadata": {},
   "outputs": [
    {
     "output_type": "error",
     "ename": "NameError",
     "evalue": "name 'quandl' is not defined",
     "traceback": [
      "\u001b[0;31m---------------------------------------------------------------------------\u001b[0m",
      "\u001b[0;31mNameError\u001b[0m                                 Traceback (most recent call last)",
      "\u001b[0;32m<ipython-input-2-15f727366482>\u001b[0m in \u001b[0;36m<module>\u001b[0;34m\u001b[0m\n\u001b[0;32m----> 1\u001b[0;31m \u001b[0mquandl\u001b[0m\u001b[0;34m.\u001b[0m\u001b[0mApiConfig\u001b[0m\u001b[0;34m.\u001b[0m\u001b[0mapi_key\u001b[0m \u001b[0;34m=\u001b[0m \u001b[0;34m'y1xuoSHpREpRSedZ3zwp'\u001b[0m\u001b[0;34m\u001b[0m\u001b[0;34m\u001b[0m\u001b[0m\n\u001b[0m\u001b[1;32m      2\u001b[0m \u001b[0mstocks\u001b[0m \u001b[0;34m=\u001b[0m \u001b[0;34m[\u001b[0m\u001b[0;34m'AAPL'\u001b[0m\u001b[0;34m,\u001b[0m\u001b[0;34m'AMZN'\u001b[0m\u001b[0;34m,\u001b[0m\u001b[0;34m'GOOGL'\u001b[0m\u001b[0;34m,\u001b[0m\u001b[0;34m'FB'\u001b[0m\u001b[0;34m]\u001b[0m\u001b[0;34m\u001b[0m\u001b[0;34m\u001b[0m\u001b[0m\n\u001b[1;32m      3\u001b[0m data = quandl.get_table('WIKI/PRICES', ticker = stocks,\n\u001b[1;32m      4\u001b[0m                         \u001b[0mqopts\u001b[0m \u001b[0;34m=\u001b[0m \u001b[0;34m{\u001b[0m \u001b[0;34m'columns'\u001b[0m\u001b[0;34m:\u001b[0m \u001b[0;34m[\u001b[0m\u001b[0;34m'date'\u001b[0m\u001b[0;34m,\u001b[0m \u001b[0;34m'ticker'\u001b[0m\u001b[0;34m,\u001b[0m \u001b[0;34m'adj_close'\u001b[0m\u001b[0;34m]\u001b[0m \u001b[0;34m}\u001b[0m\u001b[0;34m,\u001b[0m\u001b[0;34m\u001b[0m\u001b[0;34m\u001b[0m\u001b[0m\n\u001b[1;32m      5\u001b[0m                         date = { 'gte': '2016-1-1', 'lte': '2017-12-31' }, paginate=True)\n",
      "\u001b[0;31mNameError\u001b[0m: name 'quandl' is not defined"
     ]
    }
   ],
   "source": [
    "quandl.ApiConfig.api_key = 'y1xuoSHpREpRSedZ3zwp'\n",
    "stocks = ['AAPL','AMZN','GOOGL','FB']\n",
    "data = quandl.get_table('WIKI/PRICES', ticker = stocks,\n",
    "                        qopts = { 'columns': ['date', 'ticker', 'adj_close'] },\n",
    "                        date = { 'gte': '2016-1-1', 'lte': '2017-12-31' }, paginate=True)\n",
    "data.head()"
   ]
  },
  {
   "cell_type": "markdown",
   "metadata": {},
   "source": [
    "By looking at the info() of data, it seems like the \"date\" column is already in datetime format."
   ],
   "execution_count": null,
   "outputs": []
  },
  {
   "cell_type": "code",
   "execution_count": 3,
   "metadata": {
    "scrolled": true
   },
   "outputs": [
    {
     "output_type": "error",
     "ename": "NameError",
     "evalue": "name 'data' is not defined",
     "traceback": [
      "\u001b[0;31m---------------------------------------------------------------------------\u001b[0m",
      "\u001b[0;31mNameError\u001b[0m                                 Traceback (most recent call last)",
      "\u001b[0;32m<ipython-input-3-6208d269f320>\u001b[0m in \u001b[0;36m<module>\u001b[0;34m\u001b[0m\n\u001b[0;32m----> 1\u001b[0;31m \u001b[0mdata\u001b[0m\u001b[0;34m.\u001b[0m\u001b[0minfo\u001b[0m\u001b[0;34m(\u001b[0m\u001b[0;34m)\u001b[0m\u001b[0;34m\u001b[0m\u001b[0;34m\u001b[0m\u001b[0m\n\u001b[0m",
      "\u001b[0;31mNameError\u001b[0m: name 'data' is not defined"
     ]
    }
   ],
   "source": [
    "data.info()"
   ]
  },
  {
   "cell_type": "code",
   "execution_count": 4,
   "metadata": {},
   "outputs": [
    {
     "output_type": "error",
     "ename": "NameError",
     "evalue": "name 'data' is not defined",
     "traceback": [
      "\u001b[0;31m---------------------------------------------------------------------------\u001b[0m",
      "\u001b[0;31mNameError\u001b[0m                                 Traceback (most recent call last)",
      "\u001b[0;32m<ipython-input-4-423e299148a4>\u001b[0m in \u001b[0;36m<module>\u001b[0;34m\u001b[0m\n\u001b[0;32m----> 1\u001b[0;31m \u001b[0mdf\u001b[0m \u001b[0;34m=\u001b[0m \u001b[0mdata\u001b[0m\u001b[0;34m.\u001b[0m\u001b[0mset_index\u001b[0m\u001b[0;34m(\u001b[0m\u001b[0;34m'date'\u001b[0m\u001b[0;34m)\u001b[0m\u001b[0;34m\u001b[0m\u001b[0;34m\u001b[0m\u001b[0m\n\u001b[0m\u001b[1;32m      2\u001b[0m \u001b[0mdf\u001b[0m\u001b[0;34m.\u001b[0m\u001b[0mhead\u001b[0m\u001b[0;34m(\u001b[0m\u001b[0;34m)\u001b[0m\u001b[0;34m\u001b[0m\u001b[0;34m\u001b[0m\u001b[0m\n",
      "\u001b[0;31mNameError\u001b[0m: name 'data' is not defined"
     ]
    }
   ],
   "source": [
    "df = data.set_index('date')\n",
    "df.head()"
   ]
  },
  {
   "cell_type": "code",
   "execution_count": 5,
   "metadata": {},
   "outputs": [
    {
     "output_type": "error",
     "ename": "NameError",
     "evalue": "name 'df' is not defined",
     "traceback": [
      "\u001b[0;31m---------------------------------------------------------------------------\u001b[0m",
      "\u001b[0;31mNameError\u001b[0m                                 Traceback (most recent call last)",
      "\u001b[0;32m<ipython-input-5-b77832c245c8>\u001b[0m in \u001b[0;36m<module>\u001b[0;34m\u001b[0m\n\u001b[0;32m----> 1\u001b[0;31m \u001b[0mtable\u001b[0m \u001b[0;34m=\u001b[0m \u001b[0mdf\u001b[0m\u001b[0;34m.\u001b[0m\u001b[0mpivot\u001b[0m\u001b[0;34m(\u001b[0m\u001b[0mcolumns\u001b[0m\u001b[0;34m=\u001b[0m\u001b[0;34m'ticker'\u001b[0m\u001b[0;34m)\u001b[0m\u001b[0;34m\u001b[0m\u001b[0;34m\u001b[0m\u001b[0m\n\u001b[0m\u001b[1;32m      2\u001b[0m \u001b[0;31m# By specifying col[1] in below list comprehension\u001b[0m\u001b[0;34m\u001b[0m\u001b[0;34m\u001b[0m\u001b[0;34m\u001b[0m\u001b[0m\n\u001b[1;32m      3\u001b[0m \u001b[0;31m# You can select the stock names under multi-level column\u001b[0m\u001b[0;34m\u001b[0m\u001b[0;34m\u001b[0m\u001b[0;34m\u001b[0m\u001b[0m\n\u001b[1;32m      4\u001b[0m \u001b[0mtable\u001b[0m\u001b[0;34m.\u001b[0m\u001b[0mcolumns\u001b[0m \u001b[0;34m=\u001b[0m \u001b[0;34m[\u001b[0m\u001b[0mcol\u001b[0m\u001b[0;34m[\u001b[0m\u001b[0;36m1\u001b[0m\u001b[0;34m]\u001b[0m \u001b[0;32mfor\u001b[0m \u001b[0mcol\u001b[0m \u001b[0;32min\u001b[0m \u001b[0mtable\u001b[0m\u001b[0;34m.\u001b[0m\u001b[0mcolumns\u001b[0m\u001b[0;34m]\u001b[0m\u001b[0;34m\u001b[0m\u001b[0;34m\u001b[0m\u001b[0m\n\u001b[1;32m      5\u001b[0m \u001b[0mtable\u001b[0m\u001b[0;34m.\u001b[0m\u001b[0mhead\u001b[0m\u001b[0;34m(\u001b[0m\u001b[0;34m)\u001b[0m\u001b[0;34m\u001b[0m\u001b[0;34m\u001b[0m\u001b[0m\n",
      "\u001b[0;31mNameError\u001b[0m: name 'df' is not defined"
     ]
    }
   ],
   "source": [
    "table = df.pivot(columns='ticker')\n",
    "# By specifying col[1] in below list comprehension\n",
    "# You can select the stock names under multi-level column\n",
    "table.columns = [col[1] for col in table.columns]\n",
    "table.head()"
   ]
  },
  {
   "cell_type": "markdown",
   "metadata": {},
   "source": [
    "Let's first look at how the price of each stock has evolved within give time frame."
   ],
   "execution_count": null,
   "outputs": []
  },
  {
   "cell_type": "code",
   "execution_count": 6,
   "metadata": {},
   "outputs": [
    {
     "output_type": "error",
     "ename": "NameError",
     "evalue": "name 'plt' is not defined",
     "traceback": [
      "\u001b[0;31m---------------------------------------------------------------------------\u001b[0m",
      "\u001b[0;31mNameError\u001b[0m                                 Traceback (most recent call last)",
      "\u001b[0;32m<ipython-input-6-fe45ee366012>\u001b[0m in \u001b[0;36m<module>\u001b[0;34m\u001b[0m\n\u001b[0;32m----> 1\u001b[0;31m \u001b[0mplt\u001b[0m\u001b[0;34m.\u001b[0m\u001b[0mfigure\u001b[0m\u001b[0;34m(\u001b[0m\u001b[0mfigsize\u001b[0m\u001b[0;34m=\u001b[0m\u001b[0;34m(\u001b[0m\u001b[0;36m14\u001b[0m\u001b[0;34m,\u001b[0m \u001b[0;36m7\u001b[0m\u001b[0;34m)\u001b[0m\u001b[0;34m)\u001b[0m\u001b[0;34m\u001b[0m\u001b[0;34m\u001b[0m\u001b[0m\n\u001b[0m\u001b[1;32m      2\u001b[0m \u001b[0;32mfor\u001b[0m \u001b[0mc\u001b[0m \u001b[0;32min\u001b[0m \u001b[0mtable\u001b[0m\u001b[0;34m.\u001b[0m\u001b[0mcolumns\u001b[0m\u001b[0;34m.\u001b[0m\u001b[0mvalues\u001b[0m\u001b[0;34m:\u001b[0m\u001b[0;34m\u001b[0m\u001b[0;34m\u001b[0m\u001b[0m\n\u001b[1;32m      3\u001b[0m     \u001b[0mplt\u001b[0m\u001b[0;34m.\u001b[0m\u001b[0mplot\u001b[0m\u001b[0;34m(\u001b[0m\u001b[0mtable\u001b[0m\u001b[0;34m.\u001b[0m\u001b[0mindex\u001b[0m\u001b[0;34m,\u001b[0m \u001b[0mtable\u001b[0m\u001b[0;34m[\u001b[0m\u001b[0mc\u001b[0m\u001b[0;34m]\u001b[0m\u001b[0;34m,\u001b[0m \u001b[0mlw\u001b[0m\u001b[0;34m=\u001b[0m\u001b[0;36m3\u001b[0m\u001b[0;34m,\u001b[0m \u001b[0malpha\u001b[0m\u001b[0;34m=\u001b[0m\u001b[0;36m0.8\u001b[0m\u001b[0;34m,\u001b[0m\u001b[0mlabel\u001b[0m\u001b[0;34m=\u001b[0m\u001b[0mc\u001b[0m\u001b[0;34m)\u001b[0m\u001b[0;34m\u001b[0m\u001b[0;34m\u001b[0m\u001b[0m\n\u001b[1;32m      4\u001b[0m \u001b[0mplt\u001b[0m\u001b[0;34m.\u001b[0m\u001b[0mlegend\u001b[0m\u001b[0;34m(\u001b[0m\u001b[0mloc\u001b[0m\u001b[0;34m=\u001b[0m\u001b[0;34m'upper left'\u001b[0m\u001b[0;34m,\u001b[0m \u001b[0mfontsize\u001b[0m\u001b[0;34m=\u001b[0m\u001b[0;36m12\u001b[0m\u001b[0;34m)\u001b[0m\u001b[0;34m\u001b[0m\u001b[0;34m\u001b[0m\u001b[0m\n\u001b[1;32m      5\u001b[0m \u001b[0mplt\u001b[0m\u001b[0;34m.\u001b[0m\u001b[0mylabel\u001b[0m\u001b[0;34m(\u001b[0m\u001b[0;34m'price in $'\u001b[0m\u001b[0;34m)\u001b[0m\u001b[0;34m\u001b[0m\u001b[0;34m\u001b[0m\u001b[0m\n",
      "\u001b[0;31mNameError\u001b[0m: name 'plt' is not defined"
     ]
    }
   ],
   "source": [
    "plt.figure(figsize=(14, 7))\n",
    "for c in table.columns.values:\n",
    "    plt.plot(table.index, table[c], lw=3, alpha=0.8,label=c)\n",
    "plt.legend(loc='upper left', fontsize=12)\n",
    "plt.ylabel('price in $')"
   ]
  },
  {
   "cell_type": "markdown",
   "metadata": {},
   "source": [
    "It looks like that Amazon and Google's stock price is relatively more expensive than those of Facebook and Apple. But since Facebook and Apple are squashed at the bottom, it is hard to see the movement of these two."
   ],
   "execution_count": null,
   "outputs": []
  },
  {
   "cell_type": "markdown",
   "metadata": {},
   "source": [
    "Another way to plot this is plotting daily returns (percent change compared to the day before). By plotting daily returns instead of actual prices, we can see the stocks' volatility."
   ],
   "execution_count": null,
   "outputs": []
  },
  {
   "cell_type": "code",
   "execution_count": 7,
   "metadata": {},
   "outputs": [
    {
     "output_type": "error",
     "ename": "NameError",
     "evalue": "name 'table' is not defined",
     "traceback": [
      "\u001b[0;31m---------------------------------------------------------------------------\u001b[0m",
      "\u001b[0;31mNameError\u001b[0m                                 Traceback (most recent call last)",
      "\u001b[0;32m<ipython-input-7-a9272fc51a1a>\u001b[0m in \u001b[0;36m<module>\u001b[0;34m\u001b[0m\n\u001b[0;32m----> 1\u001b[0;31m \u001b[0mreturns\u001b[0m \u001b[0;34m=\u001b[0m \u001b[0mtable\u001b[0m\u001b[0;34m.\u001b[0m\u001b[0mpct_change\u001b[0m\u001b[0;34m(\u001b[0m\u001b[0;34m)\u001b[0m\u001b[0;34m\u001b[0m\u001b[0;34m\u001b[0m\u001b[0m\n\u001b[0m\u001b[1;32m      2\u001b[0m \u001b[0;34m\u001b[0m\u001b[0m\n\u001b[1;32m      3\u001b[0m \u001b[0mplt\u001b[0m\u001b[0;34m.\u001b[0m\u001b[0mfigure\u001b[0m\u001b[0;34m(\u001b[0m\u001b[0mfigsize\u001b[0m\u001b[0;34m=\u001b[0m\u001b[0;34m(\u001b[0m\u001b[0;36m14\u001b[0m\u001b[0;34m,\u001b[0m \u001b[0;36m7\u001b[0m\u001b[0;34m)\u001b[0m\u001b[0;34m)\u001b[0m\u001b[0;34m\u001b[0m\u001b[0;34m\u001b[0m\u001b[0m\n\u001b[1;32m      4\u001b[0m \u001b[0;32mfor\u001b[0m \u001b[0mc\u001b[0m \u001b[0;32min\u001b[0m \u001b[0mreturns\u001b[0m\u001b[0;34m.\u001b[0m\u001b[0mcolumns\u001b[0m\u001b[0;34m.\u001b[0m\u001b[0mvalues\u001b[0m\u001b[0;34m:\u001b[0m\u001b[0;34m\u001b[0m\u001b[0;34m\u001b[0m\u001b[0m\n\u001b[1;32m      5\u001b[0m     \u001b[0mplt\u001b[0m\u001b[0;34m.\u001b[0m\u001b[0mplot\u001b[0m\u001b[0;34m(\u001b[0m\u001b[0mreturns\u001b[0m\u001b[0;34m.\u001b[0m\u001b[0mindex\u001b[0m\u001b[0;34m,\u001b[0m \u001b[0mreturns\u001b[0m\u001b[0;34m[\u001b[0m\u001b[0mc\u001b[0m\u001b[0;34m]\u001b[0m\u001b[0;34m,\u001b[0m \u001b[0mlw\u001b[0m\u001b[0;34m=\u001b[0m\u001b[0;36m3\u001b[0m\u001b[0;34m,\u001b[0m \u001b[0malpha\u001b[0m\u001b[0;34m=\u001b[0m\u001b[0;36m0.8\u001b[0m\u001b[0;34m,\u001b[0m\u001b[0mlabel\u001b[0m\u001b[0;34m=\u001b[0m\u001b[0mc\u001b[0m\u001b[0;34m)\u001b[0m\u001b[0;34m\u001b[0m\u001b[0;34m\u001b[0m\u001b[0m\n",
      "\u001b[0;31mNameError\u001b[0m: name 'table' is not defined"
     ]
    }
   ],
   "source": [
    "returns = table.pct_change()\n",
    "\n",
    "plt.figure(figsize=(14, 7))\n",
    "for c in returns.columns.values:\n",
    "    plt.plot(returns.index, returns[c], lw=3, alpha=0.8,label=c)\n",
    "plt.legend(loc='upper right', fontsize=12)\n",
    "plt.ylabel('daily returns')"
   ]
  },
  {
   "cell_type": "markdown",
   "metadata": {},
   "source": [
    "Amazon has two distinctive positive spikes and a couple of negative ones. Facebook has one highest positive spike. And Google seems to be the least volatile."
   ],
   "execution_count": null,
   "outputs": []
  },
  {
   "cell_type": "markdown",
   "metadata": {},
   "source": [
    "## Random Portfolios Generation"
   ],
   "execution_count": null,
   "outputs": []
  },
  {
   "cell_type": "markdown",
   "metadata": {},
   "source": [
    "We have 4 stocks in our portfolio. One decision we have to make is how we should allocate our budget to each of stock in our portfolio. If our total budget is 1, then we can decide the weights for each stock, so that the sum of weights will be 1. And the value for weights will be the portion of budget we allocate to a specific stock. For example, if weight is 0.5 for Amazon, it means that we allocate 50% of our budget to Amazon."
   ],
   "execution_count": null,
   "outputs": []
  },
  {
   "cell_type": "markdown",
   "metadata": {},
   "source": [
    "Let's define some functions to simulate random weights to each stock in the portfolio, then calculate the portfolio's overall annualised returns and annualised volatility."
   ],
   "execution_count": null,
   "outputs": []
  },
  {
   "cell_type": "markdown",
   "metadata": {},
   "source": [
    "\"portfolio_annual_performance\" function will calculate the returns and volatility, and to make it as an annualised calculation I take into account 252 as the number of trading days in one year. \"random_portfolios\" function will generate portfolios with random weights assigned to each stock, and by passing num_portfolios argument, you can decide how many random portfolios you want to generate."
   ],
   "execution_count": null,
   "outputs": []
  },
  {
   "cell_type": "code",
   "execution_count": 8,
   "metadata": {
    "collapsed": true
   },
   "outputs": [],
   "source": [
    "def portfolio_annualised_performance(weights, mean_returns, cov_matrix):\n",
    "    returns = np.sum(mean_returns*weights ) *252\n",
    "    std = np.sqrt(np.dot(weights.T, np.dot(cov_matrix, weights))) * np.sqrt(252)\n",
    "    return std, returns"
   ]
  },
  {
   "cell_type": "code",
   "execution_count": 9,
   "metadata": {
    "collapsed": true
   },
   "outputs": [],
   "source": [
    "def random_portfolios(num_portfolios, mean_returns, cov_matrix, risk_free_rate):\n",
    "    results = np.zeros((3,num_portfolios))\n",
    "    weights_record = []\n",
    "    for i in xrange(num_portfolios):\n",
    "        weights = np.random.random(4)\n",
    "        weights /= np.sum(weights)\n",
    "        weights_record.append(weights)\n",
    "        portfolio_std_dev, portfolio_return = portfolio_annualised_performance(weights, mean_returns, cov_matrix)\n",
    "        results[0,i] = portfolio_std_dev\n",
    "        results[1,i] = portfolio_return\n",
    "        results[2,i] = (portfolio_return - risk_free_rate) / portfolio_std_dev\n",
    "    return results, weights_record"
   ]
  },
  {
   "cell_type": "markdown",
   "metadata": {},
   "source": [
    "You can easily get daily returns by calling pct_change on the data frame with the price data. And the mean daily returns, the covariance matrix of returns are needed to calculate portfolio returns and volatility. Finally, let's generate 25,000 portfolios with random weights assigned to each stock."
   ],
   "execution_count": null,
   "outputs": []
  },
  {
   "cell_type": "code",
   "execution_count": 10,
   "metadata": {
    "collapsed": true
   },
   "outputs": [
    {
     "output_type": "error",
     "ename": "NameError",
     "evalue": "name 'table' is not defined",
     "traceback": [
      "\u001b[0;31m---------------------------------------------------------------------------\u001b[0m",
      "\u001b[0;31mNameError\u001b[0m                                 Traceback (most recent call last)",
      "\u001b[0;32m<ipython-input-10-3074890a3e91>\u001b[0m in \u001b[0;36m<module>\u001b[0;34m\u001b[0m\n\u001b[0;32m----> 1\u001b[0;31m \u001b[0mreturns\u001b[0m \u001b[0;34m=\u001b[0m \u001b[0mtable\u001b[0m\u001b[0;34m.\u001b[0m\u001b[0mpct_change\u001b[0m\u001b[0;34m(\u001b[0m\u001b[0;34m)\u001b[0m\u001b[0;34m\u001b[0m\u001b[0;34m\u001b[0m\u001b[0m\n\u001b[0m\u001b[1;32m      2\u001b[0m \u001b[0mmean_returns\u001b[0m \u001b[0;34m=\u001b[0m \u001b[0mreturns\u001b[0m\u001b[0;34m.\u001b[0m\u001b[0mmean\u001b[0m\u001b[0;34m(\u001b[0m\u001b[0;34m)\u001b[0m\u001b[0;34m\u001b[0m\u001b[0;34m\u001b[0m\u001b[0m\n\u001b[1;32m      3\u001b[0m \u001b[0mcov_matrix\u001b[0m \u001b[0;34m=\u001b[0m \u001b[0mreturns\u001b[0m\u001b[0;34m.\u001b[0m\u001b[0mcov\u001b[0m\u001b[0;34m(\u001b[0m\u001b[0;34m)\u001b[0m\u001b[0;34m\u001b[0m\u001b[0;34m\u001b[0m\u001b[0m\n\u001b[1;32m      4\u001b[0m \u001b[0mnum_portfolios\u001b[0m \u001b[0;34m=\u001b[0m \u001b[0;36m25000\u001b[0m\u001b[0;34m\u001b[0m\u001b[0;34m\u001b[0m\u001b[0m\n\u001b[1;32m      5\u001b[0m \u001b[0mrisk_free_rate\u001b[0m \u001b[0;34m=\u001b[0m \u001b[0;36m0.0178\u001b[0m\u001b[0;34m\u001b[0m\u001b[0;34m\u001b[0m\u001b[0m\n",
      "\u001b[0;31mNameError\u001b[0m: name 'table' is not defined"
     ]
    }
   ],
   "source": [
    "returns = table.pct_change()\n",
    "mean_returns = returns.mean()\n",
    "cov_matrix = returns.cov()\n",
    "num_portfolios = 25000\n",
    "risk_free_rate = 0.0178"
   ]
  },
  {
   "cell_type": "markdown",
   "metadata": {},
   "source": [
    "Let me briefly explain what below function is doing. First, it generates random portfolio and gets the results (portfolio returns, portfolio volatility, portfolio Sharpe ratio) and weights for the corresponding result. Then by locating the one with the highest Sharpe ratio portfolio, it displays maximum Sharpe ratio portfolio as red star sign. And does similar steps for minimum volatility portfolio, and displays it as the green star on the plot. All the randomly generated portfolios will be also plotted with colour map applied to them based on the Sharpe ratio. The bluer, the higher Sharpe ratio.\n",
    "\n",
    "And for these two optimal portfolios, it will also show how it allocates the budget within the portfolio."
   ],
   "execution_count": null,
   "outputs": []
  },
  {
   "cell_type": "code",
   "execution_count": 11,
   "metadata": {
    "collapsed": true
   },
   "outputs": [
    {
     "output_type": "error",
     "ename": "SyntaxError",
     "evalue": "Missing parentheses in call to 'print'. Did you mean print(\"-\"*80)? (<ipython-input-11-71c6531de0fb>, line 16)",
     "traceback": [
      "\u001b[0;36m  File \u001b[0;32m\"<ipython-input-11-71c6531de0fb>\"\u001b[0;36m, line \u001b[0;32m16\u001b[0m\n\u001b[0;31m    print \"-\"*80\u001b[0m\n\u001b[0m            ^\u001b[0m\n\u001b[0;31mSyntaxError\u001b[0m\u001b[0;31m:\u001b[0m Missing parentheses in call to 'print'. Did you mean print(\"-\"*80)?\n"
     ]
    }
   ],
   "source": [
    "def display_simulated_ef_with_random(mean_returns, cov_matrix, num_portfolios, risk_free_rate):\n",
    "    results, weights = random_portfolios(num_portfolios,mean_returns, cov_matrix, risk_free_rate)\n",
    "    \n",
    "    max_sharpe_idx = np.argmax(results[2])\n",
    "    sdp, rp = results[0,max_sharpe_idx], results[1,max_sharpe_idx]\n",
    "    max_sharpe_allocation = pd.DataFrame(weights[max_sharpe_idx],index=table.columns,columns=['allocation'])\n",
    "    max_sharpe_allocation.allocation = [round(i*100,2)for i in max_sharpe_allocation.allocation]\n",
    "    max_sharpe_allocation = max_sharpe_allocation.T\n",
    "    \n",
    "    min_vol_idx = np.argmin(results[0])\n",
    "    sdp_min, rp_min = results[0,min_vol_idx], results[1,min_vol_idx]\n",
    "    min_vol_allocation = pd.DataFrame(weights[min_vol_idx],index=table.columns,columns=['allocation'])\n",
    "    min_vol_allocation.allocation = [round(i*100,2)for i in min_vol_allocation.allocation]\n",
    "    min_vol_allocation = min_vol_allocation.T\n",
    "    \n",
    "    print \"-\"*80\n",
    "    print \"Maximum Sharpe Ratio Portfolio Allocation\\n\"\n",
    "    print \"Annualised Return:\", round(rp,2)\n",
    "    print \"Annualised Volatility:\", round(sdp,2)\n",
    "    print \"\\n\"\n",
    "    print max_sharpe_allocation\n",
    "    print \"-\"*80\n",
    "    print \"Minimum Volatility Portfolio Allocation\\n\"\n",
    "    print \"Annualised Return:\", round(rp_min,2)\n",
    "    print \"Annualised Volatility:\", round(sdp_min,2)\n",
    "    print \"\\n\"\n",
    "    print min_vol_allocation\n",
    "    \n",
    "    plt.figure(figsize=(10, 7))\n",
    "    plt.scatter(results[0,:],results[1,:],c=results[2,:],cmap='YlGnBu', marker='o', s=10, alpha=0.3)\n",
    "    plt.colorbar()\n",
    "    plt.scatter(sdp,rp,marker='*',color='r',s=500, label='Maximum Sharpe ratio')\n",
    "    plt.scatter(sdp_min,rp_min,marker='*',color='g',s=500, label='Minimum volatility')\n",
    "    plt.title('Simulated Portfolio Optimization based on Efficient Frontier')\n",
    "    plt.xlabel('annualised volatility')\n",
    "    plt.ylabel('annualised returns')\n",
    "    plt.legend(labelspacing=0.8)"
   ]
  },
  {
   "cell_type": "code",
   "execution_count": 12,
   "metadata": {},
   "outputs": [
    {
     "output_type": "error",
     "ename": "NameError",
     "evalue": "name 'display_simulated_ef_with_random' is not defined",
     "traceback": [
      "\u001b[0;31m---------------------------------------------------------------------------\u001b[0m",
      "\u001b[0;31mNameError\u001b[0m                                 Traceback (most recent call last)",
      "\u001b[0;32m<ipython-input-12-341f87fafced>\u001b[0m in \u001b[0;36m<module>\u001b[0;34m\u001b[0m\n\u001b[0;32m----> 1\u001b[0;31m \u001b[0mdisplay_simulated_ef_with_random\u001b[0m\u001b[0;34m(\u001b[0m\u001b[0mmean_returns\u001b[0m\u001b[0;34m,\u001b[0m \u001b[0mcov_matrix\u001b[0m\u001b[0;34m,\u001b[0m \u001b[0mnum_portfolios\u001b[0m\u001b[0;34m,\u001b[0m \u001b[0mrisk_free_rate\u001b[0m\u001b[0;34m)\u001b[0m\u001b[0;34m\u001b[0m\u001b[0;34m\u001b[0m\u001b[0m\n\u001b[0m",
      "\u001b[0;31mNameError\u001b[0m: name 'display_simulated_ef_with_random' is not defined"
     ]
    }
   ],
   "source": [
    "display_simulated_ef_with_random(mean_returns, cov_matrix, num_portfolios, risk_free_rate)"
   ]
  },
  {
   "cell_type": "markdown",
   "metadata": {},
   "source": [
    "For minimum risk portfolio, we can see that more than half of our budget is allocated to Google. If you take another look at the daily return plot from earlier, you can see that Google is the least volatile stock of four, so allocating a large percentage to Google for minimum risk portfolio makes intuitive sense.\n",
    "\n",
    "If we are willing to take higher risk for higher return, one that gives us the best risk-adjusted return is the one with maximum Sharpe ratio. In this scenario, we are allocating a significant portion to Amazon and Facebook, which are quite volatile stocks from the previous plot of daily returns. And Google which had more than 50% allocation in the minimum risk portfolio, has less than 1% budget allocated to it."
   ],
   "execution_count": null,
   "outputs": []
  },
  {
   "cell_type": "markdown",
   "metadata": {},
   "source": [
    "## Efficient Frontier"
   ],
   "execution_count": null,
   "outputs": []
  },
  {
   "cell_type": "markdown",
   "metadata": {},
   "source": [
    "From the plot of the randomly simulated portfolio, we can see it forms a shape of an arch line on the top of clustered blue dots. This line is called efficient frontier. Why is it efficient? Because points along the line will give you the lowest risk for a given target return. All the other dots right to the line will give you higher risk with same returns. If the expected returns are the same, why would you take an extra risk when there's an option with lower risk?"
   ],
   "execution_count": null,
   "outputs": []
  },
  {
   "cell_type": "markdown",
   "metadata": {},
   "source": [
    "The way we found the two kinds of optimal portfolio above was by simulating many possible random choices and pick the best ones (either minimum risk or maximum risk-adjusted return). We can also implement this by using Scipy's optimize function.\n",
    "\n",
    "If you are an advanced Excel user, you might be familiar with 'solver' function in excel. Scipy's optimize function is doing the similar task when given what to optimize, and what are constraints and bounds."
   ],
   "execution_count": null,
   "outputs": []
  },
  {
   "cell_type": "markdown",
   "metadata": {},
   "source": [
    "Below functions are to get the maximum Sharpe ratio portfolio. In Scipy's optimize function, there's no 'maximize', so as an objective function you need to pass something that should be minimized. That is why the first \"neg_sharpe_ratio\" is computing the negative Sharpe ratio. Now we can use this as our objective function to minimize. In \"max_sharpe_ratio\" function, you first define arguments (this should not include the variables you would like to change for optimisation, in this case, \"weights\"). At first, the construction of constraints was a bit difficult for me to understand, due to the way it is stated. \n",
    "\n",
    "constraints = ({'type': 'eq', 'fun': lambda x: np.sum(x) - 1})\n",
    "\n",
    "The above constraint is saying that sum of x should be equal to 1. You can think of the 'fun' part construction as '1' on the right side of equal sign has been moved to the left side of the equal sign.\n",
    "\n",
    "'np.sum(x) == 1' has become 'np.sum(x)-1'\n",
    "\n",
    "And what does this mean? It simply means that the sum of all the weights should be equal to 1. You cannot allocate more than 100% of your budget in total."
   ],
   "execution_count": null,
   "outputs": []
  },
  {
   "cell_type": "markdown",
   "metadata": {},
   "source": [
    "\"bounds\" is giving another limit to assign random weights, by saying any weight should be inclusively between 0 and 1. You cannot give minus budget allocation to a stock or more than 100% allocation to a stock."
   ],
   "execution_count": null,
   "outputs": []
  },
  {
   "cell_type": "code",
   "execution_count": 13,
   "metadata": {
    "collapsed": true
   },
   "outputs": [],
   "source": [
    "def neg_sharpe_ratio(weights, mean_returns, cov_matrix, risk_free_rate):\n",
    "    p_var, p_ret = portfolio_annualised_performance(weights, mean_returns, cov_matrix)\n",
    "    return -(p_ret - risk_free_rate) / p_var\n",
    "\n",
    "def max_sharpe_ratio(mean_returns, cov_matrix, risk_free_rate):\n",
    "    num_assets = len(mean_returns)\n",
    "    args = (mean_returns, cov_matrix, risk_free_rate)\n",
    "    constraints = ({'type': 'eq', 'fun': lambda x: np.sum(x) - 1})\n",
    "    bound = (0.0,1.0)\n",
    "    bounds = tuple(bound for asset in range(num_assets))\n",
    "    result = sco.minimize(neg_sharpe_ratio, num_assets*[1./num_assets,], args=args,\n",
    "                        method='SLSQP', bounds=bounds, constraints=constraints)\n",
    "    return result"
   ]
  },
  {
   "cell_type": "markdown",
   "metadata": {},
   "source": [
    "We can also define the optimizing function for calculating minimum volatility portfolio. This time we really do minimize the objective function. What do we want to minimize? We want to minimize volatility by trying different weights. \"constraints\" and \"bounds\" are same as the above."
   ],
   "execution_count": null,
   "outputs": []
  },
  {
   "cell_type": "code",
   "execution_count": 14,
   "metadata": {
    "collapsed": true
   },
   "outputs": [],
   "source": [
    "def portfolio_volatility(weights, mean_returns, cov_matrix):\n",
    "    return portfolio_annualised_performance(weights, mean_returns, cov_matrix)[0]\n",
    "\n",
    "def min_variance(mean_returns, cov_matrix):\n",
    "    num_assets = len(mean_returns)\n",
    "    args = (mean_returns, cov_matrix)\n",
    "    constraints = ({'type': 'eq', 'fun': lambda x: np.sum(x) - 1})\n",
    "    bound = (0.0,1.0)\n",
    "    bounds = tuple(bound for asset in range(num_assets))\n",
    "\n",
    "    result = sco.minimize(portfolio_volatility, num_assets*[1./num_assets,], args=args,\n",
    "                        method='SLSQP', bounds=bounds, constraints=constraints)\n",
    "\n",
    "    return result"
   ]
  },
  {
   "cell_type": "markdown",
   "metadata": {},
   "source": [
    "As I already mentioned above we can also draw a line which depicts where the efficient portfolios for a given risk rate should be. This is called \"efficient frontier\". Below I define other functions to compute efficient frontier. The first function \"efficient_return\" is calculating the most efficient portfolio for a given target return, and the second function \"efficient_frontier\" will take a range of target returns and compute efficient portfolio for each return level."
   ],
   "execution_count": null,
   "outputs": []
  },
  {
   "cell_type": "code",
   "execution_count": 15,
   "metadata": {
    "collapsed": true
   },
   "outputs": [],
   "source": [
    "def efficient_return(mean_returns, cov_matrix, target):\n",
    "    num_assets = len(mean_returns)\n",
    "    args = (mean_returns, cov_matrix)\n",
    "\n",
    "    def portfolio_return(weights):\n",
    "        return portfolio_annualised_performance(weights, mean_returns, cov_matrix)[1]\n",
    "\n",
    "    constraints = ({'type': 'eq', 'fun': lambda x: portfolio_return(x) - target},\n",
    "                   {'type': 'eq', 'fun': lambda x: np.sum(x) - 1})\n",
    "    bounds = tuple((0,1) for asset in range(num_assets))\n",
    "    result = sco.minimize(portfolio_volatility, num_assets*[1./num_assets,], args=args, method='SLSQP', bounds=bounds, constraints=constraints)\n",
    "    return result\n",
    "\n",
    "\n",
    "def efficient_frontier(mean_returns, cov_matrix, returns_range):\n",
    "    efficients = []\n",
    "    for ret in returns_range:\n",
    "        efficients.append(efficient_return(mean_returns, cov_matrix, ret))\n",
    "    return efficients"
   ]
  },
  {
   "cell_type": "markdown",
   "metadata": {},
   "source": [
    "Let's try to plot the portfolio choice with maximum Sharpe ratio and minimum volatility also with all the randomly generated portfolios. But this time we are not picking the optimal ones from the randomly generated portfolios, but we are actually calculating by using Scipy's 'minimize' function. And the below function will also plot the efficient frontier line."
   ],
   "execution_count": null,
   "outputs": []
  },
  {
   "cell_type": "code",
   "execution_count": 16,
   "metadata": {
    "collapsed": true
   },
   "outputs": [
    {
     "output_type": "error",
     "ename": "SyntaxError",
     "evalue": "Missing parentheses in call to 'print'. Did you mean print(\"-\"*80)? (<ipython-input-16-0ac4f07f09a6>, line 17)",
     "traceback": [
      "\u001b[0;36m  File \u001b[0;32m\"<ipython-input-16-0ac4f07f09a6>\"\u001b[0;36m, line \u001b[0;32m17\u001b[0m\n\u001b[0;31m    print \"-\"*80\u001b[0m\n\u001b[0m            ^\u001b[0m\n\u001b[0;31mSyntaxError\u001b[0m\u001b[0;31m:\u001b[0m Missing parentheses in call to 'print'. Did you mean print(\"-\"*80)?\n"
     ]
    }
   ],
   "source": [
    "def display_calculated_ef_with_random(mean_returns, cov_matrix, num_portfolios, risk_free_rate):\n",
    "    results, _ = random_portfolios(num_portfolios,mean_returns, cov_matrix, risk_free_rate)\n",
    "    \n",
    "    max_sharpe = max_sharpe_ratio(mean_returns, cov_matrix, risk_free_rate)\n",
    "    sdp, rp = portfolio_annualised_performance(max_sharpe['x'], mean_returns, cov_matrix)\n",
    "    max_sharpe_allocation = pd.DataFrame(max_sharpe.x,index=table.columns,columns=['allocation'])\n",
    "    max_sharpe_allocation.allocation = [round(i*100,2)for i in max_sharpe_allocation.allocation]\n",
    "    max_sharpe_allocation = max_sharpe_allocation.T\n",
    "    max_sharpe_allocation\n",
    "\n",
    "    min_vol = min_variance(mean_returns, cov_matrix)\n",
    "    sdp_min, rp_min = portfolio_annualised_performance(min_vol['x'], mean_returns, cov_matrix)\n",
    "    min_vol_allocation = pd.DataFrame(min_vol.x,index=table.columns,columns=['allocation'])\n",
    "    min_vol_allocation.allocation = [round(i*100,2)for i in min_vol_allocation.allocation]\n",
    "    min_vol_allocation = min_vol_allocation.T\n",
    "    \n",
    "    print \"-\"*80\n",
    "    print \"Maximum Sharpe Ratio Portfolio Allocation\\n\"\n",
    "    print \"Annualised Return:\", round(rp,2)\n",
    "    print \"Annualised Volatility:\", round(sdp,2)\n",
    "    print \"\\n\"\n",
    "    print max_sharpe_allocation\n",
    "    print \"-\"*80\n",
    "    print \"Minimum Volatility Portfolio Allocation\\n\"\n",
    "    print \"Annualised Return:\", round(rp_min,2)\n",
    "    print \"Annualised Volatility:\", round(sdp_min,2)\n",
    "    print \"\\n\"\n",
    "    print min_vol_allocation\n",
    "    \n",
    "    plt.figure(figsize=(10, 7))\n",
    "    plt.scatter(results[0,:],results[1,:],c=results[2,:],cmap='YlGnBu', marker='o', s=10, alpha=0.3)\n",
    "    plt.colorbar()\n",
    "    plt.scatter(sdp,rp,marker='*',color='r',s=500, label='Maximum Sharpe ratio')\n",
    "    plt.scatter(sdp_min,rp_min,marker='*',color='g',s=500, label='Minimum volatility')\n",
    "\n",
    "    target = np.linspace(rp_min, 0.32, 50)\n",
    "    efficient_portfolios = efficient_frontier(mean_returns, cov_matrix, target)\n",
    "    plt.plot([p['fun'] for p in efficient_portfolios], target, linestyle='-.', color='black', label='efficient frontier')\n",
    "    plt.title('Calculated Portfolio Optimization based on Efficient Frontier')\n",
    "    plt.xlabel('annualised volatility')\n",
    "    plt.ylabel('annualised returns')\n",
    "    plt.legend(labelspacing=0.8)"
   ]
  },
  {
   "cell_type": "code",
   "execution_count": 17,
   "metadata": {},
   "outputs": [
    {
     "output_type": "error",
     "ename": "NameError",
     "evalue": "name 'display_calculated_ef_with_random' is not defined",
     "traceback": [
      "\u001b[0;31m---------------------------------------------------------------------------\u001b[0m",
      "\u001b[0;31mNameError\u001b[0m                                 Traceback (most recent call last)",
      "\u001b[0;32m<ipython-input-17-6ad8cc3d9d0f>\u001b[0m in \u001b[0;36m<module>\u001b[0;34m\u001b[0m\n\u001b[0;32m----> 1\u001b[0;31m \u001b[0mdisplay_calculated_ef_with_random\u001b[0m\u001b[0;34m(\u001b[0m\u001b[0mmean_returns\u001b[0m\u001b[0;34m,\u001b[0m \u001b[0mcov_matrix\u001b[0m\u001b[0;34m,\u001b[0m \u001b[0mnum_portfolios\u001b[0m\u001b[0;34m,\u001b[0m \u001b[0mrisk_free_rate\u001b[0m\u001b[0;34m)\u001b[0m\u001b[0;34m\u001b[0m\u001b[0;34m\u001b[0m\u001b[0m\n\u001b[0m",
      "\u001b[0;31mNameError\u001b[0m: name 'display_calculated_ef_with_random' is not defined"
     ]
    }
   ],
   "source": [
    "display_calculated_ef_with_random(mean_returns, cov_matrix, num_portfolios, risk_free_rate)"
   ]
  },
  {
   "cell_type": "markdown",
   "metadata": {},
   "source": [
    "We have almost the same result as what we have simulated by picking from the randomly generated portfolios. The slight difference is that the Scipy's \"optimize\" function has not allocated any budget at all for Google on maximum Sharpe ratio portfolio, while one we chose from the randomly generated samples has 0.45% of allocation for Google. There are some differences in the decimal places but more or less same."
   ],
   "execution_count": null,
   "outputs": []
  },
  {
   "cell_type": "markdown",
   "metadata": {},
   "source": [
    "Instead of plotting every randomly generated portfolio, we can plot each individual stocks on the plot with the corresponding values of each stock's annual return and annual risk. This way we can see and compare how diversification is lowering the risk by optimising the allocation."
   ],
   "execution_count": null,
   "outputs": []
  },
  {
   "cell_type": "code",
   "execution_count": 18,
   "metadata": {
    "collapsed": true
   },
   "outputs": [
    {
     "output_type": "error",
     "ename": "SyntaxError",
     "evalue": "Missing parentheses in call to 'print'. Did you mean print(\"-\"*80)? (<ipython-input-18-759b386d05ea>, line 18)",
     "traceback": [
      "\u001b[0;36m  File \u001b[0;32m\"<ipython-input-18-759b386d05ea>\"\u001b[0;36m, line \u001b[0;32m18\u001b[0m\n\u001b[0;31m    print \"-\"*80\u001b[0m\n\u001b[0m            ^\u001b[0m\n\u001b[0;31mSyntaxError\u001b[0m\u001b[0;31m:\u001b[0m Missing parentheses in call to 'print'. Did you mean print(\"-\"*80)?\n"
     ]
    }
   ],
   "source": [
    "def display_ef_with_selected(mean_returns, cov_matrix, risk_free_rate):\n",
    "    max_sharpe = max_sharpe_ratio(mean_returns, cov_matrix, risk_free_rate)\n",
    "    sdp, rp = portfolio_annualised_performance(max_sharpe['x'], mean_returns, cov_matrix)\n",
    "    max_sharpe_allocation = pd.DataFrame(max_sharpe.x,index=table.columns,columns=['allocation'])\n",
    "    max_sharpe_allocation.allocation = [round(i*100,2)for i in max_sharpe_allocation.allocation]\n",
    "    max_sharpe_allocation = max_sharpe_allocation.T\n",
    "    max_sharpe_allocation\n",
    "\n",
    "    min_vol = min_variance(mean_returns, cov_matrix)\n",
    "    sdp_min, rp_min = portfolio_annualised_performance(min_vol['x'], mean_returns, cov_matrix)\n",
    "    min_vol_allocation = pd.DataFrame(min_vol.x,index=table.columns,columns=['allocation'])\n",
    "    min_vol_allocation.allocation = [round(i*100,2)for i in min_vol_allocation.allocation]\n",
    "    min_vol_allocation = min_vol_allocation.T\n",
    "    \n",
    "    an_vol = np.std(returns) * np.sqrt(252)\n",
    "    an_rt = mean_returns * 252\n",
    "    \n",
    "    print \"-\"*80\n",
    "    print \"Maximum Sharpe Ratio Portfolio Allocation\\n\"\n",
    "    print \"Annualised Return:\", round(rp,2)\n",
    "    print \"Annualised Volatility:\", round(sdp,2)\n",
    "    print \"\\n\"\n",
    "    print max_sharpe_allocation\n",
    "    print \"-\"*80\n",
    "    print \"Minimum Volatility Portfolio Allocation\\n\"\n",
    "    print \"Annualised Return:\", round(rp_min,2)\n",
    "    print \"Annualised Volatility:\", round(sdp_min,2)\n",
    "    print \"\\n\"\n",
    "    print min_vol_allocation\n",
    "    print \"-\"*80\n",
    "    print \"Individual Stock Returns and Volatility\\n\"\n",
    "    for i, txt in enumerate(table.columns):\n",
    "        print txt,\":\",\"annuaised return\",round(an_rt[i],2),\", annualised volatility:\",round(an_vol[i],2)\n",
    "    print \"-\"*80\n",
    "    \n",
    "    fig, ax = plt.subplots(figsize=(10, 7))\n",
    "    ax.scatter(an_vol,an_rt,marker='o',s=200)\n",
    "\n",
    "    for i, txt in enumerate(table.columns):\n",
    "        ax.annotate(txt, (an_vol[i],an_rt[i]), xytext=(10,0), textcoords='offset points')\n",
    "    ax.scatter(sdp,rp,marker='*',color='r',s=500, label='Maximum Sharpe ratio')\n",
    "    ax.scatter(sdp_min,rp_min,marker='*',color='g',s=500, label='Minimum volatility')\n",
    "\n",
    "    target = np.linspace(rp_min, 0.34, 50)\n",
    "    efficient_portfolios = efficient_frontier(mean_returns, cov_matrix, target)\n",
    "    ax.plot([p['fun'] for p in efficient_portfolios], target, linestyle='-.', color='black', label='efficient frontier')\n",
    "    ax.set_title('Portfolio Optimization with Individual Stocks')\n",
    "    ax.set_xlabel('annualised volatility')\n",
    "    ax.set_ylabel('annualised returns')\n",
    "    ax.legend(labelspacing=0.8)"
   ]
  },
  {
   "cell_type": "code",
   "execution_count": 19,
   "metadata": {},
   "outputs": [
    {
     "output_type": "error",
     "ename": "NameError",
     "evalue": "name 'display_ef_with_selected' is not defined",
     "traceback": [
      "\u001b[0;31m---------------------------------------------------------------------------\u001b[0m",
      "\u001b[0;31mNameError\u001b[0m                                 Traceback (most recent call last)",
      "\u001b[0;32m<ipython-input-19-bf0566bbf245>\u001b[0m in \u001b[0;36m<module>\u001b[0;34m\u001b[0m\n\u001b[0;32m----> 1\u001b[0;31m \u001b[0mdisplay_ef_with_selected\u001b[0m\u001b[0;34m(\u001b[0m\u001b[0mmean_returns\u001b[0m\u001b[0;34m,\u001b[0m \u001b[0mcov_matrix\u001b[0m\u001b[0;34m,\u001b[0m \u001b[0mrisk_free_rate\u001b[0m\u001b[0;34m)\u001b[0m\u001b[0;34m\u001b[0m\u001b[0;34m\u001b[0m\u001b[0m\n\u001b[0m",
      "\u001b[0;31mNameError\u001b[0m: name 'display_ef_with_selected' is not defined"
     ]
    }
   ],
   "source": [
    "display_ef_with_selected(mean_returns, cov_matrix, risk_free_rate)"
   ]
  },
  {
   "cell_type": "markdown",
   "metadata": {},
   "source": [
    "As you can see from the above plot, the stock with the least risk is Google at around 0.18. But with portfolio optimisation, we can achieve even lower risk at 0.16, and still with a higher return than Google. And if we are willing to take slightly more risk at around the similar level of risk of Google, we can achieve a much higher return of 0.30 with portfolio optimization."
   ],
   "execution_count": null,
   "outputs": []
  },
  {
   "cell_type": "markdown",
   "metadata": {},
   "source": [
    "Considering how vast and deep the finance field is, I've probably only scratched the surface. But I had fun going through coding and trying to understand the concept. And I'm learning every day. After finishing this implementation, I definitely know better than yesterday's me. And if I keep on going and learning, in about a couple of year's time, I will know a whole lot more than today's me. If you have any comments or questions, feel free to leave a comment. Any feedback would be appreciated."
   ],
   "execution_count": null,
   "outputs": []
  },
  {
   "cell_type": "code",
   "execution_count": null,
   "metadata": {
    "collapsed": true
   },
   "outputs": [],
   "source": []
  }
 ],
 "metadata": {
  "kernelspec": {
   "display_name": "Python 3",
   "language": "python",
   "name": "python3"
  },
  "language_info": {
   "codemirror_mode": {
    "name": "ipython",
    "version": 2
   },
   "file_extension": ".py",
   "mimetype": "text/x-python",
   "name": "python",
   "nbconvert_exporter": "python",
   "pygments_lexer": "ipython2",
   "version": "3.7.7-final"
  }
 },
 "nbformat": 4,
 "nbformat_minor": 2
}