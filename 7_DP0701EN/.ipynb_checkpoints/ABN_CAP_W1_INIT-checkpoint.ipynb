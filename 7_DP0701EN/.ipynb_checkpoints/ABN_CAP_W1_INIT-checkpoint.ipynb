{
 "cells": [
  {
   "cell_type": "markdown",
   "metadata": {
    "colab_type": "text",
    "id": "0S3Ji-gNHUCF"
   },
   "source": [
    "# ABN CAP W1"
   ]
  },
  {
   "cell_type": "code",
   "execution_count": 1,
   "metadata": {
    "colab": {},
    "colab_type": "code",
    "id": "_zs2hm0bHGoX"
   },
   "outputs": [],
   "source": [
    "# Import some basic libraries\n",
    "import numpy as np\n",
    "import pandas as pd\n"
   ]
  },
  {
   "cell_type": "code",
   "execution_count": 3,
   "metadata": {
    "colab": {
     "height": 34
    },
    "colab_type": "code",
    "executionInfo": {
     "elapsed": 23,
     "status": "ok",
     "timestamp": 1575281947245,
     "user": {
      "displayName": "Andre Baumann",
      "photoUrl": "https://lh3.googleusercontent.com/a-/AAuE7mAb9UVutDDEj3J_Qrzp2Yq0c7Sr1U0l8TtgWfRUL7I=s64",
      "userId": "11879374734917072255"
     },
     "user_tz": 0
    },
    "id": "mQK5B07hHpIa",
    "outputId": "d871fc18-99a4-41d3-808f-b9bc9d6cf6aa"
   },
   "outputs": [
    {
     "name": "stdout",
     "output_type": "stream",
     "text": [
      "Hello Coursera Capstone Project\n"
     ]
    }
   ],
   "source": [
    "print(\"Hello Coursera Capstone Project\")"
   ]
  },
  {
   "cell_type": "code",
   "execution_count": null,
   "metadata": {},
   "outputs": [],
   "source": []
  }
 ],
 "metadata": {
  "colab": {
   "last_runtime": {
    "build_target": "",
    "kind": "local"
   },
   "name": "ABN Coursera Capstone Project.ipynb",
   "provenance": []
  },
  "kernelspec": {
   "display_name": "Python 3",
   "language": "python",
   "name": "python3"
  },
  "language_info": {
   "codemirror_mode": {
    "name": "ipython",
    "version": 3
   },
   "file_extension": ".py",
   "mimetype": "text/x-python",
   "name": "python",
   "nbconvert_exporter": "python",
   "pygments_lexer": "ipython3",
   "version": "3.7.4"
  }
 },
 "nbformat": 4,
 "nbformat_minor": 1
}
