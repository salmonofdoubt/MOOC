{
  "nbformat": 4,
  "nbformat_minor": 0,
  "metadata": {
    "colab": {
      "name": "ABN Coursera Capstone Project.ipynb",
      "provenance": [],
      "last_runtime": {
        "build_target": "",
        "kind": "local"
      }
    },
    "kernelspec": {
      "name": "python2",
      "display_name": "Python 2"
    }
  },
  "cells": [
    {
      "cell_type": "markdown",
      "metadata": {
        "id": "0S3Ji-gNHUCF",
        "colab_type": "text"
      },
      "source": [
        "# ABN Coursera Capstone Project"
      ]
    },
    {
      "cell_type": "code",
      "metadata": {
        "id": "_zs2hm0bHGoX",
        "colab_type": "code",
        "colab": {}
      },
      "source": [
        "# Import some basic libraries\n",
        "import numpy as np\n",
        "import pandas as pd\n"
      ],
      "execution_count": 0,
      "outputs": []
    },
    {
      "cell_type": "code",
      "metadata": {
        "id": "mQK5B07hHpIa",
        "colab_type": "code",
        "colab": {
          "height": 34
        },
        "outputId": "d871fc18-99a4-41d3-808f-b9bc9d6cf6aa",
        "executionInfo": {
          "status": "ok",
          "timestamp": 1575281947245,
          "user_tz": 0,
          "elapsed": 23,
          "user": {
            "displayName": "Andre Baumann",
            "photoUrl": "https://lh3.googleusercontent.com/a-/AAuE7mAb9UVutDDEj3J_Qrzp2Yq0c7Sr1U0l8TtgWfRUL7I=s64",
            "userId": "11879374734917072255"
          }
        }
      },
      "source": [
        "print(\"Hello Coursera Capstone Project\")"
      ],
      "execution_count": 3,
      "outputs": [
        {
          "output_type": "stream",
          "text": [
            "Hello Coursera Capstone Project\n"
          ],
          "name": "stdout"
        }
      ]
    }
  ]
}