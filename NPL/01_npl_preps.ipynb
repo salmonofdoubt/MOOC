{
 "cells": [
  {
   "cell_type": "markdown",
   "metadata": {},
   "source": [
    "# Summary\n",
    "\n",
    "## Course home\n",
    "https://www.udemy.com/course/modern-nlp/learn/lecture/16985276?start=1#overview\n",
    " \n",
    "## Different parts of the course and the links to the Google Colab\n",
    "\n",
    "1. Introduction\n",
    "\n",
    "2. CNN for NLP - Intuition\n",
    "\n",
    "3. CNN for NLP - Application (sentimental analyser):\n",
    "        Google Colab file: https://colab.research.google.com/drive/1sFa6yosp2bBoB19YLQ07jn_Ic1urU836\n",
    "        Data link: http://cs.stanford.edu/people/alecmgo/trainingandtestdata.zip\n",
    "\n",
    "4. Transformer - Intuition\n",
    "        \"Attention is all you need\" paper: https://papers.nips.cc/paper/7181-attention-is-all-you-need.pdf\n",
    "\n",
    "5. Transformer - Application (Eng - Fr translator):\n",
    "        Google Colab file: https://colab.research.google.com/drive/1i4a26jVRVsAIfAGCe5pnl4l51B6GvjWs\n",
    "        Data link: http://www.statmt.org/europarl/ for all pairs\n",
    "                          http://www.statmt.org/europarl/v7/fr-en.tgz for the En-Fr in the course\n",
    "                          https://drive.google.com/file/d/14wOcOrg8YJWXze6RvMy1cisDJKaFukff/view?usp=sharing for nonbreaking_prefix.en\n",
    "                          https://drive.google.com/file/d/1z4iM2n4t1guAxHZ0URfmzrjz3zknW64L/view?usp=sharing for nonbreaking_prefix_fr"
   ]
  }
 ],
 "metadata": {
  "language_info": {
   "codemirror_mode": {
    "name": "ipython",
    "version": 3
   },
   "file_extension": ".py",
   "mimetype": "text/x-python",
   "name": "python",
   "nbconvert_exporter": "python",
   "pygments_lexer": "ipython3",
   "version": 3
  },
  "orig_nbformat": 2
 },
 "nbformat": 4,
 "nbformat_minor": 2
}